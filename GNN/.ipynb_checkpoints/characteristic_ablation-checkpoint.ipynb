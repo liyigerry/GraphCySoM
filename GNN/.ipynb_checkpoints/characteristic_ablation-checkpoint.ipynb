{
 "cells": [
  {
   "cell_type": "code",
   "execution_count": 1,
   "id": "f1b1d257-2cbb-4c01-b067-aafa08033571",
   "metadata": {},
   "outputs": [],
   "source": [
    "from rdkit import Chem\n",
    "import torch\n",
    "from torch_geometric.data import Dataset, Data, DataLoader\n",
    "from torch_geometric import loader\n",
    "import os\n",
    "import random\n",
    "import numpy as np\n",
    "import pandas as pd\n",
    "import networkx as nx\n",
    "import torch.nn as nn\n",
    "from torch.nn import Sequential as Seq, Linear as Lin, ReLU\n",
    "import torch.nn.functional as F\n",
    "from sklearn.manifold import TSNE\n",
    "import matplotlib.pyplot as plt\n",
    "from torch_geometric.nn import GATConv, GCNConv, GINConv, MFConv, SAGEConv\n",
    "from torch_geometric.nn import global_add_pool\n",
    "from torch.utils.data import random_split\n",
    "import pickle\n",
    "from tqdm import tqdm\n",
    "from torch_geometric.utils import from_networkx\n",
    "from sklearn.metrics import confusion_matrix, roc_auc_score, accuracy_score, precision_score, f1_score, recall_score, jaccard_score, balanced_accuracy_score"
   ]
  },
  {
   "cell_type": "markdown",
   "id": "2d68a033-cd49-4735-b5bb-d39976276e0d",
   "metadata": {},
   "source": [
    "# 0 数据处理"
   ]
  },
  {
   "cell_type": "markdown",
   "id": "a2e98369-9c42-42dc-a0fc-e95fc9d1ea4b",
   "metadata": {},
   "source": [
    "## 0.1 读取数据"
   ]
  },
  {
   "cell_type": "code",
   "execution_count": 2,
   "id": "48f79b4d-f95f-4609-96e2-6428bf9e428c",
   "metadata": {},
   "outputs": [],
   "source": [
    "train_datapath = '/home/dldx/DATA/JXDATA/GitHubProjects/GraphCySoM/datasets/train_datsets.pkl'\n",
    "test_datapath = '/home/dldx/DATA/JXDATA/GitHubProjects/GraphCySoM/datasets/test_datsets.pkl'\n",
    "fr = open(train_datapath, 'rb')\n",
    "train_data = pickle.load(fr)\n",
    "fe = open(test_datapath, 'rb')\n",
    "test_data = pickle.load(fe)"
   ]
  },
  {
   "cell_type": "markdown",
   "id": "b57f89a7-2614-4d38-8ed9-19a1a806792d",
   "metadata": {},
   "source": [
    "## 0.2 提取特征"
   ]
  },
  {
   "cell_type": "code",
   "execution_count": 3,
   "id": "3ff25af0-e728-471d-b318-4987c8997c00",
   "metadata": {},
   "outputs": [],
   "source": [
    "train_data_list = {}\n",
    "test_data_list = {}\n",
    "for i in range(1, 9):\n",
    "    binNumber = bin(i)[2:].zfill(3)\n",
    "    traits_ = ''.join(binNumber)\n",
    "    new_train_data = []\n",
    "    new_test_data = []\n",
    "    for index, train_ in enumerate(train_data):\n",
    "        # 初始化 data_ 为一个空张量\n",
    "        train_data_ = None\n",
    "        train_x_10 = train_.x[:, :10]\n",
    "        train_x_16 = train_.x[:, 10:26]\n",
    "        train_x_3 = train_.x[:, 26:]\n",
    "        if traits_[0] == '1':\n",
    "            train_data_ = train_x_10\n",
    "        if traits_[1] == '1':\n",
    "            train_data_ = torch.cat((train_data_, train_x_16), dim=1) if train_data_ is not None else train_x_16 \n",
    "        if traits_[2] == '1':\n",
    "            train_data_ = torch.cat((train_data_, train_x_3), dim=1) if train_data_ is not None else train_x_3\n",
    "        new_data_ = Data(\n",
    "            x=train_data_,\n",
    "            edge_index=train_.edge_index,\n",
    "            edge_attr=train_.edge_attr,\n",
    "            y=train_.y,\n",
    "            target=train_.target,\n",
    "            name=train_.name,\n",
    "            n_index=train_.n_index,\n",
    "            subgraph_node1=train_.subgraph_node1,\n",
    "            subgraph_node2=train_.subgraph_node2\n",
    "        )\n",
    "        new_train_data.append(new_data_)\n",
    "    train_data_list[traits_] = new_train_data\n",
    "    for test_ in test_data:\n",
    "        # 初始化 data_ 为一个空张量\n",
    "        test_data_ = None\n",
    "        test_x_10 = test_.x[:, :10]\n",
    "        test_x_16 = test_.x[:, 10:26]\n",
    "        test_x_3 = test_.x[:, 26:]\n",
    "        if traits_[0] == '1':\n",
    "            test_data_ = test_x_10\n",
    "        if traits_[1] == '1':\n",
    "            test_data_ = torch.cat((test_data_, test_x_16), dim=1) if test_data_ is not None else test_x_16 \n",
    "        if traits_[2] == '1':\n",
    "            test_data_ = torch.cat((test_data_, test_x_3), dim=1) if test_data_ is not None != 0 else test_x_3 \n",
    "        new_data_ = Data(\n",
    "            x=test_data_,\n",
    "            edge_index=test_.edge_index,\n",
    "            edge_attr=test_.edge_attr,\n",
    "            y=test_.y,\n",
    "            target=test_.target,\n",
    "            name=test_.name,\n",
    "            n_index=test_.n_index,\n",
    "            subgraph_node1=test_.subgraph_node1,\n",
    "            subgraph_node2=test_.subgraph_node2\n",
    "        )\n",
    "        new_test_data.append(new_data_)\n",
    "    test_data_list[traits_] = new_test_data"
   ]
  },
  {
   "cell_type": "markdown",
   "id": "b5a9bbba-c943-4ee9-a2b8-acc10840acd1",
   "metadata": {},
   "source": [
    "## 0.3 数据规范化"
   ]
  },
  {
   "cell_type": "code",
   "execution_count": 4,
   "id": "5b6ff1ef-8486-47ad-9544-f59ce5acf83f",
   "metadata": {},
   "outputs": [],
   "source": [
    "def get_loader_data(train_data, test_data, batch_size):\n",
    "    training_set, validation_set = random_split(train_data, [int(len(train_data) * 0.85), len(train_data) - int(len(train_data) * 0.85)], generator=torch.Generator().manual_seed(12345))\n",
    "    train_loader = loader.DataLoader(training_set, batch_size, shuffle=True)\n",
    "    val_loader = loader.DataLoader(validation_set, batch_size, shuffle=True)\n",
    "    test_loader = loader.DataLoader(test_data, batch_size, shuffle=False)\n",
    "    return train_loader, val_loader, test_loader"
   ]
  },
  {
   "cell_type": "markdown",
   "id": "f53102d6-b39d-4294-bce7-0a51672aa82c",
   "metadata": {},
   "source": [
    "## 0.4 设置常数"
   ]
  },
  {
   "cell_type": "code",
   "execution_count": 5,
   "id": "011e3dc0-288c-466e-b952-c1b95b6e20bf",
   "metadata": {},
   "outputs": [],
   "source": [
    "RANDOM_NUMBERS = 12345 # 随机数\n",
    "batchSize = 1"
   ]
  },
  {
   "cell_type": "markdown",
   "id": "8a861549-e3dc-4549-a36d-15a4ec9a53e2",
   "metadata": {},
   "source": [
    "## 0.5 设置随机数"
   ]
  },
  {
   "cell_type": "code",
   "execution_count": 6,
   "id": "8e1d1eb9-2c34-4f9a-a1da-c95b800cb526",
   "metadata": {},
   "outputs": [],
   "source": [
    "np.set_printoptions(threshold=np.inf)\n",
    "def seed_torch(seed=RANDOM_NUMBERS):\n",
    "    # 设置种子可以确保每次运行代码时生成的随机数相同。\n",
    "    random.seed(seed)\n",
    "    os.environ['PYTHONHASHSEED'] = str(seed) \n",
    "    np.random.seed(seed)\n",
    "    torch.manual_seed(seed)\n",
    "    torch.cuda.manual_seed(seed)\n",
    "    torch.cuda.manual_seed_all(seed)"
   ]
  },
  {
   "cell_type": "markdown",
   "id": "6e51a2d2-957b-4bc8-8814-f42bd9315b9c",
   "metadata": {},
   "source": [
    "## 0.6 数据输出"
   ]
  },
  {
   "cell_type": "code",
   "execution_count": 7,
   "id": "51fe88f7-a779-4e82-a485-451b1c010c29",
   "metadata": {},
   "outputs": [],
   "source": [
    "def out_data(data, save_path):\n",
    "    pass"
   ]
  },
  {
   "cell_type": "markdown",
   "id": "f617e261-8234-4c14-9a73-95c9c093b148",
   "metadata": {},
   "source": [
    "# 1 设置模型"
   ]
  },
  {
   "cell_type": "code",
   "execution_count": 8,
   "id": "ba157222-5ed6-40e5-af28-b48b566290ed",
   "metadata": {},
   "outputs": [],
   "source": [
    "class ALLModel(nn.Module):\n",
    "    def __init__(self, args):\n",
    "        super(ALLModel, self).__init__()\n",
    "        num_classes = 2\n",
    "\n",
    "        conv_hidden = args['conv_hidden']\n",
    "        traits_number = args['traits_number']\n",
    "        cls_hidden = args['cls_hidden']\n",
    "        self.layer_number = args['layer_number']\n",
    "        self.device = args['device']\n",
    "        self.conv = nn.ModuleList()\n",
    "        if args['model_name'] != 'GIN':\n",
    "            for i in range(self.layer_number):\n",
    "                if i == 0:\n",
    "                    self.conv.append(args['conv'](traits_number, conv_hidden))\n",
    "                else:\n",
    "                    self.conv.append(args['conv'](conv_hidden, conv_hidden))\n",
    "        else:\n",
    "            from torch.nn import Sequential as Seq, Linear as Lin, ReLU\n",
    "            for i in range(self.layer_number):\n",
    "                if i == 0:\n",
    "                    nn_ = Seq(Lin(traits_number, conv_hidden), ReLU(), Lin(conv_hidden, conv_hidden))\n",
    "                    self.conv.append(args['conv'](nn_))\n",
    "                else:\n",
    "                    nn_ = Seq(Lin(conv_hidden, conv_hidden), ReLU(), Lin(conv_hidden, conv_hidden))\n",
    "                    self.conv.append(args['conv'](nn_))\n",
    "\n",
    "        self.conv = self.conv.to(self.device)\n",
    "        \n",
    "        self.linear1 = nn.Linear(conv_hidden, cls_hidden)\n",
    "        self.linear2 = nn.Linear(cls_hidden, num_classes)\n",
    "        self.relu = nn.ReLU()\n",
    "        self.drop1 = nn.Dropout(p=0.5)\n",
    "\n",
    "    def forward(self, mol):\n",
    "        x = mol.x.to(self.device)\n",
    "        edge_index = mol.edge_index.to(self.device)\n",
    "        res = x\n",
    "        for i in range(self.layer_number):\n",
    "            res = self.conv[i](res, edge_index)\n",
    "        \n",
    "        res = self.linear1(res)\n",
    "        res = self.relu(res)\n",
    "        res = self.drop1(res)\n",
    "        res = self.linear2(res)\n",
    "        return res"
   ]
  },
  {
   "cell_type": "markdown",
   "id": "7ff8e8fa-9d90-4297-9fa9-0deca444ac45",
   "metadata": {},
   "source": [
    "# 2 设置评估指标"
   ]
  },
  {
   "cell_type": "code",
   "execution_count": 9,
   "id": "62783958-fe1c-4dd6-a004-c64a48802f47",
   "metadata": {},
   "outputs": [],
   "source": [
    "def top2(output, label):\n",
    "    sf = nn.Softmax(dim=1)\n",
    "    preds = sf(output)\n",
    "    preds = preds[:, 1]\n",
    "    _, indices = torch.topk(preds, 2)\n",
    "    pos_index = []\n",
    "    for i in range(label.shape[0]):\n",
    "        if label[i] == 1:\n",
    "            pos_index.append(i)  \n",
    "    for li in pos_index:\n",
    "        if li in indices:\n",
    "            return True\n",
    "    return False\n",
    "\n",
    "def MCC(output, label):\n",
    "    tn,fp,fn,tp=confusion_matrix(label, output).ravel()\n",
    "    up = (tp * tn) - (fp * fn)\n",
    "    down = ((tp + fp) * (tp + fn) * (tn + fp) * (tn + fn)) ** 0.5\n",
    "    if down == 0: down = 1e-10\n",
    "    return up / down\n",
    "\n",
    "def metrics(output, label):\n",
    "    tn,fp,fn,tp=confusion_matrix(label, output).ravel()\n",
    "    up = (tp * tn) - (fp * fn)\n",
    "    down = ((tp + fp) * (tp + fn) * (tn + fp) * (tn + fn)) ** 0.5\n",
    "    if down == 0: down = 1e-10\n",
    "    mcc = up / down\n",
    "    selectivity = tn / (tn + fp + 1e-10)\n",
    "    recall = tp / (tp + fn + 1e-10)\n",
    "    g_mean = (selectivity * recall) ** 0.5\n",
    "    balancedAccuracy = (recall + selectivity) / 2\n",
    "    return mcc, selectivity, recall, g_mean, balancedAccuracy"
   ]
  },
  {
   "cell_type": "raw",
   "id": "ede616d8-c17f-451c-a7ac-993c97a6d23f",
   "metadata": {},
   "source": [
    "## 2.1 ACC指标[准确率][分类正确的样本数占总样本数的比例]\n",
    "## 2.2 AveLoss指标[平均损失][模型在验证集或测试集上的平均损失值]\n",
    "## 2.3 Top2指标[实际类别比例][预测得分最高的两个类中包含实际类别的比例]\n",
    "## 2.4 AUC指标[曲线下面积][衡量模型区分正负样本的能力]\n",
    "## 2.5 MCC指标[马修斯相关系数][衡量二分类模型预测质量]\n",
    "## 2.6 Jaccard指标[Jaccard相似系数][比较有限样本集之间相似性]\n",
    "## 2.7 Precision指标[精确率][预测正确的概率]\n",
    "## 2.8 Recall指标[召回率][模型正确识别出正例的能力]\n",
    "## 2.9 F1指标[F1分数][精确率和召回率的调和平均数]\n",
    "## 2.10 selectivity指标[选择性][模型拒绝非目标类别的能力]\n",
    "## 2.11 g_mean指标[敏感与特异性几何平均值][试图同时最大化敏感性和特异性，适用于类别不平衡的情况]\n",
    "## 2.12 balancedAcc指标[平衡准确率][对每个类别的准确率求平均，从而得到一个不受类别不平衡影响的准确率度量]"
   ]
  },
  {
   "cell_type": "markdown",
   "id": "2dddefec-c06d-4b61-af5a-d2b40e1217ac",
   "metadata": {},
   "source": [
    "# 3 模型操作"
   ]
  },
  {
   "cell_type": "markdown",
   "id": "5b0c14f1-8725-447e-a398-0ecbcda6d88e",
   "metadata": {},
   "source": [
    "## 3.1 训练"
   ]
  },
  {
   "cell_type": "code",
   "execution_count": 10,
   "id": "fd3ff710-081a-4a8f-bbc4-eab21db72093",
   "metadata": {},
   "outputs": [],
   "source": [
    "def train(args, model, training_set, optimizer, criterion):\n",
    "    model.train()\n",
    "    sf = nn.Softmax(dim=1)\n",
    "    total_loss = 0\n",
    "    all_pred = []\n",
    "    all_pred_raw = []\n",
    "    all_labels = []\n",
    "    top2n = 0\n",
    "    model = model.to(args['device'])\n",
    "    for mol in training_set:\n",
    "        mol = mol.to(args['device'])\n",
    "        mol.x = mol.x.to(torch.float32)\n",
    "        target = mol.y\n",
    "        \n",
    "        optimizer.zero_grad()\n",
    "        output = model(mol)\n",
    "        loss = criterion(output, target)\n",
    "        loss.backward()\n",
    "        optimizer.step()\n",
    "        \n",
    "        \n",
    "        total_loss += loss.item()\n",
    "        \n",
    "        # tracking\n",
    "        top2n += top2(output, target)\n",
    "        all_pred.append(np.argmax(output.cpu().detach().numpy(), axis=1))\n",
    "        all_pred_raw.append(sf(output)[:, 1].cpu().detach().numpy())\n",
    "        all_labels.append(target.cpu().detach().numpy())\n",
    "\n",
    "    all_pred = np.concatenate(all_pred).ravel()\n",
    "    all_pred_raw = np.concatenate(all_pred_raw).ravel()\n",
    "    all_labels = np.concatenate(all_labels).ravel()\n",
    "    mcc, selectivity, recall, g_mean, balanced_acc = metrics(all_pred, all_labels)\n",
    "    train_data_frame = pd.DataFrame(\n",
    "        [{\n",
    "            '层数': args['layer_number'],\n",
    "            '特征': args['traits_number_str'],\n",
    "            '轮次': args['current_epoch'],\n",
    "            '模型': args['model_name'],\n",
    "            'ACC': accuracy_score(all_labels, all_pred),\n",
    "            'Ave_loss': total_loss / len(training_set),\n",
    "            'Top2': top2n / len(training_set),\n",
    "            'AUC': roc_auc_score(all_labels, all_pred_raw),\n",
    "            'MCC': mcc,\n",
    "            'Jaccard': jaccard_score(all_labels, all_pred),\n",
    "            'Precision': precision_score(all_labels, all_pred, zero_division=args['zero_division']),\n",
    "            'Recall': recall,\n",
    "            'F1': f1_score(all_labels, all_pred),\n",
    "            'Selectivity': selectivity,\n",
    "            'G_mean': g_mean,\n",
    "            'Balanced_acc': balanced_acc,\n",
    "        }],\n",
    "        columns=['层数', '特征', '轮次', '模型', 'ACC', 'Ave_loss', 'Top2', 'AUC', 'MCC', 'Jaccard', 'Precision', 'Recall', 'F1', 'Selectivity', 'G_mean', 'Balanced_acc'],\n",
    "        index=[0],\n",
    "    )\n",
    "    # train_data_frame.to_csv(args['train_result_path'])\n",
    "    return train_data_frame"
   ]
  },
  {
   "cell_type": "markdown",
   "id": "7547be90-b20d-40ea-a070-4346d08fd701",
   "metadata": {},
   "source": [
    "## 3.2 评估"
   ]
  },
  {
   "cell_type": "code",
   "execution_count": 11,
   "id": "9b8c9a04-4c0b-4fca-bbaf-a12bcd00ec71",
   "metadata": {},
   "outputs": [],
   "source": [
    "def val(model, device, val_set, optimizer, criterion):\n",
    "    model.eval()\n",
    "    sf = nn.Softmax(dim=1)\n",
    "    top2n = 0\n",
    "    for mol in val_set:\n",
    "        mol = mol.to(device)\n",
    "        mol.x = mol.x.to(torch.float32)\n",
    "        target = mol.y\n",
    "        optimizer.zero_grad()\n",
    "        output = model(mol).to(device)\n",
    "        loss = criterion(output, target)\n",
    "        loss.backward()\n",
    "        optimizer.step()\n",
    "        # tracking\n",
    "        top2n += top2(output, target)\n",
    "    return top2n / len(val_set)\n",
    "\n",
    "def val2(\n",
    "    args,\n",
    "    model,\n",
    "    val_set, \n",
    "    optimizer, \n",
    "    criterion,\n",
    "):\n",
    "    model.eval()\n",
    "    sf = nn.Softmax(dim=1)\n",
    "    total_loss = 0\n",
    "    all_pred = []\n",
    "    all_pred_raw = []\n",
    "    all_labels = []\n",
    "    top2n = 0\n",
    "    for mol in val_set:\n",
    "        mol = mol.to(args['device'])\n",
    "        mol.x = mol.x.to(torch.float32)\n",
    "        target = mol.y\n",
    "        optimizer.zero_grad()\n",
    "        output = model(mol)\n",
    "        loss = criterion(output, target)\n",
    "        loss.backward()\n",
    "        optimizer.step()\n",
    "        total_loss += loss.item()\n",
    "        # tracking\n",
    "        top2n += top2(output, target)\n",
    "        all_pred.append(np.argmax(output.cpu().detach().numpy(), axis=1))\n",
    "        all_pred_raw.append(sf(output)[:, 1].cpu().detach().numpy())\n",
    "        all_labels.append(target.cpu().detach().numpy())\n",
    "    all_pred = np.concatenate(all_pred).ravel()\n",
    "    all_pred_raw = np.concatenate(all_pred_raw).ravel()\n",
    "    all_labels = np.concatenate(all_labels).ravel()\n",
    "    mcc, selectivity, recall, g_mean, balanced_acc = metrics(all_pred, all_labels)\n",
    "    val_data_frame = pd.DataFrame(\n",
    "        [{\n",
    "            '层数': args['layer_number'],\n",
    "            '特征': args['traits_number_str'],\n",
    "            '轮次': args['current_epoch'],\n",
    "            '模型': args['model_name'],\n",
    "            'ACC': accuracy_score(all_labels, all_pred),\n",
    "            'Ave_loss': None,\n",
    "            'Top2': top2n / len(val_set),\n",
    "            'AUC': roc_auc_score(all_labels, all_pred_raw),\n",
    "            'MCC': mcc,\n",
    "            'Jaccard': jaccard_score(all_labels, all_pred),\n",
    "            'Precision': precision_score(all_labels, all_pred, zero_division=args['zero_division']),\n",
    "            'Recall': recall,\n",
    "            'F1': f1_score(all_labels, all_pred),\n",
    "            'Selectivity': selectivity,\n",
    "            'G_mean': g_mean,\n",
    "            'Balanced_acc': balanced_acc,\n",
    "        }],\n",
    "        columns=['层数', '特征', '轮次', '模型', 'ACC', 'Ave_loss', 'Top2', 'AUC', 'MCC', 'Jaccard', 'Precision', 'Recall', 'F1', 'Selectivity', 'G_mean', 'Balanced_acc'],\n",
    "        index=[0],\n",
    "    )\n",
    "    val_data_frame.to_csv(args['val_result_path'])\n",
    "    return val_data_frame"
   ]
  },
  {
   "cell_type": "markdown",
   "id": "697e756d-1c23-47be-a5cf-6f6b5d8bd2f7",
   "metadata": {},
   "source": [
    "## 3.3 预测"
   ]
  },
  {
   "cell_type": "code",
   "execution_count": 12,
   "id": "25781e5f-65d4-41bc-9cf7-f3cb84cf48e4",
   "metadata": {},
   "outputs": [],
   "source": [
    "def test(args, model, test_set):\n",
    "    model.eval()\n",
    "    sf = nn.Softmax(dim=1)\n",
    "    all_pred = []\n",
    "    all_pred_raw = []\n",
    "    all_labels = []\n",
    "    top2n = 0\n",
    "    with torch.no_grad():\n",
    "        for mol in test_set:\n",
    "            mol = mol.to(args['device'])\n",
    "            mol.x = mol.x.to(torch.float32)\n",
    "            mol.edge_attr = mol.edge_attr.to(torch.float32)\n",
    "            target = mol.y\n",
    "            output = model(mol)\n",
    "            # squeeze\n",
    "            output = torch.squeeze(output)\n",
    "            # tracking\n",
    "            top2n += top2(output, target)\n",
    "            all_pred.append(np.argmax(output.cpu().detach().numpy(), axis=1))\n",
    "            all_pred_raw.append(sf(output)[:, 1].cpu().detach().numpy())\n",
    "            all_labels.append(target.cpu().detach().numpy())\n",
    "    all_pred = np.concatenate(all_pred).ravel()\n",
    "    all_pred_raw = np.concatenate(all_pred_raw).ravel()\n",
    "    all_labels = np.concatenate(all_labels).ravel()\n",
    "    mcc, selectivity, recall, g_mean, balanced_acc = metrics(all_pred, all_labels)\n",
    "    test_data_frame = pd.DataFrame(\n",
    "        [{\n",
    "            '层数': args['layer_number'],\n",
    "            '特征': args['traits_number_str'],\n",
    "            '轮次': args['current_epoch'],\n",
    "            '模型': args['model_name'],\n",
    "            'ACC': accuracy_score(all_labels, all_pred),\n",
    "            'Ave_loss': None,\n",
    "            'Top2': top2n / len(test_set),\n",
    "            'AUC': roc_auc_score(all_labels, all_pred_raw),\n",
    "            'MCC': mcc,\n",
    "            'Jaccard': jaccard_score(all_labels, all_pred),\n",
    "            'Precision': precision_score(all_labels, all_pred, zero_division=args['zero_division']),\n",
    "            'Recall': recall,\n",
    "            'F1': f1_score(all_labels, all_pred),\n",
    "            'Selectivity': selectivity,\n",
    "            'G_mean': g_mean,\n",
    "            'Balanced_acc': balanced_acc,\n",
    "        }],\n",
    "        columns=[\n",
    "            '层数', '特征', '轮次', '模型', \n",
    "            'ACC', 'Ave_loss', 'Top2', 'AUC', 'MCC', \n",
    "            'Jaccard', 'Precision', 'Recall', 'F1', \n",
    "            'Selectivity', 'G_mean', 'Balanced_acc'],\n",
    "        index=[0],\n",
    "    )\n",
    "    print(\n",
    "        f'[{test_data_frame[\"层数\"][0]}]层'\n",
    "        f'[{test_data_frame[\"特征\"][0]}]特征'\n",
    "        f'[{test_data_frame[\"轮次\"][0]}]轮'\n",
    "        f'[{test_data_frame[\"模型\"][0]}]模型\\n'\n",
    "        # f'ACC: [{test_data_frame[\"ACC\"][0]}]\\n'\n",
    "        # f'Ave_loss: [{test_data_frame[\"Ave_loss\"][0]}]\\n'\n",
    "        f'Top2分数[{test_data_frame[\"Top2\"][0]}]'\n",
    "        # f'AUC: [{test_data_frame[\"AUC\"][0]}]\\n'\n",
    "        # f'MCC: [{test_data_frame[\"MCC\"][0]}]\\n'\n",
    "        # f'Selectivity: [{test_data_frame[\"Selectivity\"][0]}]\\n'\n",
    "        # f'Recall: [{test_data_frame[\"Recall\"][0]}]\\n'\n",
    "        # f'G_mean: [{test_data_frame[\"G_mean\"][0]}]\\n'\n",
    "        # f'Balanced_acc: [{test_data_frame[\"Balanced_acc\"][0]}]\\n'\n",
    "        # f'F1: [{test_data_frame[\"F1\"][0]}]\\n'\n",
    "        # f'Precision: [{test_data_frame[\"Precision\"][0]}]\\n'\n",
    "        # f'Jaccard: [{test_data_frame[\"Jaccard\"][0]}]'\n",
    "    )\n",
    "    test_data_frame.to_csv(args[\"test_result_path\"])\n",
    "    # print('test_data_frame = ', test_data_frame)\n",
    "\n",
    "    return test_data_frame"
   ]
  },
  {
   "cell_type": "markdown",
   "id": "1a7c1700-ae8d-47db-a360-4aa37b47dde6",
   "metadata": {},
   "source": [
    "# 4 主函数"
   ]
  },
  {
   "cell_type": "code",
   "execution_count": 13,
   "id": "4b680fe6-414b-4631-be23-bd6bc45f2951",
   "metadata": {},
   "outputs": [],
   "source": [
    "def main(\n",
    "    args, \n",
    "    train_loader, \n",
    "    val_loader, \n",
    "    test_loader,\n",
    "    is_del=False,\n",
    "):\n",
    "    seed_torch(args['seed'])\n",
    "    torch.manual_seed(args['seed'])\n",
    "    new_model_dir = os.path.join(args['model_dir'], args['traits_number_str'])\n",
    "    new_result_dir = os.path.join(args['result_dir'], args['traits_number_str'])\n",
    "    if not os.path.exists(new_model_dir): os.mkdir(new_model_dir)\n",
    "    if not os.path.exists(new_result_dir): os.mkdir(new_result_dir)\n",
    "    test_result_dict = result_dict\n",
    "    test_results_path = os.path.join(\n",
    "        new_result_dir, \n",
    "        '_'+str(args['layer_number'])+args['traits_number_str']+'_test.csv')\n",
    "    new_new_model_dir = os.path.join(new_model_dir, args['model_name'])\n",
    "    new_new_result_dir = os.path.join(new_result_dir, args['model_name'])\n",
    "    val_results_dir = os.path.join(new_new_result_dir, 'valResults')\n",
    "    if not os.path.exists(new_new_model_dir): os.mkdir(new_new_model_dir)\n",
    "    if not os.path.exists(new_new_result_dir): os.mkdir(new_new_result_dir)\n",
    "    if not os.path.exists(val_results_dir): os.mkdir(val_results_dir)\n",
    "    \n",
    "    args['train_result_path'] = os.path.join(\n",
    "        new_result_dir, \n",
    "        '_'+str(args['layer_number'])+'_'+args['traits_number_str']+'_'+\n",
    "        args['model_name']+'_train.csv')\n",
    "    val_results_path = os.path.join(\n",
    "            new_new_result_dir, \n",
    "            '_'+str(args['layer_number'])+'_'+args['traits_number_str']+'_'+\n",
    "            args['model_name']+'_val.csv')\n",
    "    test_results_path_ = os.path.join(\n",
    "            new_new_result_dir, \n",
    "            '_'+str(args['layer_number'])+'_'+args['traits_number_str']+'_'+\n",
    "            args['model_name']+'_test.csv')\n",
    "    args['model_path'] = os.path.join(new_new_model_dir, '_'+args['traits_number_str']+'_'+args['model_name']+'.pt')\n",
    "    train_result_dict = result_dict\n",
    "    val_result_dict = result_dict\n",
    "    model = ALLModel(args).to(args['device'])\n",
    "    weights = torch.tensor([1, args['pos_weight']], dtype=torch.float32).to(args['device'])\n",
    "    loss_fn = torch.nn.CrossEntropyLoss(weight=weights)\n",
    "    optimizer = torch.optim.SGD(model.parameters(), lr=args['lr'])\n",
    "    scheduler = torch.optim.lr_scheduler.ExponentialLR(optimizer, gamma=0.95)\n",
    "    max_top2 = 0\n",
    "    max_number_ = 0\n",
    "    for epoch in tqdm(\n",
    "        range(1, args['epoch'] + 1), \n",
    "        total=args['epoch'], \n",
    "        desc=f'总进度[111/{args[\"traits_number_str\"]}]当前模型[{args[\"model_name\"]}]'):\n",
    "        args['current_epoch'] = str(epoch)\n",
    "        a_train_dict = train(args, model, train_loader, optimizer, loss_fn)\n",
    "        train_result_dict = pd.concat([train_result_dict, a_train_dict]).reset_index(drop=True)\n",
    "        top2acc = val(model, args['device'], val_loader, optimizer, loss_fn)\n",
    "        scheduler.step()\n",
    "        max_number_ += 1\n",
    "        if max_number_ > args['max_number']: break\n",
    "        if top2acc > max_top2:\n",
    "            max_number_ = 0\n",
    "            max_top2 = top2acc\n",
    "            args['val_result_path'] = os.path.join(\n",
    "                val_results_dir, \n",
    "                args['model_name']+str(args['layer_number'])+args['current_epoch']+\n",
    "                '_val.csv')\n",
    "            a_val_dict = val2(args, model, val_loader, optimizer, loss_fn)\n",
    "            val_result_dict = pd.concat([val_result_dict, a_val_dict]).reset_index(drop=True)\n",
    "            torch.save(model.state_dict(), args['model_path'])\n",
    "            a_test_dict = test(args, model, test_loader)\n",
    "            test_result_dict = pd.concat([test_result_dict, a_test_dict]).reset_index(drop=True)\n",
    "            test_result_dict.to_csv(test_results_path_)\n",
    "    train_result_dict.to_csv(args['train_result_path'])\n",
    "    val_result_dict.to_csv(val_results_path)\n",
    "    model = ALLModel(args).to(args['device'])\n",
    "    model.load_state_dict(torch.load(args['model_path']))\n",
    "    a_test_dict = test(args, model, test_loader)\n",
    "    test_result_dict = pd.concat([test_result_dict, a_test_dict]).reset_index(drop=True)\n",
    "    test_result_dict.to_csv(test_results_path)\n",
    "    return test_result_dict\n",
    "        "
   ]
  },
  {
   "cell_type": "markdown",
   "id": "5a5d2b81-5265-4370-b532-f7d33a555f47",
   "metadata": {},
   "source": [
    "# 5 出入参设置"
   ]
  },
  {
   "cell_type": "markdown",
   "id": "dce4a274-196b-4d18-91c1-28f99cd46aec",
   "metadata": {},
   "source": [
    "## 5.1 入参设置"
   ]
  },
  {
   "cell_type": "code",
   "execution_count": 14,
   "id": "5398107f-36d9-4391-8ab0-1c666f4bc9e6",
   "metadata": {},
   "outputs": [],
   "source": [
    "args = {\n",
    "    'lr': 0.01,\n",
    "    'epoch': 400,\n",
    "    'max_number': 65,\n",
    "    'current_epoch': 0,\n",
    "    'seed': RANDOM_NUMBERS,\n",
    "    'pos_weight': 3,\n",
    "    'conv_hidden': 1024,\n",
    "    'cls_hidden': 1024,\n",
    "    'layer_number': 3,\n",
    "    'max_degree': 5,\n",
    "    'traits_number': 29,\n",
    "    'zero_division': 0,\n",
    "    'traits_number_str': '111',\n",
    "    'conv': None,\n",
    "    'device': None,\n",
    "    'model_name': None,\n",
    "    'model_dir': None,\n",
    "    'model_path': None,\n",
    "    'result_dir': None,\n",
    "    'train_result_path': None,\n",
    "    'val_result_path': None,\n",
    "    'test_result_path': None,\n",
    "}"
   ]
  },
  {
   "cell_type": "code",
   "execution_count": 15,
   "id": "66de5eff-49ea-45b3-b1ef-76c1e40bee50",
   "metadata": {},
   "outputs": [],
   "source": [
    "from torch_geometric.nn import (\n",
    "    TAGConv,\n",
    "    ClusterGCNConv,\n",
    "    FiLMConv,\n",
    "    SAGEConv,\n",
    "    TransformerConv,\n",
    "    MFConv,\n",
    "    GATConv,\n",
    "    GCNConv,\n",
    "    GINConv,\n",
    ")\n",
    "ModelList = [\n",
    "    {'name': 'TAG', 'model': TAGConv},\n",
    "    {'name': 'ClusterGCN', 'model': ClusterGCNConv},\n",
    "    {'name': 'FiLM', 'model': FiLMConv},\n",
    "    {'name': 'SAGE', 'model': SAGEConv},\n",
    "    {'name': 'Transformer', 'model': TransformerConv},\n",
    "    {'name': 'MF', 'model': MFConv},\n",
    "    {'name': 'GAT', 'model': GATConv},\n",
    "    {'name': 'GCN', 'model': GCNConv},\n",
    "    {'name': 'GIN', 'model': GINConv},\n",
    "    # {'name': 'TAG', 'model': TAGConv},\n",
    "    # {'name': 'TAG', 'model': TAGConv},\n",
    "    # {'name': 'TAG', 'model': TAGConv},\n",
    "    # {'name': 'TAG', 'model': TAGConv},\n",
    "    # {'name': 'TAG', 'model': TAGConv},\n",
    "    # {'name': 'TAG', 'model': TAGConv},\n",
    "    # {'name': 'TAG', 'model': TAGConv},\n",
    "    # {'name': 'TAG', 'model': TAGConv},\n",
    "]"
   ]
  },
  {
   "cell_type": "markdown",
   "id": "78d06527-1744-4707-a136-5b2d1edb7f91",
   "metadata": {},
   "source": [
    "## 5.2 出参设置"
   ]
  },
  {
   "cell_type": "code",
   "execution_count": 16,
   "id": "699258ea-8e11-4595-8470-50938ce6f126",
   "metadata": {},
   "outputs": [],
   "source": [
    "result_dict = pd.DataFrame(\n",
    "        columns=[\n",
    "            '层数', '特征', '轮次', '模型', \n",
    "            'ACC', 'Ave_loss', 'Top2', 'AUC', 'MCC', 'Jaccard', 'Precision', 'Recall', \n",
    "            'F1', 'Selectivity', 'G_mean', 'Balanced_acc'])"
   ]
  },
  {
   "cell_type": "markdown",
   "id": "3d4c7f4f-25d2-48c0-a9c9-c4777fafa40d",
   "metadata": {},
   "source": [
    "## 5.1 实现"
   ]
  },
  {
   "cell_type": "code",
   "execution_count": 17,
   "id": "baea10b1-2991-4079-8cea-af6b00a349f9",
   "metadata": {},
   "outputs": [
    {
     "name": "stdout",
     "output_type": "stream",
     "text": [
      "测试\n"
     ]
    },
    {
     "name": "stderr",
     "output_type": "stream",
     "text": [
      "总进度[111/010]当前模型[MF]:   0%|          | 1/400 [00:04<32:39,  4.91s/it]"
     ]
    },
    {
     "name": "stdout",
     "output_type": "stream",
     "text": [
      "[1]层[010]特征[1]轮[MF]模型\n",
      "Top2分数[0.7426470588235294]\n"
     ]
    },
    {
     "name": "stderr",
     "output_type": "stream",
     "text": [
      "总进度[111/010]当前模型[MF]:   0%|          | 2/400 [00:09<32:10,  4.85s/it]"
     ]
    },
    {
     "name": "stdout",
     "output_type": "stream",
     "text": [
      "[1]层[010]特征[2]轮[MF]模型\n",
      "Top2分数[0.75]\n"
     ]
    },
    {
     "name": "stderr",
     "output_type": "stream",
     "text": [
      "总进度[111/010]当前模型[MF]:   1%|          | 4/400 [00:17<29:21,  4.45s/it]"
     ]
    },
    {
     "name": "stdout",
     "output_type": "stream",
     "text": [
      "[1]层[010]特征[4]轮[MF]模型\n",
      "Top2分数[0.7647058823529411]\n"
     ]
    },
    {
     "name": "stderr",
     "output_type": "stream",
     "text": [
      "总进度[111/010]当前模型[MF]:   2%|▏         | 9/400 [00:36<26:02,  4.00s/it]"
     ]
    },
    {
     "name": "stdout",
     "output_type": "stream",
     "text": [
      "[1]层[010]特征[9]轮[MF]模型\n",
      "Top2分数[0.7573529411764706]\n"
     ]
    },
    {
     "name": "stderr",
     "output_type": "stream",
     "text": [
      "总进度[111/010]当前模型[MF]:   4%|▍         | 16/400 [01:02<24:51,  3.88s/it]"
     ]
    },
    {
     "name": "stdout",
     "output_type": "stream",
     "text": [
      "[1]层[010]特征[16]轮[MF]模型\n",
      "Top2分数[0.7794117647058824]\n"
     ]
    },
    {
     "name": "stderr",
     "output_type": "stream",
     "text": [
      "总进度[111/010]当前模型[MF]:   8%|▊         | 31/400 [01:56<23:57,  3.90s/it]"
     ]
    },
    {
     "name": "stdout",
     "output_type": "stream",
     "text": [
      "[1]层[010]特征[31]轮[MF]模型\n",
      "Top2分数[0.7941176470588235]\n"
     ]
    },
    {
     "name": "stderr",
     "output_type": "stream",
     "text": [
      "总进度[111/010]当前模型[MF]:  24%|██▍       | 96/400 [05:46<18:17,  3.61s/it]\n"
     ]
    },
    {
     "name": "stdout",
     "output_type": "stream",
     "text": [
      "[1]层[010]特征[97]轮[MF]模型\n",
      "Top2分数[0.7941176470588235]\n",
      "测试\n"
     ]
    },
    {
     "name": "stderr",
     "output_type": "stream",
     "text": [
      "总进度[111/101]当前模型[MF]:   0%|          | 1/400 [00:04<31:16,  4.70s/it]"
     ]
    },
    {
     "name": "stdout",
     "output_type": "stream",
     "text": [
      "[1]层[101]特征[1]轮[MF]模型\n",
      "Top2分数[0.7132352941176471]\n"
     ]
    },
    {
     "name": "stderr",
     "output_type": "stream",
     "text": [
      "总进度[111/101]当前模型[MF]:   0%|          | 2/400 [00:09<31:10,  4.70s/it]"
     ]
    },
    {
     "name": "stdout",
     "output_type": "stream",
     "text": [
      "[1]层[101]特征[2]轮[MF]模型\n",
      "Top2分数[0.7352941176470589]\n"
     ]
    },
    {
     "name": "stderr",
     "output_type": "stream",
     "text": [
      "总进度[111/101]当前模型[MF]:   1%|          | 3/400 [00:14<31:17,  4.73s/it]"
     ]
    },
    {
     "name": "stdout",
     "output_type": "stream",
     "text": [
      "[1]层[101]特征[3]轮[MF]模型\n",
      "Top2分数[0.7279411764705882]\n"
     ]
    },
    {
     "name": "stderr",
     "output_type": "stream",
     "text": [
      "总进度[111/101]当前模型[MF]:   1%|          | 4/400 [00:18<31:25,  4.76s/it]"
     ]
    },
    {
     "name": "stdout",
     "output_type": "stream",
     "text": [
      "[1]层[101]特征[4]轮[MF]模型\n",
      "Top2分数[0.7573529411764706]\n"
     ]
    },
    {
     "name": "stderr",
     "output_type": "stream",
     "text": [
      "总进度[111/101]当前模型[MF]:   2%|▎         | 10/400 [00:41<26:16,  4.04s/it]"
     ]
    },
    {
     "name": "stdout",
     "output_type": "stream",
     "text": [
      "[1]层[101]特征[10]轮[MF]模型\n",
      "Top2分数[0.7720588235294118]\n"
     ]
    },
    {
     "name": "stderr",
     "output_type": "stream",
     "text": [
      "总进度[111/101]当前模型[MF]:   3%|▎         | 11/400 [00:45<25:53,  3.99s/it]"
     ]
    },
    {
     "name": "stdout",
     "output_type": "stream",
     "text": [
      "[1]层[101]特征[11]轮[MF]模型\n",
      "Top2分数[0.7647058823529411]\n"
     ]
    },
    {
     "name": "stderr",
     "output_type": "stream",
     "text": [
      "总进度[111/101]当前模型[MF]:   3%|▎         | 13/400 [00:51<23:44,  3.68s/it]"
     ]
    },
    {
     "name": "stdout",
     "output_type": "stream",
     "text": [
      "[1]层[101]特征[13]轮[MF]模型\n",
      "Top2分数[0.7647058823529411]\n"
     ]
    },
    {
     "name": "stderr",
     "output_type": "stream",
     "text": [
      "总进度[111/101]当前模型[MF]:   4%|▍         | 15/400 [00:58<22:32,  3.51s/it]"
     ]
    },
    {
     "name": "stdout",
     "output_type": "stream",
     "text": [
      "[1]层[101]特征[15]轮[MF]模型\n",
      "Top2分数[0.7647058823529411]\n"
     ]
    },
    {
     "name": "stderr",
     "output_type": "stream",
     "text": [
      "总进度[111/101]当前模型[MF]:   6%|▌         | 23/400 [01:22<20:03,  3.19s/it]"
     ]
    },
    {
     "name": "stdout",
     "output_type": "stream",
     "text": [
      "[1]层[101]特征[23]轮[MF]模型\n",
      "Top2分数[0.7647058823529411]\n"
     ]
    },
    {
     "name": "stderr",
     "output_type": "stream",
     "text": [
      "总进度[111/101]当前模型[MF]:   8%|▊         | 30/400 [01:43<19:40,  3.19s/it]"
     ]
    },
    {
     "name": "stdout",
     "output_type": "stream",
     "text": [
      "[1]层[101]特征[30]轮[MF]模型\n",
      "Top2分数[0.7720588235294118]\n"
     ]
    },
    {
     "name": "stderr",
     "output_type": "stream",
     "text": [
      "总进度[111/101]当前模型[MF]:  24%|██▍       | 95/400 [04:50<15:33,  3.06s/it]\n"
     ]
    },
    {
     "name": "stdout",
     "output_type": "stream",
     "text": [
      "[1]层[101]特征[96]轮[MF]模型\n",
      "Top2分数[0.7720588235294118]\n",
      "测试\n"
     ]
    },
    {
     "name": "stderr",
     "output_type": "stream",
     "text": [
      "总进度[111/110]当前模型[MF]:   0%|          | 1/400 [00:03<25:50,  3.89s/it]"
     ]
    },
    {
     "name": "stdout",
     "output_type": "stream",
     "text": [
      "[1]层[110]特征[1]轮[MF]模型\n",
      "Top2分数[0.7426470588235294]\n"
     ]
    },
    {
     "name": "stderr",
     "output_type": "stream",
     "text": [
      "总进度[111/110]当前模型[MF]:   0%|          | 2/400 [00:07<25:51,  3.90s/it]"
     ]
    },
    {
     "name": "stdout",
     "output_type": "stream",
     "text": [
      "[1]层[110]特征[2]轮[MF]模型\n",
      "Top2分数[0.7573529411764706]\n"
     ]
    },
    {
     "name": "stderr",
     "output_type": "stream",
     "text": [
      "总进度[111/110]当前模型[MF]:   1%|          | 4/400 [00:14<23:56,  3.63s/it]"
     ]
    },
    {
     "name": "stdout",
     "output_type": "stream",
     "text": [
      "[1]层[110]特征[4]轮[MF]模型\n",
      "Top2分数[0.7794117647058824]\n"
     ]
    },
    {
     "name": "stderr",
     "output_type": "stream",
     "text": [
      "总进度[111/110]当前模型[MF]:   2%|▏         | 6/400 [00:21<23:10,  3.53s/it]"
     ]
    },
    {
     "name": "stdout",
     "output_type": "stream",
     "text": [
      "[1]层[110]特征[6]轮[MF]模型\n",
      "Top2分数[0.7941176470588235]\n"
     ]
    },
    {
     "name": "stderr",
     "output_type": "stream",
     "text": [
      "总进度[111/110]当前模型[MF]:   2%|▎         | 10/400 [00:33<21:47,  3.35s/it]"
     ]
    },
    {
     "name": "stdout",
     "output_type": "stream",
     "text": [
      "[1]层[110]特征[10]轮[MF]模型\n",
      "Top2分数[0.7941176470588235]\n"
     ]
    },
    {
     "name": "stderr",
     "output_type": "stream",
     "text": [
      "总进度[111/110]当前模型[MF]:   4%|▎         | 14/400 [00:46<20:52,  3.25s/it]"
     ]
    },
    {
     "name": "stdout",
     "output_type": "stream",
     "text": [
      "[1]层[110]特征[14]轮[MF]模型\n",
      "Top2分数[0.7794117647058824]\n"
     ]
    },
    {
     "name": "stderr",
     "output_type": "stream",
     "text": [
      "总进度[111/110]当前模型[MF]:   4%|▍         | 15/400 [00:50<22:00,  3.43s/it]"
     ]
    },
    {
     "name": "stdout",
     "output_type": "stream",
     "text": [
      "[1]层[110]特征[15]轮[MF]模型\n",
      "Top2分数[0.7794117647058824]\n"
     ]
    },
    {
     "name": "stderr",
     "output_type": "stream",
     "text": [
      "总进度[111/110]当前模型[MF]:   5%|▌         | 21/400 [01:08<20:41,  3.28s/it]"
     ]
    },
    {
     "name": "stdout",
     "output_type": "stream",
     "text": [
      "[1]层[110]特征[21]轮[MF]模型\n",
      "Top2分数[0.7794117647058824]\n"
     ]
    },
    {
     "name": "stderr",
     "output_type": "stream",
     "text": [
      "总进度[111/110]当前模型[MF]:   8%|▊         | 31/400 [01:37<19:27,  3.16s/it]"
     ]
    },
    {
     "name": "stdout",
     "output_type": "stream",
     "text": [
      "[1]层[110]特征[31]轮[MF]模型\n",
      "Top2分数[0.7720588235294118]\n"
     ]
    },
    {
     "name": "stderr",
     "output_type": "stream",
     "text": [
      "总进度[111/110]当前模型[MF]:  24%|██▍       | 96/400 [04:34<14:28,  2.86s/it]\n"
     ]
    },
    {
     "name": "stdout",
     "output_type": "stream",
     "text": [
      "[1]层[110]特征[97]轮[MF]模型\n",
      "Top2分数[0.7720588235294118]\n",
      "测试\n"
     ]
    },
    {
     "name": "stderr",
     "output_type": "stream",
     "text": [
      "总进度[111/010]当前模型[MF]:   0%|          | 1/400 [00:05<37:39,  5.66s/it]"
     ]
    },
    {
     "name": "stdout",
     "output_type": "stream",
     "text": [
      "[2]层[010]特征[1]轮[MF]模型\n",
      "Top2分数[0.7426470588235294]\n"
     ]
    },
    {
     "name": "stderr",
     "output_type": "stream",
     "text": [
      "总进度[111/010]当前模型[MF]:   1%|          | 4/400 [00:20<33:40,  5.10s/it]"
     ]
    },
    {
     "name": "stdout",
     "output_type": "stream",
     "text": [
      "[2]层[010]特征[4]轮[MF]模型\n",
      "Top2分数[0.8014705882352942]\n"
     ]
    },
    {
     "name": "stderr",
     "output_type": "stream",
     "text": [
      "总进度[111/010]当前模型[MF]:   2%|▏         | 8/400 [00:38<33:05,  5.06s/it]"
     ]
    },
    {
     "name": "stdout",
     "output_type": "stream",
     "text": [
      "[2]层[010]特征[8]轮[MF]模型\n",
      "Top2分数[0.7573529411764706]\n"
     ]
    },
    {
     "name": "stderr",
     "output_type": "stream",
     "text": [
      "总进度[111/010]当前模型[MF]:   3%|▎         | 11/400 [00:53<32:43,  5.05s/it]"
     ]
    },
    {
     "name": "stdout",
     "output_type": "stream",
     "text": [
      "[2]层[010]特征[11]轮[MF]模型\n",
      "Top2分数[0.7941176470588235]\n"
     ]
    },
    {
     "name": "stderr",
     "output_type": "stream",
     "text": [
      "总进度[111/010]当前模型[MF]:   4%|▍         | 16/400 [01:16<31:11,  4.87s/it]"
     ]
    },
    {
     "name": "stdout",
     "output_type": "stream",
     "text": [
      "[2]层[010]特征[16]轮[MF]模型\n",
      "Top2分数[0.8088235294117647]\n"
     ]
    },
    {
     "name": "stderr",
     "output_type": "stream",
     "text": [
      "总进度[111/010]当前模型[MF]:   5%|▌         | 21/400 [01:38<30:31,  4.83s/it]"
     ]
    },
    {
     "name": "stdout",
     "output_type": "stream",
     "text": [
      "[2]层[010]特征[21]轮[MF]模型\n",
      "Top2分数[0.8088235294117647]\n"
     ]
    },
    {
     "name": "stderr",
     "output_type": "stream",
     "text": [
      "总进度[111/010]当前模型[MF]:   8%|▊         | 30/400 [02:17<29:04,  4.71s/it]"
     ]
    },
    {
     "name": "stdout",
     "output_type": "stream",
     "text": [
      "[2]层[010]特征[30]轮[MF]模型\n",
      "Top2分数[0.8014705882352942]\n"
     ]
    },
    {
     "name": "stderr",
     "output_type": "stream",
     "text": [
      "总进度[111/010]当前模型[MF]:  11%|█▏        | 45/400 [03:23<28:40,  4.85s/it]"
     ]
    },
    {
     "name": "stdout",
     "output_type": "stream",
     "text": [
      "[2]层[010]特征[45]轮[MF]模型\n",
      "Top2分数[0.8088235294117647]\n"
     ]
    },
    {
     "name": "stderr",
     "output_type": "stream",
     "text": [
      "总进度[111/010]当前模型[MF]:  17%|█▋        | 69/400 [05:06<26:42,  4.84s/it]"
     ]
    },
    {
     "name": "stdout",
     "output_type": "stream",
     "text": [
      "[2]层[010]特征[69]轮[MF]模型\n",
      "Top2分数[0.8161764705882353]\n"
     ]
    },
    {
     "name": "stderr",
     "output_type": "stream",
     "text": [
      "总进度[111/010]当前模型[MF]:  34%|███▎      | 134/400 [10:03<19:57,  4.50s/it]\n"
     ]
    },
    {
     "name": "stdout",
     "output_type": "stream",
     "text": [
      "[2]层[010]特征[135]轮[MF]模型\n",
      "Top2分数[0.8161764705882353]\n",
      "测试\n"
     ]
    },
    {
     "name": "stderr",
     "output_type": "stream",
     "text": [
      "总进度[111/101]当前模型[MF]:   0%|          | 1/400 [00:06<42:46,  6.43s/it]"
     ]
    },
    {
     "name": "stdout",
     "output_type": "stream",
     "text": [
      "[2]层[101]特征[1]轮[MF]模型\n",
      "Top2分数[0.7132352941176471]\n"
     ]
    },
    {
     "name": "stderr",
     "output_type": "stream",
     "text": [
      "总进度[111/101]当前模型[MF]:   0%|          | 2/400 [00:13<45:09,  6.81s/it]"
     ]
    },
    {
     "name": "stdout",
     "output_type": "stream",
     "text": [
      "[2]层[101]特征[2]轮[MF]模型\n",
      "Top2分数[0.8014705882352942]\n"
     ]
    },
    {
     "name": "stderr",
     "output_type": "stream",
     "text": [
      "总进度[111/101]当前模型[MF]:   1%|          | 3/400 [00:20<45:24,  6.86s/it]"
     ]
    },
    {
     "name": "stdout",
     "output_type": "stream",
     "text": [
      "[2]层[101]特征[3]轮[MF]模型\n",
      "Top2分数[0.7941176470588235]\n"
     ]
    },
    {
     "name": "stderr",
     "output_type": "stream",
     "text": [
      "总进度[111/101]当前模型[MF]:   2%|▏         | 8/400 [00:47<38:30,  5.89s/it]"
     ]
    },
    {
     "name": "stdout",
     "output_type": "stream",
     "text": [
      "[2]层[101]特征[8]轮[MF]模型\n",
      "Top2分数[0.8088235294117647]\n"
     ]
    },
    {
     "name": "stderr",
     "output_type": "stream",
     "text": [
      "总进度[111/101]当前模型[MF]:   3%|▎         | 13/400 [01:10<33:00,  5.12s/it]"
     ]
    },
    {
     "name": "stdout",
     "output_type": "stream",
     "text": [
      "[2]层[101]特征[13]轮[MF]模型\n",
      "Top2分数[0.7867647058823529]\n"
     ]
    },
    {
     "name": "stderr",
     "output_type": "stream",
     "text": [
      "总进度[111/101]当前模型[MF]:   4%|▎         | 14/400 [01:16<34:39,  5.39s/it]"
     ]
    },
    {
     "name": "stdout",
     "output_type": "stream",
     "text": [
      "[2]层[101]特征[14]轮[MF]模型\n",
      "Top2分数[0.8161764705882353]\n"
     ]
    },
    {
     "name": "stderr",
     "output_type": "stream",
     "text": [
      "总进度[111/101]当前模型[MF]:   4%|▍         | 16/400 [01:27<33:59,  5.31s/it]"
     ]
    },
    {
     "name": "stdout",
     "output_type": "stream",
     "text": [
      "[2]层[101]特征[16]轮[MF]模型\n",
      "Top2分数[0.8161764705882353]\n"
     ]
    },
    {
     "name": "stderr",
     "output_type": "stream",
     "text": [
      "总进度[111/101]当前模型[MF]:   5%|▌         | 20/400 [01:45<32:12,  5.08s/it]"
     ]
    },
    {
     "name": "stdout",
     "output_type": "stream",
     "text": [
      "[2]层[101]特征[20]轮[MF]模型\n",
      "Top2分数[0.8382352941176471]\n"
     ]
    },
    {
     "name": "stderr",
     "output_type": "stream",
     "text": [
      "总进度[111/101]当前模型[MF]:   6%|▌         | 22/400 [01:56<32:48,  5.21s/it]"
     ]
    },
    {
     "name": "stdout",
     "output_type": "stream",
     "text": [
      "[2]层[101]特征[22]轮[MF]模型\n",
      "Top2分数[0.8161764705882353]\n"
     ]
    },
    {
     "name": "stderr",
     "output_type": "stream",
     "text": [
      "总进度[111/101]当前模型[MF]:   7%|▋         | 28/400 [02:23<31:02,  5.01s/it]"
     ]
    },
    {
     "name": "stdout",
     "output_type": "stream",
     "text": [
      "[2]层[101]特征[28]轮[MF]模型\n",
      "Top2分数[0.8455882352941176]\n"
     ]
    },
    {
     "name": "stderr",
     "output_type": "stream",
     "text": [
      "总进度[111/101]当前模型[MF]:  10%|█         | 41/400 [03:23<30:22,  5.08s/it]"
     ]
    },
    {
     "name": "stdout",
     "output_type": "stream",
     "text": [
      "[2]层[101]特征[41]轮[MF]模型\n",
      "Top2分数[0.8382352941176471]\n"
     ]
    },
    {
     "name": "stderr",
     "output_type": "stream",
     "text": [
      "总进度[111/101]当前模型[MF]:  14%|█▍        | 58/400 [04:41<30:24,  5.33s/it]"
     ]
    },
    {
     "name": "stdout",
     "output_type": "stream",
     "text": [
      "[2]层[101]特征[58]轮[MF]模型\n",
      "Top2分数[0.8676470588235294]\n"
     ]
    },
    {
     "name": "stderr",
     "output_type": "stream",
     "text": [
      "总进度[111/101]当前模型[MF]:  16%|█▋        | 66/400 [05:18<28:13,  5.07s/it]"
     ]
    },
    {
     "name": "stdout",
     "output_type": "stream",
     "text": [
      "[2]层[101]特征[66]轮[MF]模型\n",
      "Top2分数[0.875]\n"
     ]
    },
    {
     "name": "stderr",
     "output_type": "stream",
     "text": [
      "总进度[111/101]当前模型[MF]:  18%|█▊        | 74/400 [05:56<27:49,  5.12s/it]"
     ]
    },
    {
     "name": "stdout",
     "output_type": "stream",
     "text": [
      "[2]层[101]特征[74]轮[MF]模型\n",
      "Top2分数[0.875]\n"
     ]
    },
    {
     "name": "stderr",
     "output_type": "stream",
     "text": [
      "总进度[111/101]当前模型[MF]:  35%|███▍      | 139/400 [11:13<21:03,  4.84s/it]\n"
     ]
    },
    {
     "name": "stdout",
     "output_type": "stream",
     "text": [
      "[2]层[101]特征[140]轮[MF]模型\n",
      "Top2分数[0.875]\n",
      "测试\n"
     ]
    },
    {
     "name": "stderr",
     "output_type": "stream",
     "text": [
      "总进度[111/110]当前模型[MF]:   0%|          | 1/400 [00:06<44:28,  6.69s/it]"
     ]
    },
    {
     "name": "stdout",
     "output_type": "stream",
     "text": [
      "[2]层[110]特征[1]轮[MF]模型\n",
      "Top2分数[0.7794117647058824]\n"
     ]
    },
    {
     "name": "stderr",
     "output_type": "stream",
     "text": [
      "总进度[111/110]当前模型[MF]:   0%|          | 2/400 [00:14<47:06,  7.10s/it]"
     ]
    },
    {
     "name": "stdout",
     "output_type": "stream",
     "text": [
      "[2]层[110]特征[2]轮[MF]模型\n",
      "Top2分数[0.7720588235294118]\n"
     ]
    },
    {
     "name": "stderr",
     "output_type": "stream",
     "text": [
      "总进度[111/110]当前模型[MF]:   1%|          | 4/400 [00:25<41:43,  6.32s/it]"
     ]
    },
    {
     "name": "stdout",
     "output_type": "stream",
     "text": [
      "[2]层[110]特征[4]轮[MF]模型\n",
      "Top2分数[0.7794117647058824]\n"
     ]
    },
    {
     "name": "stderr",
     "output_type": "stream",
     "text": [
      "总进度[111/110]当前模型[MF]:   1%|▏         | 5/400 [00:31<41:24,  6.29s/it]"
     ]
    },
    {
     "name": "stdout",
     "output_type": "stream",
     "text": [
      "[2]层[110]特征[5]轮[MF]模型\n",
      "Top2分数[0.7941176470588235]\n"
     ]
    },
    {
     "name": "stderr",
     "output_type": "stream",
     "text": [
      "总进度[111/110]当前模型[MF]:   2%|▏         | 8/400 [00:48<38:13,  5.85s/it]"
     ]
    },
    {
     "name": "stdout",
     "output_type": "stream",
     "text": [
      "[2]层[110]特征[8]轮[MF]模型\n",
      "Top2分数[0.8161764705882353]\n"
     ]
    },
    {
     "name": "stderr",
     "output_type": "stream",
     "text": [
      "总进度[111/110]当前模型[MF]:   3%|▎         | 12/400 [01:10<37:33,  5.81s/it]"
     ]
    },
    {
     "name": "stdout",
     "output_type": "stream",
     "text": [
      "[2]层[110]特征[12]轮[MF]模型\n",
      "Top2分数[0.8235294117647058]\n"
     ]
    },
    {
     "name": "stderr",
     "output_type": "stream",
     "text": [
      "总进度[111/110]当前模型[MF]:   3%|▎         | 13/400 [01:17<40:27,  6.27s/it]"
     ]
    },
    {
     "name": "stdout",
     "output_type": "stream",
     "text": [
      "[2]层[110]特征[13]轮[MF]模型\n",
      "Top2分数[0.8235294117647058]\n"
     ]
    },
    {
     "name": "stderr",
     "output_type": "stream",
     "text": [
      "总进度[111/110]当前模型[MF]:   4%|▍         | 15/400 [01:30<40:33,  6.32s/it]"
     ]
    },
    {
     "name": "stdout",
     "output_type": "stream",
     "text": [
      "[2]层[110]特征[15]轮[MF]模型\n",
      "Top2分数[0.8235294117647058]\n"
     ]
    },
    {
     "name": "stderr",
     "output_type": "stream",
     "text": [
      "总进度[111/110]当前模型[MF]:   7%|▋         | 27/400 [02:33<35:59,  5.79s/it]"
     ]
    },
    {
     "name": "stdout",
     "output_type": "stream",
     "text": [
      "[2]层[110]特征[27]轮[MF]模型\n",
      "Top2分数[0.8235294117647058]\n"
     ]
    },
    {
     "name": "stderr",
     "output_type": "stream",
     "text": [
      "总进度[111/110]当前模型[MF]:   9%|▉         | 36/400 [03:21<35:25,  5.84s/it]"
     ]
    },
    {
     "name": "stdout",
     "output_type": "stream",
     "text": [
      "[2]层[110]特征[36]轮[MF]模型\n",
      "Top2分数[0.8308823529411765]\n"
     ]
    },
    {
     "name": "stderr",
     "output_type": "stream",
     "text": [
      "总进度[111/110]当前模型[MF]:  11%|█         | 43/400 [04:00<35:27,  5.96s/it]"
     ]
    },
    {
     "name": "stdout",
     "output_type": "stream",
     "text": [
      "[2]层[110]特征[43]轮[MF]模型\n",
      "Top2分数[0.8308823529411765]\n"
     ]
    },
    {
     "name": "stderr",
     "output_type": "stream",
     "text": [
      "总进度[111/110]当前模型[MF]:  11%|█         | 44/400 [04:07<37:39,  6.35s/it]"
     ]
    },
    {
     "name": "stdout",
     "output_type": "stream",
     "text": [
      "[2]层[110]特征[44]轮[MF]模型\n",
      "Top2分数[0.8382352941176471]\n"
     ]
    },
    {
     "name": "stderr",
     "output_type": "stream",
     "text": [
      "总进度[111/110]当前模型[MF]:  16%|█▌        | 63/400 [05:48<34:03,  6.06s/it]"
     ]
    },
    {
     "name": "stdout",
     "output_type": "stream",
     "text": [
      "[2]层[110]特征[63]轮[MF]模型\n",
      "Top2分数[0.8455882352941176]\n"
     ]
    },
    {
     "name": "stderr",
     "output_type": "stream",
     "text": [
      "总进度[111/110]当前模型[MF]:  32%|███▏      | 128/400 [10:36<22:32,  4.97s/it]\n"
     ]
    },
    {
     "name": "stdout",
     "output_type": "stream",
     "text": [
      "[2]层[110]特征[129]轮[MF]模型\n",
      "Top2分数[0.8455882352941176]\n",
      "测试\n"
     ]
    },
    {
     "name": "stderr",
     "output_type": "stream",
     "text": [
      "总进度[111/010]当前模型[MF]:   0%|          | 1/400 [00:08<54:09,  8.14s/it]"
     ]
    },
    {
     "name": "stdout",
     "output_type": "stream",
     "text": [
      "[3]层[010]特征[1]轮[MF]模型\n",
      "Top2分数[0.7352941176470589]\n"
     ]
    },
    {
     "name": "stderr",
     "output_type": "stream",
     "text": [
      "总进度[111/010]当前模型[MF]:   0%|          | 2/400 [00:18<1:01:46,  9.31s/it]"
     ]
    },
    {
     "name": "stdout",
     "output_type": "stream",
     "text": [
      "[3]层[010]特征[2]轮[MF]模型\n",
      "Top2分数[0.75]\n"
     ]
    },
    {
     "name": "stderr",
     "output_type": "stream",
     "text": [
      "总进度[111/010]当前模型[MF]:   1%|          | 3/400 [00:27<1:02:46,  9.49s/it]"
     ]
    },
    {
     "name": "stdout",
     "output_type": "stream",
     "text": [
      "[3]层[010]特征[3]轮[MF]模型\n",
      "Top2分数[0.75]\n"
     ]
    },
    {
     "name": "stderr",
     "output_type": "stream",
     "text": [
      "总进度[111/010]当前模型[MF]:   1%|          | 4/400 [00:37<1:02:14,  9.43s/it]"
     ]
    },
    {
     "name": "stdout",
     "output_type": "stream",
     "text": [
      "[3]层[010]特征[4]轮[MF]模型\n",
      "Top2分数[0.7647058823529411]\n"
     ]
    },
    {
     "name": "stderr",
     "output_type": "stream",
     "text": [
      "总进度[111/010]当前模型[MF]:   1%|▏         | 5/400 [00:46<1:02:01,  9.42s/it]"
     ]
    },
    {
     "name": "stdout",
     "output_type": "stream",
     "text": [
      "[3]层[010]特征[5]轮[MF]模型\n",
      "Top2分数[0.7794117647058824]\n"
     ]
    },
    {
     "name": "stderr",
     "output_type": "stream",
     "text": [
      "总进度[111/010]当前模型[MF]:   2%|▏         | 6/400 [00:56<1:02:19,  9.49s/it]"
     ]
    },
    {
     "name": "stdout",
     "output_type": "stream",
     "text": [
      "[3]层[010]特征[6]轮[MF]模型\n",
      "Top2分数[0.7647058823529411]\n"
     ]
    },
    {
     "name": "stderr",
     "output_type": "stream",
     "text": [
      "总进度[111/010]当前模型[MF]:   2%|▏         | 7/400 [01:05<1:02:30,  9.54s/it]"
     ]
    },
    {
     "name": "stdout",
     "output_type": "stream",
     "text": [
      "[3]层[010]特征[7]轮[MF]模型\n",
      "Top2分数[0.7867647058823529]\n"
     ]
    },
    {
     "name": "stderr",
     "output_type": "stream",
     "text": [
      "总进度[111/010]当前模型[MF]:   3%|▎         | 11/400 [01:34<51:59,  8.02s/it] "
     ]
    },
    {
     "name": "stdout",
     "output_type": "stream",
     "text": [
      "[3]层[010]特征[11]轮[MF]模型\n",
      "Top2分数[0.7941176470588235]\n"
     ]
    },
    {
     "name": "stderr",
     "output_type": "stream",
     "text": [
      "总进度[111/010]当前模型[MF]:   3%|▎         | 13/400 [01:50<53:05,  8.23s/it]"
     ]
    },
    {
     "name": "stdout",
     "output_type": "stream",
     "text": [
      "[3]层[010]特征[13]轮[MF]模型\n",
      "Top2分数[0.7941176470588235]\n"
     ]
    },
    {
     "name": "stderr",
     "output_type": "stream",
     "text": [
      "总进度[111/010]当前模型[MF]:   4%|▍         | 15/400 [02:06<53:23,  8.32s/it]"
     ]
    },
    {
     "name": "stdout",
     "output_type": "stream",
     "text": [
      "[3]层[010]特征[15]轮[MF]模型\n",
      "Top2分数[0.8308823529411765]\n"
     ]
    },
    {
     "name": "stderr",
     "output_type": "stream",
     "text": [
      "总进度[111/010]当前模型[MF]:   5%|▌         | 21/400 [02:47<47:46,  7.56s/it]"
     ]
    },
    {
     "name": "stdout",
     "output_type": "stream",
     "text": [
      "[3]层[010]特征[21]轮[MF]模型\n",
      "Top2分数[0.8529411764705882]\n"
     ]
    },
    {
     "name": "stderr",
     "output_type": "stream",
     "text": [
      "总进度[111/010]当前模型[MF]:   8%|▊         | 34/400 [04:14<45:34,  7.47s/it]"
     ]
    },
    {
     "name": "stdout",
     "output_type": "stream",
     "text": [
      "[3]层[010]特征[34]轮[MF]模型\n",
      "Top2分数[0.8529411764705882]\n"
     ]
    },
    {
     "name": "stderr",
     "output_type": "stream",
     "text": [
      "总进度[111/010]当前模型[MF]:   9%|▉         | 36/400 [04:30<47:46,  7.87s/it]"
     ]
    },
    {
     "name": "stdout",
     "output_type": "stream",
     "text": [
      "[3]层[010]特征[36]轮[MF]模型\n",
      "Top2分数[0.875]\n"
     ]
    },
    {
     "name": "stderr",
     "output_type": "stream",
     "text": [
      "总进度[111/010]当前模型[MF]:   9%|▉         | 37/400 [04:40<50:47,  8.40s/it]"
     ]
    },
    {
     "name": "stdout",
     "output_type": "stream",
     "text": [
      "[3]层[010]特征[37]轮[MF]模型\n",
      "Top2分数[0.8455882352941176]\n"
     ]
    },
    {
     "name": "stderr",
     "output_type": "stream",
     "text": [
      "总进度[111/010]当前模型[MF]:  15%|█▍        | 59/400 [07:06<43:01,  7.57s/it]"
     ]
    },
    {
     "name": "stdout",
     "output_type": "stream",
     "text": [
      "[3]层[010]特征[59]轮[MF]模型\n",
      "Top2分数[0.8676470588235294]\n"
     ]
    },
    {
     "name": "stderr",
     "output_type": "stream",
     "text": [
      "总进度[111/010]当前模型[MF]:  31%|███       | 124/400 [14:34<32:27,  7.06s/it]\n"
     ]
    },
    {
     "name": "stdout",
     "output_type": "stream",
     "text": [
      "[3]层[010]特征[125]轮[MF]模型\n",
      "Top2分数[0.8602941176470589]\n",
      "测试\n"
     ]
    },
    {
     "name": "stderr",
     "output_type": "stream",
     "text": [
      "总进度[111/101]当前模型[MF]:   0%|          | 1/400 [00:09<1:00:58,  9.17s/it]"
     ]
    },
    {
     "name": "stdout",
     "output_type": "stream",
     "text": [
      "[3]层[101]特征[1]轮[MF]模型\n",
      "Top2分数[0.7205882352941176]\n"
     ]
    },
    {
     "name": "stderr",
     "output_type": "stream",
     "text": [
      "总进度[111/101]当前模型[MF]:   0%|          | 2/400 [00:19<1:04:25,  9.71s/it]"
     ]
    },
    {
     "name": "stdout",
     "output_type": "stream",
     "text": [
      "[3]层[101]特征[2]轮[MF]模型\n",
      "Top2分数[0.7720588235294118]\n"
     ]
    },
    {
     "name": "stderr",
     "output_type": "stream",
     "text": [
      "总进度[111/101]当前模型[MF]:   1%|          | 3/400 [00:29<1:06:26, 10.04s/it]"
     ]
    },
    {
     "name": "stdout",
     "output_type": "stream",
     "text": [
      "[3]层[101]特征[3]轮[MF]模型\n",
      "Top2分数[0.7794117647058824]\n"
     ]
    },
    {
     "name": "stderr",
     "output_type": "stream",
     "text": [
      "总进度[111/101]当前模型[MF]:   1%|▏         | 5/400 [00:46<1:00:46,  9.23s/it]"
     ]
    },
    {
     "name": "stdout",
     "output_type": "stream",
     "text": [
      "[3]层[101]特征[5]轮[MF]模型\n",
      "Top2分数[0.7794117647058824]\n"
     ]
    },
    {
     "name": "stderr",
     "output_type": "stream",
     "text": [
      "总进度[111/101]当前模型[MF]:   2%|▎         | 10/400 [01:23<53:09,  8.18s/it] "
     ]
    },
    {
     "name": "stdout",
     "output_type": "stream",
     "text": [
      "[3]层[101]特征[10]轮[MF]模型\n",
      "Top2分数[0.8235294117647058]\n"
     ]
    },
    {
     "name": "stderr",
     "output_type": "stream",
     "text": [
      "总进度[111/101]当前模型[MF]:   3%|▎         | 11/400 [01:34<56:48,  8.76s/it]"
     ]
    },
    {
     "name": "stdout",
     "output_type": "stream",
     "text": [
      "[3]层[101]特征[11]轮[MF]模型\n",
      "Top2分数[0.8088235294117647]\n"
     ]
    },
    {
     "name": "stderr",
     "output_type": "stream",
     "text": [
      "总进度[111/101]当前模型[MF]:   3%|▎         | 12/400 [01:44<59:09,  9.15s/it]"
     ]
    },
    {
     "name": "stdout",
     "output_type": "stream",
     "text": [
      "[3]层[101]特征[12]轮[MF]模型\n",
      "Top2分数[0.8088235294117647]\n"
     ]
    },
    {
     "name": "stderr",
     "output_type": "stream",
     "text": [
      "总进度[111/101]当前模型[MF]:   3%|▎         | 13/400 [01:54<1:00:48,  9.43s/it]"
     ]
    },
    {
     "name": "stdout",
     "output_type": "stream",
     "text": [
      "[3]层[101]特征[13]轮[MF]模型\n",
      "Top2分数[0.8308823529411765]\n"
     ]
    },
    {
     "name": "stderr",
     "output_type": "stream",
     "text": [
      "总进度[111/101]当前模型[MF]:   4%|▎         | 14/400 [02:04<1:02:08,  9.66s/it]"
     ]
    },
    {
     "name": "stdout",
     "output_type": "stream",
     "text": [
      "[3]层[101]特征[14]轮[MF]模型\n",
      "Top2分数[0.8308823529411765]\n"
     ]
    },
    {
     "name": "stderr",
     "output_type": "stream",
     "text": [
      "总进度[111/101]当前模型[MF]:   4%|▍         | 17/400 [02:28<56:13,  8.81s/it]  "
     ]
    },
    {
     "name": "stdout",
     "output_type": "stream",
     "text": [
      "[3]层[101]特征[17]轮[MF]模型\n",
      "Top2分数[0.8382352941176471]\n"
     ]
    },
    {
     "name": "stderr",
     "output_type": "stream",
     "text": [
      "总进度[111/101]当前模型[MF]:   6%|▌         | 22/400 [03:01<45:28,  7.22s/it]"
     ]
    },
    {
     "name": "stdout",
     "output_type": "stream",
     "text": [
      "[3]层[101]特征[22]轮[MF]模型\n",
      "Top2分数[0.8455882352941176]\n"
     ]
    },
    {
     "name": "stderr",
     "output_type": "stream",
     "text": [
      "总进度[111/101]当前模型[MF]:  11%|█▏        | 45/400 [05:17<40:03,  6.77s/it]"
     ]
    },
    {
     "name": "stdout",
     "output_type": "stream",
     "text": [
      "[3]层[101]特征[45]轮[MF]模型\n",
      "Top2分数[0.8897058823529411]\n"
     ]
    },
    {
     "name": "stderr",
     "output_type": "stream",
     "text": [
      "总进度[111/101]当前模型[MF]:  15%|█▌        | 61/400 [06:53<38:54,  6.89s/it]"
     ]
    },
    {
     "name": "stdout",
     "output_type": "stream",
     "text": [
      "[3]层[101]特征[61]轮[MF]模型\n",
      "Top2分数[0.9044117647058824]\n"
     ]
    },
    {
     "name": "stderr",
     "output_type": "stream",
     "text": [
      "总进度[111/101]当前模型[MF]:  22%|██▏       | 88/400 [09:33<34:53,  6.71s/it]"
     ]
    },
    {
     "name": "stdout",
     "output_type": "stream",
     "text": [
      "[3]层[101]特征[88]轮[MF]模型\n",
      "Top2分数[0.8897058823529411]\n"
     ]
    },
    {
     "name": "stderr",
     "output_type": "stream",
     "text": [
      "总进度[111/101]当前模型[MF]:  38%|███▊      | 153/400 [15:46<25:27,  6.19s/it]\n"
     ]
    },
    {
     "name": "stdout",
     "output_type": "stream",
     "text": [
      "[3]层[101]特征[154]轮[MF]模型\n",
      "Top2分数[0.8897058823529411]\n",
      "测试\n"
     ]
    },
    {
     "name": "stderr",
     "output_type": "stream",
     "text": [
      "总进度[111/110]当前模型[MF]:   0%|          | 1/400 [00:07<50:37,  7.61s/it]"
     ]
    },
    {
     "name": "stdout",
     "output_type": "stream",
     "text": [
      "[3]层[110]特征[1]轮[MF]模型\n",
      "Top2分数[0.7647058823529411]\n"
     ]
    },
    {
     "name": "stderr",
     "output_type": "stream",
     "text": [
      "总进度[111/110]当前模型[MF]:   0%|          | 2/400 [00:16<54:42,  8.25s/it]"
     ]
    },
    {
     "name": "stdout",
     "output_type": "stream",
     "text": [
      "[3]层[110]特征[2]轮[MF]模型\n",
      "Top2分数[0.7647058823529411]\n"
     ]
    },
    {
     "name": "stderr",
     "output_type": "stream",
     "text": [
      "总进度[111/110]当前模型[MF]:   1%|          | 3/400 [00:24<54:25,  8.23s/it]"
     ]
    },
    {
     "name": "stdout",
     "output_type": "stream",
     "text": [
      "[3]层[110]特征[3]轮[MF]模型\n",
      "Top2分数[0.7794117647058824]\n"
     ]
    },
    {
     "name": "stderr",
     "output_type": "stream",
     "text": [
      "总进度[111/110]当前模型[MF]:   2%|▏         | 6/400 [00:45<49:27,  7.53s/it]"
     ]
    },
    {
     "name": "stdout",
     "output_type": "stream",
     "text": [
      "[3]层[110]特征[6]轮[MF]模型\n",
      "Top2分数[0.8235294117647058]\n"
     ]
    },
    {
     "name": "stderr",
     "output_type": "stream",
     "text": [
      "总进度[111/110]当前模型[MF]:   2%|▏         | 7/400 [00:53<51:56,  7.93s/it]"
     ]
    },
    {
     "name": "stdout",
     "output_type": "stream",
     "text": [
      "[3]层[110]特征[7]轮[MF]模型\n",
      "Top2分数[0.8161764705882353]\n"
     ]
    },
    {
     "name": "stderr",
     "output_type": "stream",
     "text": [
      "总进度[111/110]当前模型[MF]:   2%|▏         | 8/400 [01:02<53:24,  8.17s/it]"
     ]
    },
    {
     "name": "stdout",
     "output_type": "stream",
     "text": [
      "[3]层[110]特征[8]轮[MF]模型\n",
      "Top2分数[0.8088235294117647]\n"
     ]
    },
    {
     "name": "stderr",
     "output_type": "stream",
     "text": [
      "总进度[111/110]当前模型[MF]:   2%|▏         | 9/400 [01:11<54:21,  8.34s/it]"
     ]
    },
    {
     "name": "stdout",
     "output_type": "stream",
     "text": [
      "[3]层[110]特征[9]轮[MF]模型\n",
      "Top2分数[0.8308823529411765]\n"
     ]
    },
    {
     "name": "stderr",
     "output_type": "stream",
     "text": [
      "总进度[111/110]当前模型[MF]:   2%|▎         | 10/400 [01:20<55:07,  8.48s/it]"
     ]
    },
    {
     "name": "stdout",
     "output_type": "stream",
     "text": [
      "[3]层[110]特征[10]轮[MF]模型\n",
      "Top2分数[0.8529411764705882]\n"
     ]
    },
    {
     "name": "stderr",
     "output_type": "stream",
     "text": [
      "总进度[111/110]当前模型[MF]:   4%|▍         | 16/400 [01:57<44:21,  6.93s/it]"
     ]
    },
    {
     "name": "stdout",
     "output_type": "stream",
     "text": [
      "[3]层[110]特征[16]轮[MF]模型\n",
      "Top2分数[0.8676470588235294]\n"
     ]
    },
    {
     "name": "stderr",
     "output_type": "stream",
     "text": [
      "总进度[111/110]当前模型[MF]:   8%|▊         | 31/400 [03:26<41:29,  6.75s/it]"
     ]
    },
    {
     "name": "stdout",
     "output_type": "stream",
     "text": [
      "[3]层[110]特征[31]轮[MF]模型\n",
      "Top2分数[0.8676470588235294]\n"
     ]
    },
    {
     "name": "stderr",
     "output_type": "stream",
     "text": [
      "总进度[111/110]当前模型[MF]:   8%|▊         | 33/400 [03:41<43:27,  7.11s/it]"
     ]
    },
    {
     "name": "stdout",
     "output_type": "stream",
     "text": [
      "[3]层[110]特征[33]轮[MF]模型\n",
      "Top2分数[0.8970588235294118]\n"
     ]
    },
    {
     "name": "stderr",
     "output_type": "stream",
     "text": [
      "总进度[111/110]当前模型[MF]:   8%|▊         | 34/400 [03:49<46:17,  7.59s/it]"
     ]
    },
    {
     "name": "stdout",
     "output_type": "stream",
     "text": [
      "[3]层[110]特征[34]轮[MF]模型\n",
      "Top2分数[0.8897058823529411]\n"
     ]
    },
    {
     "name": "stderr",
     "output_type": "stream",
     "text": [
      "总进度[111/110]当前模型[MF]:   9%|▉         | 36/400 [04:04<45:40,  7.53s/it]"
     ]
    },
    {
     "name": "stdout",
     "output_type": "stream",
     "text": [
      "[3]层[110]特征[36]轮[MF]模型\n",
      "Top2分数[0.8897058823529411]\n"
     ]
    },
    {
     "name": "stderr",
     "output_type": "stream",
     "text": [
      "总进度[111/110]当前模型[MF]:  10%|█         | 40/400 [04:30<42:05,  7.02s/it]"
     ]
    },
    {
     "name": "stdout",
     "output_type": "stream",
     "text": [
      "[3]层[110]特征[40]轮[MF]模型\n",
      "Top2分数[0.875]\n"
     ]
    },
    {
     "name": "stderr",
     "output_type": "stream",
     "text": [
      "总进度[111/110]当前模型[MF]:  26%|██▋       | 105/400 [11:23<32:00,  6.51s/it]\n"
     ]
    },
    {
     "name": "stdout",
     "output_type": "stream",
     "text": [
      "[3]层[110]特征[106]轮[MF]模型\n",
      "Top2分数[0.875]\n",
      "测试\n"
     ]
    },
    {
     "name": "stderr",
     "output_type": "stream",
     "text": [
      "总进度[111/010]当前模型[MF]:   0%|          | 1/400 [00:10<1:07:06, 10.09s/it]"
     ]
    },
    {
     "name": "stdout",
     "output_type": "stream",
     "text": [
      "[4]层[010]特征[1]轮[MF]模型\n",
      "Top2分数[0.7205882352941176]\n"
     ]
    },
    {
     "name": "stderr",
     "output_type": "stream",
     "text": [
      "总进度[111/010]当前模型[MF]:   0%|          | 2/400 [00:21<1:13:24, 11.07s/it]"
     ]
    },
    {
     "name": "stdout",
     "output_type": "stream",
     "text": [
      "[4]层[010]特征[2]轮[MF]模型\n",
      "Top2分数[0.7352941176470589]\n"
     ]
    },
    {
     "name": "stderr",
     "output_type": "stream",
     "text": [
      "总进度[111/010]当前模型[MF]:   1%|          | 3/400 [00:33<1:15:30, 11.41s/it]"
     ]
    },
    {
     "name": "stdout",
     "output_type": "stream",
     "text": [
      "[4]层[010]特征[3]轮[MF]模型\n",
      "Top2分数[0.7867647058823529]\n"
     ]
    },
    {
     "name": "stderr",
     "output_type": "stream",
     "text": [
      "总进度[111/010]当前模型[MF]:   1%|          | 4/400 [00:45<1:16:18, 11.56s/it]"
     ]
    },
    {
     "name": "stdout",
     "output_type": "stream",
     "text": [
      "[4]层[010]特征[4]轮[MF]模型\n",
      "Top2分数[0.7867647058823529]\n"
     ]
    },
    {
     "name": "stderr",
     "output_type": "stream",
     "text": [
      "总进度[111/010]当前模型[MF]:   1%|▏         | 5/400 [00:57<1:16:37, 11.64s/it]"
     ]
    },
    {
     "name": "stdout",
     "output_type": "stream",
     "text": [
      "[4]层[010]特征[5]轮[MF]模型\n",
      "Top2分数[0.7573529411764706]\n"
     ]
    },
    {
     "name": "stderr",
     "output_type": "stream",
     "text": [
      "总进度[111/010]当前模型[MF]:   2%|▏         | 7/400 [01:10<58:18,  8.90s/it]  "
     ]
    },
    {
     "name": "stdout",
     "output_type": "stream",
     "text": [
      "[4]层[010]特征[7]轮[MF]模型\n",
      "Top2分数[0.8308823529411765]\n"
     ]
    },
    {
     "name": "stderr",
     "output_type": "stream",
     "text": [
      "总进度[111/010]当前模型[MF]:   2%|▏         | 8/400 [01:17<52:49,  8.09s/it]"
     ]
    },
    {
     "name": "stdout",
     "output_type": "stream",
     "text": [
      "[4]层[010]特征[8]轮[MF]模型\n",
      "Top2分数[0.8308823529411765]\n"
     ]
    },
    {
     "name": "stderr",
     "output_type": "stream",
     "text": [
      "总进度[111/010]当前模型[MF]:   3%|▎         | 11/400 [01:30<38:48,  5.99s/it]"
     ]
    },
    {
     "name": "stdout",
     "output_type": "stream",
     "text": [
      "[4]层[010]特征[11]轮[MF]模型\n",
      "Top2分数[0.8529411764705882]\n"
     ]
    },
    {
     "name": "stderr",
     "output_type": "stream",
     "text": [
      "总进度[111/010]当前模型[MF]:   3%|▎         | 13/400 [01:41<36:36,  5.67s/it]"
     ]
    },
    {
     "name": "stdout",
     "output_type": "stream",
     "text": [
      "[4]层[010]特征[13]轮[MF]模型\n",
      "Top2分数[0.8382352941176471]\n"
     ]
    },
    {
     "name": "stderr",
     "output_type": "stream",
     "text": [
      "总进度[111/010]当前模型[MF]:   5%|▌         | 20/400 [02:10<30:09,  4.76s/it]"
     ]
    },
    {
     "name": "stdout",
     "output_type": "stream",
     "text": [
      "[4]层[010]特征[20]轮[MF]模型\n",
      "Top2分数[0.8602941176470589]\n"
     ]
    },
    {
     "name": "stderr",
     "output_type": "stream",
     "text": [
      "总进度[111/010]当前模型[MF]:   6%|▋         | 25/400 [02:32<30:04,  4.81s/it]"
     ]
    },
    {
     "name": "stdout",
     "output_type": "stream",
     "text": [
      "[4]层[010]特征[25]轮[MF]模型\n",
      "Top2分数[0.875]\n"
     ]
    },
    {
     "name": "stderr",
     "output_type": "stream",
     "text": [
      "总进度[111/010]当前模型[MF]:   8%|▊         | 32/400 [03:01<28:23,  4.63s/it]"
     ]
    },
    {
     "name": "stdout",
     "output_type": "stream",
     "text": [
      "[4]层[010]特征[32]轮[MF]模型\n",
      "Top2分数[0.8676470588235294]\n"
     ]
    },
    {
     "name": "stderr",
     "output_type": "stream",
     "text": [
      "总进度[111/010]当前模型[MF]:  10%|█         | 42/400 [03:41<27:42,  4.64s/it]"
     ]
    },
    {
     "name": "stdout",
     "output_type": "stream",
     "text": [
      "[4]层[010]特征[42]轮[MF]模型\n",
      "Top2分数[0.8455882352941176]\n"
     ]
    },
    {
     "name": "stderr",
     "output_type": "stream",
     "text": [
      "总进度[111/010]当前模型[MF]:  27%|██▋       | 107/400 [07:50<21:29,  4.40s/it]\n"
     ]
    },
    {
     "name": "stdout",
     "output_type": "stream",
     "text": [
      "[4]层[010]特征[108]轮[MF]模型\n",
      "Top2分数[0.8455882352941176]\n",
      "测试\n"
     ]
    },
    {
     "name": "stderr",
     "output_type": "stream",
     "text": [
      "总进度[111/101]当前模型[MF]:   0%|          | 1/400 [00:04<32:18,  4.86s/it]"
     ]
    },
    {
     "name": "stdout",
     "output_type": "stream",
     "text": [
      "[4]层[101]特征[1]轮[MF]模型\n",
      "Top2分数[0.7647058823529411]\n"
     ]
    },
    {
     "name": "stderr",
     "output_type": "stream",
     "text": [
      "总进度[111/101]当前模型[MF]:   0%|          | 2/400 [00:11<38:28,  5.80s/it]"
     ]
    },
    {
     "name": "stdout",
     "output_type": "stream",
     "text": [
      "[4]层[101]特征[2]轮[MF]模型\n",
      "Top2分数[0.7132352941176471]\n"
     ]
    },
    {
     "name": "stderr",
     "output_type": "stream",
     "text": [
      "总进度[111/101]当前模型[MF]:   1%|          | 3/400 [00:17<40:25,  6.11s/it]"
     ]
    },
    {
     "name": "stdout",
     "output_type": "stream",
     "text": [
      "[4]层[101]特征[3]轮[MF]模型\n",
      "Top2分数[0.7426470588235294]\n"
     ]
    },
    {
     "name": "stderr",
     "output_type": "stream",
     "text": [
      "总进度[111/101]当前模型[MF]:   1%|          | 4/400 [00:24<41:22,  6.27s/it]"
     ]
    },
    {
     "name": "stdout",
     "output_type": "stream",
     "text": [
      "[4]层[101]特征[4]轮[MF]模型\n",
      "Top2分数[0.7794117647058824]\n"
     ]
    },
    {
     "name": "stderr",
     "output_type": "stream",
     "text": [
      "总进度[111/101]当前模型[MF]:   2%|▏         | 8/400 [00:42<33:15,  5.09s/it]"
     ]
    },
    {
     "name": "stdout",
     "output_type": "stream",
     "text": [
      "[4]层[101]特征[8]轮[MF]模型\n",
      "Top2分数[0.7058823529411765]\n"
     ]
    },
    {
     "name": "stderr",
     "output_type": "stream",
     "text": [
      "总进度[111/101]当前模型[MF]:   2%|▎         | 10/400 [00:52<33:59,  5.23s/it]"
     ]
    },
    {
     "name": "stdout",
     "output_type": "stream",
     "text": [
      "[4]层[101]特征[10]轮[MF]模型\n",
      "Top2分数[0.7941176470588235]\n"
     ]
    },
    {
     "name": "stderr",
     "output_type": "stream",
     "text": [
      "总进度[111/101]当前模型[MF]:   3%|▎         | 11/400 [00:58<36:08,  5.57s/it]"
     ]
    },
    {
     "name": "stdout",
     "output_type": "stream",
     "text": [
      "[4]层[101]特征[11]轮[MF]模型\n",
      "Top2分数[0.8382352941176471]\n"
     ]
    },
    {
     "name": "stderr",
     "output_type": "stream",
     "text": [
      "总进度[111/101]当前模型[MF]:   3%|▎         | 13/400 [01:08<35:18,  5.47s/it]"
     ]
    },
    {
     "name": "stdout",
     "output_type": "stream",
     "text": [
      "[4]层[101]特征[13]轮[MF]模型\n",
      "Top2分数[0.8308823529411765]\n"
     ]
    },
    {
     "name": "stderr",
     "output_type": "stream",
     "text": [
      "总进度[111/101]当前模型[MF]:   4%|▍         | 18/400 [01:30<31:09,  4.89s/it]"
     ]
    },
    {
     "name": "stdout",
     "output_type": "stream",
     "text": [
      "[4]层[101]特征[18]轮[MF]模型\n",
      "Top2分数[0.875]\n"
     ]
    },
    {
     "name": "stderr",
     "output_type": "stream",
     "text": [
      "总进度[111/101]当前模型[MF]:   6%|▌         | 23/400 [01:52<30:03,  4.78s/it]"
     ]
    },
    {
     "name": "stdout",
     "output_type": "stream",
     "text": [
      "[4]层[101]特征[23]轮[MF]模型\n",
      "Top2分数[0.8897058823529411]\n"
     ]
    },
    {
     "name": "stderr",
     "output_type": "stream",
     "text": [
      "总进度[111/101]当前模型[MF]:   7%|▋         | 27/400 [02:10<30:15,  4.87s/it]"
     ]
    },
    {
     "name": "stdout",
     "output_type": "stream",
     "text": [
      "[4]层[101]特征[27]轮[MF]模型\n",
      "Top2分数[0.8676470588235294]\n"
     ]
    },
    {
     "name": "stderr",
     "output_type": "stream",
     "text": [
      "总进度[111/101]当前模型[MF]:   7%|▋         | 28/400 [02:16<33:17,  5.37s/it]"
     ]
    },
    {
     "name": "stdout",
     "output_type": "stream",
     "text": [
      "[4]层[101]特征[28]轮[MF]模型\n",
      "Top2分数[0.875]\n"
     ]
    },
    {
     "name": "stderr",
     "output_type": "stream",
     "text": [
      "总进度[111/101]当前模型[MF]:  10%|█         | 41/400 [03:08<28:06,  4.70s/it]"
     ]
    },
    {
     "name": "stdout",
     "output_type": "stream",
     "text": [
      "[4]层[101]特征[41]轮[MF]模型\n",
      "Top2分数[0.8970588235294118]\n"
     ]
    },
    {
     "name": "stderr",
     "output_type": "stream",
     "text": [
      "总进度[111/101]当前模型[MF]:  12%|█▏        | 49/400 [03:41<26:41,  4.56s/it]"
     ]
    },
    {
     "name": "stdout",
     "output_type": "stream",
     "text": [
      "[4]层[101]特征[49]轮[MF]模型\n",
      "Top2分数[0.8897058823529411]\n"
     ]
    },
    {
     "name": "stderr",
     "output_type": "stream",
     "text": [
      "总进度[111/101]当前模型[MF]:  28%|██▊       | 114/400 [07:50<19:40,  4.13s/it]\n"
     ]
    },
    {
     "name": "stdout",
     "output_type": "stream",
     "text": [
      "[4]层[101]特征[115]轮[MF]模型\n",
      "Top2分数[0.8897058823529411]\n",
      "测试\n"
     ]
    },
    {
     "name": "stderr",
     "output_type": "stream",
     "text": [
      "总进度[111/110]当前模型[MF]:   0%|          | 1/400 [00:05<34:08,  5.14s/it]"
     ]
    },
    {
     "name": "stdout",
     "output_type": "stream",
     "text": [
      "[4]层[110]特征[1]轮[MF]模型\n",
      "Top2分数[0.7279411764705882]\n"
     ]
    },
    {
     "name": "stderr",
     "output_type": "stream",
     "text": [
      "总进度[111/110]当前模型[MF]:   0%|          | 2/400 [00:11<38:40,  5.83s/it]"
     ]
    },
    {
     "name": "stdout",
     "output_type": "stream",
     "text": [
      "[4]层[110]特征[2]轮[MF]模型\n",
      "Top2分数[0.7647058823529411]\n"
     ]
    },
    {
     "name": "stderr",
     "output_type": "stream",
     "text": [
      "总进度[111/110]当前模型[MF]:   1%|          | 3/400 [00:17<39:54,  6.03s/it]"
     ]
    },
    {
     "name": "stdout",
     "output_type": "stream",
     "text": [
      "[4]层[110]特征[3]轮[MF]模型\n",
      "Top2分数[0.7573529411764706]\n"
     ]
    },
    {
     "name": "stderr",
     "output_type": "stream",
     "text": [
      "总进度[111/110]当前模型[MF]:   1%|          | 4/400 [00:24<41:02,  6.22s/it]"
     ]
    },
    {
     "name": "stdout",
     "output_type": "stream",
     "text": [
      "[4]层[110]特征[4]轮[MF]模型\n",
      "Top2分数[0.7794117647058824]\n"
     ]
    },
    {
     "name": "stderr",
     "output_type": "stream",
     "text": [
      "总进度[111/110]当前模型[MF]:   1%|▏         | 5/400 [00:30<41:23,  6.29s/it]"
     ]
    },
    {
     "name": "stdout",
     "output_type": "stream",
     "text": [
      "[4]层[110]特征[5]轮[MF]模型\n",
      "Top2分数[0.7867647058823529]\n"
     ]
    },
    {
     "name": "stderr",
     "output_type": "stream",
     "text": [
      "总进度[111/110]当前模型[MF]:   2%|▏         | 6/400 [00:36<41:24,  6.31s/it]"
     ]
    },
    {
     "name": "stdout",
     "output_type": "stream",
     "text": [
      "[4]层[110]特征[6]轮[MF]模型\n",
      "Top2分数[0.8014705882352942]\n"
     ]
    },
    {
     "name": "stderr",
     "output_type": "stream",
     "text": [
      "总进度[111/110]当前模型[MF]:   2%|▏         | 7/400 [00:43<41:34,  6.35s/it]"
     ]
    },
    {
     "name": "stdout",
     "output_type": "stream",
     "text": [
      "[4]层[110]特征[7]轮[MF]模型\n",
      "Top2分数[0.8529411764705882]\n"
     ]
    },
    {
     "name": "stderr",
     "output_type": "stream",
     "text": [
      "总进度[111/110]当前模型[MF]:   2%|▏         | 8/400 [00:49<41:11,  6.31s/it]"
     ]
    },
    {
     "name": "stdout",
     "output_type": "stream",
     "text": [
      "[4]层[110]特征[8]轮[MF]模型\n",
      "Top2分数[0.8014705882352942]\n"
     ]
    },
    {
     "name": "stderr",
     "output_type": "stream",
     "text": [
      "总进度[111/110]当前模型[MF]:   2%|▏         | 9/400 [00:56<41:14,  6.33s/it]"
     ]
    },
    {
     "name": "stdout",
     "output_type": "stream",
     "text": [
      "[4]层[110]特征[9]轮[MF]模型\n",
      "Top2分数[0.8455882352941176]\n"
     ]
    },
    {
     "name": "stderr",
     "output_type": "stream",
     "text": [
      "总进度[111/110]当前模型[MF]:   3%|▎         | 13/400 [01:13<33:38,  5.22s/it]"
     ]
    },
    {
     "name": "stdout",
     "output_type": "stream",
     "text": [
      "[4]层[110]特征[13]轮[MF]模型\n",
      "Top2分数[0.8235294117647058]\n"
     ]
    },
    {
     "name": "stderr",
     "output_type": "stream",
     "text": [
      "总进度[111/110]当前模型[MF]:   6%|▌         | 22/400 [01:52<29:44,  4.72s/it]"
     ]
    },
    {
     "name": "stdout",
     "output_type": "stream",
     "text": [
      "[4]层[110]特征[22]轮[MF]模型\n",
      "Top2分数[0.8529411764705882]\n"
     ]
    },
    {
     "name": "stderr",
     "output_type": "stream",
     "text": [
      "总进度[111/110]当前模型[MF]:   8%|▊         | 30/400 [02:26<29:02,  4.71s/it]"
     ]
    },
    {
     "name": "stdout",
     "output_type": "stream",
     "text": [
      "[4]层[110]特征[30]轮[MF]模型\n",
      "Top2分数[0.8676470588235294]\n"
     ]
    },
    {
     "name": "stderr",
     "output_type": "stream",
     "text": [
      "总进度[111/110]当前模型[MF]:  24%|██▍       | 95/400 [06:38<21:18,  4.19s/it]\n"
     ]
    },
    {
     "name": "stdout",
     "output_type": "stream",
     "text": [
      "[4]层[110]特征[96]轮[MF]模型\n",
      "Top2分数[0.8676470588235294]\n",
      "测试\n"
     ]
    },
    {
     "name": "stderr",
     "output_type": "stream",
     "text": [
      "总进度[111/010]当前模型[MF]:   0%|          | 1/400 [00:05<39:19,  5.91s/it]"
     ]
    },
    {
     "name": "stdout",
     "output_type": "stream",
     "text": [
      "[5]层[010]特征[1]轮[MF]模型\n",
      "Top2分数[0.7352941176470589]\n"
     ]
    },
    {
     "name": "stderr",
     "output_type": "stream",
     "text": [
      "总进度[111/010]当前模型[MF]:   0%|          | 2/400 [00:13<47:00,  7.09s/it]"
     ]
    },
    {
     "name": "stdout",
     "output_type": "stream",
     "text": [
      "[5]层[010]特征[2]轮[MF]模型\n",
      "Top2分数[0.7132352941176471]\n"
     ]
    },
    {
     "name": "stderr",
     "output_type": "stream",
     "text": [
      "总进度[111/010]当前模型[MF]:   1%|          | 3/400 [00:21<49:39,  7.51s/it]"
     ]
    },
    {
     "name": "stdout",
     "output_type": "stream",
     "text": [
      "[5]层[010]特征[3]轮[MF]模型\n",
      "Top2分数[0.7647058823529411]\n"
     ]
    },
    {
     "name": "stderr",
     "output_type": "stream",
     "text": [
      "总进度[111/010]当前模型[MF]:   1%|          | 4/400 [00:29<50:37,  7.67s/it]"
     ]
    },
    {
     "name": "stdout",
     "output_type": "stream",
     "text": [
      "[5]层[010]特征[4]轮[MF]模型\n",
      "Top2分数[0.7867647058823529]\n"
     ]
    },
    {
     "name": "stderr",
     "output_type": "stream",
     "text": [
      "总进度[111/010]当前模型[MF]:   1%|▏         | 5/400 [00:37<51:24,  7.81s/it]"
     ]
    },
    {
     "name": "stdout",
     "output_type": "stream",
     "text": [
      "[5]层[010]特征[5]轮[MF]模型\n",
      "Top2分数[0.8161764705882353]\n"
     ]
    },
    {
     "name": "stderr",
     "output_type": "stream",
     "text": [
      "总进度[111/010]当前模型[MF]:   2%|▏         | 7/400 [00:50<47:41,  7.28s/it]"
     ]
    },
    {
     "name": "stdout",
     "output_type": "stream",
     "text": [
      "[5]层[010]特征[7]轮[MF]模型\n",
      "Top2分数[0.8088235294117647]\n"
     ]
    },
    {
     "name": "stderr",
     "output_type": "stream",
     "text": [
      "总进度[111/010]当前模型[MF]:   2%|▏         | 8/400 [00:59<49:44,  7.61s/it]"
     ]
    },
    {
     "name": "stdout",
     "output_type": "stream",
     "text": [
      "[5]层[010]特征[8]轮[MF]模型\n",
      "Top2分数[0.8235294117647058]\n"
     ]
    },
    {
     "name": "stderr",
     "output_type": "stream",
     "text": [
      "总进度[111/010]当前模型[MF]:   2%|▏         | 9/400 [01:07<51:12,  7.86s/it]"
     ]
    },
    {
     "name": "stdout",
     "output_type": "stream",
     "text": [
      "[5]层[010]特征[9]轮[MF]模型\n",
      "Top2分数[0.8014705882352942]\n"
     ]
    },
    {
     "name": "stderr",
     "output_type": "stream",
     "text": [
      "总进度[111/010]当前模型[MF]:   3%|▎         | 11/400 [01:20<46:35,  7.19s/it]"
     ]
    },
    {
     "name": "stdout",
     "output_type": "stream",
     "text": [
      "[5]层[010]特征[11]轮[MF]模型\n",
      "Top2分数[0.8161764705882353]\n"
     ]
    },
    {
     "name": "stderr",
     "output_type": "stream",
     "text": [
      "总进度[111/010]当前模型[MF]:   4%|▍         | 15/400 [01:42<40:14,  6.27s/it]"
     ]
    },
    {
     "name": "stdout",
     "output_type": "stream",
     "text": [
      "[5]层[010]特征[15]轮[MF]模型\n",
      "Top2分数[0.8088235294117647]\n"
     ]
    },
    {
     "name": "stderr",
     "output_type": "stream",
     "text": [
      "总进度[111/010]当前模型[MF]:   6%|▌         | 22/400 [02:18<36:46,  5.84s/it]"
     ]
    },
    {
     "name": "stdout",
     "output_type": "stream",
     "text": [
      "[5]层[010]特征[22]轮[MF]模型\n",
      "Top2分数[0.8529411764705882]\n"
     ]
    },
    {
     "name": "stderr",
     "output_type": "stream",
     "text": [
      "总进度[111/010]当前模型[MF]:  10%|▉         | 38/400 [03:38<35:00,  5.80s/it]"
     ]
    },
    {
     "name": "stdout",
     "output_type": "stream",
     "text": [
      "[5]层[010]特征[38]轮[MF]模型\n",
      "Top2分数[0.8455882352941176]\n"
     ]
    },
    {
     "name": "stderr",
     "output_type": "stream",
     "text": [
      "总进度[111/010]当前模型[MF]:  12%|█▏        | 47/400 [04:24<34:05,  5.80s/it]"
     ]
    },
    {
     "name": "stdout",
     "output_type": "stream",
     "text": [
      "[5]层[010]特征[47]轮[MF]模型\n",
      "Top2分数[0.8529411764705882]\n"
     ]
    },
    {
     "name": "stderr",
     "output_type": "stream",
     "text": [
      "总进度[111/010]当前模型[MF]:  28%|██▊       | 112/400 [09:38<24:47,  5.17s/it]\n"
     ]
    },
    {
     "name": "stdout",
     "output_type": "stream",
     "text": [
      "[5]层[010]特征[113]轮[MF]模型\n",
      "Top2分数[0.8529411764705882]\n",
      "测试\n"
     ]
    },
    {
     "name": "stderr",
     "output_type": "stream",
     "text": [
      "总进度[111/101]当前模型[MF]:   0%|          | 1/400 [00:06<40:58,  6.16s/it]"
     ]
    },
    {
     "name": "stdout",
     "output_type": "stream",
     "text": [
      "[5]层[101]特征[1]轮[MF]模型\n",
      "Top2分数[0.6985294117647058]\n"
     ]
    },
    {
     "name": "stderr",
     "output_type": "stream",
     "text": [
      "总进度[111/101]当前模型[MF]:   0%|          | 2/400 [00:14<48:53,  7.37s/it]"
     ]
    },
    {
     "name": "stdout",
     "output_type": "stream",
     "text": [
      "[5]层[101]特征[2]轮[MF]模型\n",
      "Top2分数[0.8088235294117647]\n"
     ]
    },
    {
     "name": "stderr",
     "output_type": "stream",
     "text": [
      "总进度[111/101]当前模型[MF]:   1%|          | 3/400 [00:22<50:24,  7.62s/it]"
     ]
    },
    {
     "name": "stdout",
     "output_type": "stream",
     "text": [
      "[5]层[101]特征[3]轮[MF]模型\n",
      "Top2分数[0.7867647058823529]\n"
     ]
    },
    {
     "name": "stderr",
     "output_type": "stream",
     "text": [
      "总进度[111/101]当前模型[MF]:   1%|          | 4/400 [00:30<51:31,  7.81s/it]"
     ]
    },
    {
     "name": "stdout",
     "output_type": "stream",
     "text": [
      "[5]层[101]特征[4]轮[MF]模型\n",
      "Top2分数[0.7941176470588235]\n"
     ]
    },
    {
     "name": "stderr",
     "output_type": "stream",
     "text": [
      "总进度[111/101]当前模型[MF]:   2%|▏         | 6/400 [00:42<46:36,  7.10s/it]"
     ]
    },
    {
     "name": "stdout",
     "output_type": "stream",
     "text": [
      "[5]层[101]特征[6]轮[MF]模型\n",
      "Top2分数[0.7794117647058824]\n"
     ]
    },
    {
     "name": "stderr",
     "output_type": "stream",
     "text": [
      "总进度[111/101]当前模型[MF]:   2%|▏         | 8/400 [00:55<44:48,  6.86s/it]"
     ]
    },
    {
     "name": "stdout",
     "output_type": "stream",
     "text": [
      "[5]层[101]特征[8]轮[MF]模型\n",
      "Top2分数[0.7867647058823529]\n"
     ]
    },
    {
     "name": "stderr",
     "output_type": "stream",
     "text": [
      "总进度[111/101]当前模型[MF]:   2%|▏         | 9/400 [01:03<46:56,  7.20s/it]"
     ]
    },
    {
     "name": "stdout",
     "output_type": "stream",
     "text": [
      "[5]层[101]特征[9]轮[MF]模型\n",
      "Top2分数[0.8308823529411765]\n"
     ]
    },
    {
     "name": "stderr",
     "output_type": "stream",
     "text": [
      "总进度[111/101]当前模型[MF]:   2%|▎         | 10/400 [01:11<48:33,  7.47s/it]"
     ]
    },
    {
     "name": "stdout",
     "output_type": "stream",
     "text": [
      "[5]层[101]特征[10]轮[MF]模型\n",
      "Top2分数[0.7867647058823529]\n"
     ]
    },
    {
     "name": "stderr",
     "output_type": "stream",
     "text": [
      "总进度[111/101]当前模型[MF]:   3%|▎         | 13/400 [01:29<43:02,  6.67s/it]"
     ]
    },
    {
     "name": "stdout",
     "output_type": "stream",
     "text": [
      "[5]层[101]特征[13]轮[MF]模型\n",
      "Top2分数[0.8088235294117647]\n"
     ]
    },
    {
     "name": "stderr",
     "output_type": "stream",
     "text": [
      "总进度[111/101]当前模型[MF]:   4%|▍         | 15/400 [01:42<43:14,  6.74s/it]"
     ]
    },
    {
     "name": "stdout",
     "output_type": "stream",
     "text": [
      "[5]层[101]特征[15]轮[MF]模型\n",
      "Top2分数[0.8382352941176471]\n"
     ]
    },
    {
     "name": "stderr",
     "output_type": "stream",
     "text": [
      "总进度[111/101]当前模型[MF]:   4%|▍         | 16/400 [01:50<46:09,  7.21s/it]"
     ]
    },
    {
     "name": "stdout",
     "output_type": "stream",
     "text": [
      "[5]层[101]特征[16]轮[MF]模型\n",
      "Top2分数[0.8235294117647058]\n"
     ]
    },
    {
     "name": "stderr",
     "output_type": "stream",
     "text": [
      "总进度[111/101]当前模型[MF]:   5%|▌         | 20/400 [02:13<40:40,  6.42s/it]"
     ]
    },
    {
     "name": "stdout",
     "output_type": "stream",
     "text": [
      "[5]层[101]特征[20]轮[MF]模型\n",
      "Top2分数[0.8161764705882353]\n"
     ]
    },
    {
     "name": "stderr",
     "output_type": "stream",
     "text": [
      "总进度[111/101]当前模型[MF]:   7%|▋         | 29/400 [02:59<36:18,  5.87s/it]"
     ]
    },
    {
     "name": "stdout",
     "output_type": "stream",
     "text": [
      "[5]层[101]特征[29]轮[MF]模型\n",
      "Top2分数[0.8529411764705882]\n"
     ]
    },
    {
     "name": "stderr",
     "output_type": "stream",
     "text": [
      "总进度[111/101]当前模型[MF]:  12%|█▏        | 49/400 [04:38<33:25,  5.71s/it]"
     ]
    },
    {
     "name": "stdout",
     "output_type": "stream",
     "text": [
      "[5]层[101]特征[49]轮[MF]模型\n",
      "Top2分数[0.8823529411764706]\n"
     ]
    },
    {
     "name": "stderr",
     "output_type": "stream",
     "text": [
      "总进度[111/101]当前模型[MF]:  28%|██▊       | 114/400 [09:52<24:47,  5.20s/it]\n"
     ]
    },
    {
     "name": "stdout",
     "output_type": "stream",
     "text": [
      "[5]层[101]特征[115]轮[MF]模型\n",
      "Top2分数[0.8823529411764706]\n",
      "测试\n"
     ]
    },
    {
     "name": "stderr",
     "output_type": "stream",
     "text": [
      "总进度[111/110]当前模型[MF]:   0%|          | 1/400 [00:06<42:39,  6.42s/it]"
     ]
    },
    {
     "name": "stdout",
     "output_type": "stream",
     "text": [
      "[5]层[110]特征[1]轮[MF]模型\n",
      "Top2分数[0.7279411764705882]\n"
     ]
    },
    {
     "name": "stderr",
     "output_type": "stream",
     "text": [
      "总进度[111/110]当前模型[MF]:   0%|          | 2/400 [00:14<49:57,  7.53s/it]"
     ]
    },
    {
     "name": "stdout",
     "output_type": "stream",
     "text": [
      "[5]层[110]特征[2]轮[MF]模型\n",
      "Top2分数[0.75]\n"
     ]
    },
    {
     "name": "stderr",
     "output_type": "stream",
     "text": [
      "总进度[111/110]当前模型[MF]:   1%|          | 3/400 [00:23<52:22,  7.92s/it]"
     ]
    },
    {
     "name": "stdout",
     "output_type": "stream",
     "text": [
      "[5]层[110]特征[3]轮[MF]模型\n",
      "Top2分数[0.7941176470588235]\n"
     ]
    },
    {
     "name": "stderr",
     "output_type": "stream",
     "text": [
      "总进度[111/110]当前模型[MF]:   1%|          | 4/400 [00:31<53:13,  8.07s/it]"
     ]
    },
    {
     "name": "stdout",
     "output_type": "stream",
     "text": [
      "[5]层[110]特征[4]轮[MF]模型\n",
      "Top2分数[0.7941176470588235]\n"
     ]
    },
    {
     "name": "stderr",
     "output_type": "stream",
     "text": [
      "总进度[111/110]当前模型[MF]:   2%|▏         | 6/400 [00:44<48:54,  7.45s/it]"
     ]
    },
    {
     "name": "stdout",
     "output_type": "stream",
     "text": [
      "[5]层[110]特征[6]轮[MF]模型\n",
      "Top2分数[0.8455882352941176]\n"
     ]
    },
    {
     "name": "stderr",
     "output_type": "stream",
     "text": [
      "总进度[111/110]当前模型[MF]:   2%|▏         | 7/400 [00:52<50:08,  7.66s/it]"
     ]
    },
    {
     "name": "stdout",
     "output_type": "stream",
     "text": [
      "[5]层[110]特征[7]轮[MF]模型\n",
      "Top2分数[0.8455882352941176]\n"
     ]
    },
    {
     "name": "stderr",
     "output_type": "stream",
     "text": [
      "总进度[111/110]当前模型[MF]:   2%|▏         | 8/400 [01:00<50:47,  7.77s/it]"
     ]
    },
    {
     "name": "stdout",
     "output_type": "stream",
     "text": [
      "[5]层[110]特征[8]轮[MF]模型\n",
      "Top2分数[0.8161764705882353]\n"
     ]
    },
    {
     "name": "stderr",
     "output_type": "stream",
     "text": [
      "总进度[111/110]当前模型[MF]:   2%|▏         | 9/400 [01:08<51:17,  7.87s/it]"
     ]
    },
    {
     "name": "stdout",
     "output_type": "stream",
     "text": [
      "[5]层[110]特征[9]轮[MF]模型\n",
      "Top2分数[0.8382352941176471]\n"
     ]
    },
    {
     "name": "stderr",
     "output_type": "stream",
     "text": [
      "总进度[111/110]当前模型[MF]:   4%|▎         | 14/400 [01:35<40:03,  6.23s/it]"
     ]
    },
    {
     "name": "stdout",
     "output_type": "stream",
     "text": [
      "[5]层[110]特征[14]轮[MF]模型\n",
      "Top2分数[0.8161764705882353]\n"
     ]
    },
    {
     "name": "stderr",
     "output_type": "stream",
     "text": [
      "总进度[111/110]当前模型[MF]:  10%|█         | 40/400 [03:39<34:45,  5.79s/it]"
     ]
    },
    {
     "name": "stdout",
     "output_type": "stream",
     "text": [
      "[5]层[110]特征[40]轮[MF]模型\n",
      "Top2分数[0.8529411764705882]\n"
     ]
    },
    {
     "name": "stderr",
     "output_type": "stream",
     "text": [
      "总进度[111/110]当前模型[MF]:  26%|██▋       | 105/400 [08:45<24:35,  5.00s/it]\n"
     ]
    },
    {
     "name": "stdout",
     "output_type": "stream",
     "text": [
      "[5]层[110]特征[106]轮[MF]模型\n",
      "Top2分数[0.8529411764705882]\n",
      "End\n"
     ]
    }
   ],
   "source": [
    "all_test_dict = result_dict\n",
    "args['device'] = torch.device('cuda:0' if torch.cuda.is_available() else 'cpu')\n",
    "# args['device'] = torch.device('cpu')\n",
    "saveModelsDir = '/home/dldx/DATA/JXDATA/GitHubProjects/GraphCySoM/datasets/MF消融/Models'\n",
    "gnnResultsDir = '/home/dldx/DATA/JXDATA/GitHubProjects/GraphCySoM/datasets/MF消融/Results'\n",
    "if not os.path.exists(saveModelsDir): os.mkdir(saveModelsDir)\n",
    "if not os.path.exists(gnnResultsDir): os.mkdir(gnnResultsDir)\n",
    "args['model_dir'] = saveModelsDir\n",
    "args['result_dir'] = gnnResultsDir\n",
    "args['conv'] = MFConv\n",
    "args['model_name'] = 'MF'\n",
    "layer_number = 5\n",
    "for layer in range(1, layer_number+1):\n",
    "    args['layer_number'] = layer\n",
    "    newSaveModelsDir = os.path.join(saveModelsDir, f'{layer}层')\n",
    "    newGnnResultsDir = os.path.join(gnnResultsDir, f'{layer}层')\n",
    "    if not os.path.exists(newSaveModelsDir): os.mkdir(newSaveModelsDir)\n",
    "    if not os.path.exists(newGnnResultsDir): os.mkdir(newGnnResultsDir)\n",
    "    args['model_dir'] = newSaveModelsDir\n",
    "    args['result_dir'] = newGnnResultsDir\n",
    "    for i in range(1, 8):\n",
    "        if i == 0: continue\n",
    "        if i == 1: continue\n",
    "        if i == 3: continue\n",
    "        if i == 4: continue\n",
    "        if i == 7: continue\n",
    "        print(\"测试\")\n",
    "        bin_ = bin(i)[2:]\n",
    "        binNumber = bin_.zfill(3)\n",
    "        traits_ = ''.join(binNumber)\n",
    "        args['traits_number_str'] = traits_\n",
    "        trainData = train_data_list[traits_]    \n",
    "        testData = test_data_list[traits_]\n",
    "        args['traits_number'] = testData[0].x.shape[1]\n",
    "        training_set, validation_set = random_split(\n",
    "            trainData, \n",
    "            [int(len(trainData) * 0.85), len(trainData) - int(len(trainData) * 0.85)], \n",
    "            generator=torch.Generator().manual_seed(args['seed']))\n",
    "        # trainLoader, valLoader, testLoader = get_loader_data(train_data, test_data, batchSize)\n",
    "        trainLoader, valLoader, testLoader = get_loader_data(trainData, testData, batchSize)\n",
    "        # 主函数\n",
    "        DataFrameSet = main(args, trainLoader, valLoader, testLoader, is_del=True)\n",
    "        all_test_dict = pd.concat([all_test_dict, DataFrameSet]).reset_index(drop=True)\n",
    "    all_test_dict.to_csv(os.path.join(newGnnResultsDir, f'ALL_results[{layer}层].csv'))\n",
    "all_test_dict.to_csv(os.path.join(gnnResultsDir, 'ALL_results.csv'))\n",
    "print('End')"
   ]
  }
 ],
 "metadata": {
  "kernelspec": {
   "display_name": "Python 3 (ipykernel)",
   "language": "python",
   "name": "python3"
  },
  "language_info": {
   "codemirror_mode": {
    "name": "ipython",
    "version": 3
   },
   "file_extension": ".py",
   "mimetype": "text/x-python",
   "name": "python",
   "nbconvert_exporter": "python",
   "pygments_lexer": "ipython3",
   "version": "3.8.18"
  }
 },
 "nbformat": 4,
 "nbformat_minor": 5
}
