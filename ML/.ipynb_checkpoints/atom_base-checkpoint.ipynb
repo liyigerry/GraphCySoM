{
 "cells": [
  {
   "cell_type": "code",
   "execution_count": 17,
   "id": "5d5668e3",
   "metadata": {},
   "outputs": [],
   "source": [
    "from sklearn.ensemble import RandomForestClassifier\n",
    "from sklearn.svm import SVC\n",
    "from sklearn.naive_bayes import GaussianNB\n",
    "from sklearn.linear_model import LogisticRegression\n",
    "from sklearn.tree import DecisionTreeClassifier\n",
    "from rdkit import Chem\n",
    "from rdkit.Chem.rdchem import HybridizationType, ChiralType\n",
    "import pickle\n",
    "import numpy as np\n",
    "from sklearn.metrics import roc_auc_score, accuracy_score, matthews_corrcoef\n",
    "from sklearn.model_selection import GridSearchCV"
   ]
  },
  {
   "cell_type": "code",
   "execution_count": 2,
   "id": "cf859075",
   "metadata": {},
   "outputs": [],
   "source": [
    "def find_topk(a, k, axis=-1, largest=True, sorted=True):\n",
    "    if axis is None:\n",
    "        axis_size = a.size\n",
    "    else:\n",
    "        axis_size = a.shape[axis]\n",
    "    assert 1 <= k <= axis_size\n",
    "\n",
    "    a = np.asanyarray(a)\n",
    "    if largest:\n",
    "        index_array = np.argpartition(a, axis_size-k, axis=axis)\n",
    "        topk_indices = np.take(index_array, -np.arange(k)-1, axis=axis)\n",
    "    else:\n",
    "        index_array = np.argpartition(a, k-1, axis=axis)\n",
    "        topk_indices = np.take(index_array, np.arange(k), axis=axis)\n",
    "    topk_values = np.take_along_axis(a, topk_indices, axis=axis)\n",
    "    if sorted:\n",
    "        sorted_indices_in_topk = np.argsort(topk_values, axis=axis)\n",
    "        if largest:\n",
    "            sorted_indices_in_topk = np.flip(sorted_indices_in_topk, axis=axis)\n",
    "        sorted_topk_values = np.take_along_axis(\n",
    "            topk_values, sorted_indices_in_topk, axis=axis)\n",
    "        sorted_topk_indices = np.take_along_axis(\n",
    "            topk_indices, sorted_indices_in_topk, axis=axis)\n",
    "        return sorted_topk_values, sorted_topk_indices\n",
    "    return topk_values, topk_indices"
   ]
  },
  {
   "cell_type": "code",
   "execution_count": 3,
   "id": "ecebc69c",
   "metadata": {},
   "outputs": [],
   "source": [
    "# atom based\n",
    "def _get_node_features(mol):\n",
    "    all_node_feats = []\n",
    "\n",
    "    identity = {\n",
    "        'C':[1,0,0,0,0,0,0,0,0,0],\n",
    "        'N':[0,1,0,0,0,0,0,0,0,0],\n",
    "        'O':[0,0,1,0,0,0,0,0,0,0],\n",
    "        'F':[0,0,0,1,0,0,0,0,0,0],\n",
    "        'P':[0,0,0,0,1,0,0,0,0,0],\n",
    "        'S':[0,0,0,0,0,1,0,0,0,0],\n",
    "        'Cl':[0,0,0,0,0,0,1,0,0,0],\n",
    "        'Br':[0,0,0,0,0,0,0,1,0,0],\n",
    "        'I':[0,0,0,0,0,0,0,0,1,0],\n",
    "        'other':[0,0,0,0,0,0,0,0,0,1],\n",
    "    }\n",
    "    for atom in mol.GetAtoms():\n",
    "        node_feats = []\n",
    "        # atom number\n",
    "        idx = atom.GetIdx()\n",
    "        # atom type one-hot 10\n",
    "        node_feats.extend(identity.get(atom.GetSymbol(),[0,0,0,0,0,0,0,0,0,1]))\n",
    "        # implicit valence\n",
    "        node_feats.append(atom.GetImplicitValence())\n",
    "        # formal charge\n",
    "        node_feats.append(atom.GetFormalCharge())\n",
    "        # radical electrons\n",
    "        node_feats.append(atom.GetNumRadicalElectrons())\n",
    "            \n",
    "        # aromatic 0 or 1\n",
    "        if atom.GetIsAromatic():\n",
    "            node_feats.append(1)\n",
    "        else:\n",
    "            node_feats.append(0)\n",
    "\n",
    "        # chirality\n",
    "        chirality = atom.GetChiralTag()\n",
    "        if chirality == ChiralType.CHI_TETRAHEDRAL_CCW: temp = [1, 0, 0, 0]\n",
    "        if chirality == ChiralType.CHI_TETRAHEDRAL_CW: temp = [0, 1, 0, 0]\n",
    "        if chirality == ChiralType.CHI_OTHER: temp = [0, 0, 1, 0]\n",
    "        if chirality == ChiralType.CHI_UNSPECIFIED: temp = [0, 0, 0, 1]\n",
    "        node_feats.extend(temp)\n",
    "        # hybridization\n",
    "        hybridization = atom.GetHybridization()\n",
    "        if hybridization == HybridizationType.S: tmp = [1, 0, 0, 0, 0, 0, 0, 0]\n",
    "        if hybridization == HybridizationType.SP: tmp = [0, 1, 0, 0, 0, 0, 0, 0]\n",
    "        if hybridization == HybridizationType.SP2: tmp = [0, 0, 1, 0, 0, 0, 0, 0]\n",
    "        if hybridization == HybridizationType.SP3: tmp = [0, 0, 0, 1, 0, 0, 0, 0]\n",
    "        if hybridization == HybridizationType.SP3D: tmp = [0, 0, 0, 0, 1, 0, 0, 0]\n",
    "        if hybridization == HybridizationType.SP3D2: tmp = [0, 0, 0, 0, 0, 1, 0, 0]\n",
    "        if hybridization == HybridizationType.OTHER: tmp = [0, 0, 0, 0, 0, 0, 1, 0]\n",
    "        if hybridization == HybridizationType.UNSPECIFIED: tmp = [0, 0, 0, 0, 0, 0, 0, 1]\n",
    "        node_feats.extend(tmp)\n",
    "        # Append node features to matrix\n",
    "        all_node_feats.append(node_feats)\n",
    "\n",
    "    all_node_feats = np.asarray(all_node_feats, dtype=np.float)\n",
    "    return all_node_feats\n",
    "\n",
    "def _get_labels(mol):\n",
    "    _y = []\n",
    "    som = ['PRIMARY_SOM_1A2', 'PRIMARY_SOM_2A6','PRIMARY_SOM_2B6','PRIMARY_SOM_2C8','PRIMARY_SOM_2C9','PRIMARY_SOM_2C19','PRIMARY_SOM_2D6','PRIMARY_SOM_2E1','PRIMARY_SOM_3A4',\n",
    "            'SECONDARY_SOM_1A2', 'SECONDARY_SOM_2A6','SECONDARY_SOM_2B6','SECONDARY_SOM_2C8','SECONDARY_SOM_2C9','SECONDARY_SOM_2C19','SECONDARY_SOM_2D6','SECONDARY_SOM_2E1','SECONDARY_SOM_3A4',\n",
    "            'TERTIARY_SOM_1A2', 'TERTIARY_SOM_2A6','TERTIARY_SOM_2B6','TERTIARY_SOM_2C8','TERTIARY_SOM_2C9','TERTIARY_SOM_2C19','TERTIARY_SOM_2D6','TERTIARY_SOM_2E1','TERTIARY_SOM_3A4'\n",
    "            ]\n",
    "    result = []\n",
    "    for k in som:\n",
    "        try:\n",
    "            _res = mol.GetProp(k)\n",
    "            if ' ' in _res:\n",
    "                res = _res.split(' ')\n",
    "                for s in res:\n",
    "                    result.append(int(s))\n",
    "            else:\n",
    "                result.append(int(_res))\n",
    "        except:\n",
    "            pass\n",
    "\n",
    "    for data in result:\n",
    "        _y.append(data)\n",
    "    _y = list(set(_y))\n",
    "\n",
    "    y = np.zeros(len(mol.GetAtoms()))\n",
    "    for i in _y:\n",
    "        y[i-1] = 1\n",
    "    return y"
   ]
  },
  {
   "cell_type": "code",
   "execution_count": 4,
   "id": "4135ab9b",
   "metadata": {},
   "outputs": [],
   "source": [
    "filepath = '../Dataset/merged.sdf'\n",
    "raws = Chem.SDMolSupplier(filepath)"
   ]
  },
  {
   "cell_type": "code",
   "execution_count": 5,
   "id": "2364791d",
   "metadata": {},
   "outputs": [],
   "source": [
    "mols = [mol for mol in raws]"
   ]
  },
  {
   "cell_type": "code",
   "execution_count": 6,
   "id": "926826f8",
   "metadata": {},
   "outputs": [
    {
     "name": "stderr",
     "output_type": "stream",
     "text": [
      "/tmp/ipykernel_1367733/4010159681.py:57: DeprecationWarning: `np.float` is a deprecated alias for the builtin `float`. To silence this warning, use `float` by itself. Doing this will not modify any behavior and is safe. If you specifically wanted the numpy scalar type, use `np.float64` here.\n",
      "Deprecated in NumPy 1.20; for more details and guidance: https://numpy.org/devdocs/release/1.20.0-notes.html#deprecations\n",
      "  all_node_feats = np.asarray(all_node_feats, dtype=np.float)\n"
     ]
    }
   ],
   "source": [
    "dataset = []\n",
    "for mol in mols:\n",
    "    mol_feature = _get_node_features(mol)\n",
    "    label = _get_labels(mol)\n",
    "    dataset.append((mol_feature, label))"
   ]
  },
  {
   "cell_type": "code",
   "execution_count": 7,
   "id": "4944a71e",
   "metadata": {},
   "outputs": [],
   "source": [
    "import random\n",
    "random.seed(42)\n",
    "random.shuffle(dataset)"
   ]
  },
  {
   "cell_type": "code",
   "execution_count": 8,
   "id": "1643b1d1",
   "metadata": {},
   "outputs": [],
   "source": [
    "training_set = dataset[:int(len(dataset) * 0.8)]\n",
    "test_set = dataset[int(len(dataset) * 0.8):]"
   ]
  },
  {
   "cell_type": "code",
   "execution_count": 9,
   "id": "c8d7ae62",
   "metadata": {},
   "outputs": [
    {
     "data": {
      "text/plain": [
       "(35, 26)"
      ]
     },
     "execution_count": 9,
     "metadata": {},
     "output_type": "execute_result"
    }
   ],
   "source": [
    "training_set[0][0].shape"
   ]
  },
  {
   "cell_type": "code",
   "execution_count": 10,
   "id": "1e435aa1",
   "metadata": {},
   "outputs": [
    {
     "name": "stdout",
     "output_type": "stream",
     "text": [
      "tr_all means all training atoms num, num is 12010\n",
      "training set molecule num is 544\n",
      "all atoms is 12010\n"
     ]
    }
   ],
   "source": [
    "tr_all = 0 # all training atoms\n",
    "tr_indices = [] # molecule nums\n",
    "y_train = [] # label\n",
    "for feature, label in training_set:\n",
    "    tr_all += feature.shape[0]\n",
    "    tr_indices.append(len(label))\n",
    "    y_train.extend(label)\n",
    "print(f'tr_all means all training atoms num, num is {tr_all}')\n",
    "print(f'training set molecule num is {len(tr_indices)}')\n",
    "print(f'all atoms is {len(y_train)}')"
   ]
  },
  {
   "cell_type": "code",
   "execution_count": 11,
   "id": "e5a30002",
   "metadata": {},
   "outputs": [],
   "source": [
    "# 拼成一个大矩阵?\n",
    "x_train = np.zeros((tr_all, training_set[0][0].shape[1]))\n",
    "pre = 0\n",
    "for i in range(len(tr_indices)):\n",
    "    if i == 0:\n",
    "        x_train[:tr_indices[i], :] = training_set[i][0]\n",
    "    else:\n",
    "        j = i - 1\n",
    "        pre += tr_indices[j]\n",
    "        x_train[pre:pre + tr_indices[i], :] = training_set[i][0]"
   ]
  },
  {
   "cell_type": "code",
   "execution_count": 12,
   "id": "eb5861c4",
   "metadata": {},
   "outputs": [],
   "source": [
    "y_train = np.array(y_train)"
   ]
  },
  {
   "cell_type": "code",
   "execution_count": 13,
   "id": "7357148e",
   "metadata": {},
   "outputs": [
    {
     "name": "stdout",
     "output_type": "stream",
     "text": [
      "3259\n",
      "136\n",
      "3259\n"
     ]
    }
   ],
   "source": [
    "# test 时拼成一个大矩阵\n",
    "te_all = 0\n",
    "te_indices = []\n",
    "y_test = []\n",
    "for feature, label in test_set:\n",
    "    te_all += feature.shape[0]\n",
    "    te_indices.append(len(label))\n",
    "    y_test.extend(label)\n",
    "print(te_all)\n",
    "print(len(te_indices))\n",
    "print(len(y_test))"
   ]
  },
  {
   "cell_type": "code",
   "execution_count": 14,
   "id": "a6815f2c",
   "metadata": {},
   "outputs": [],
   "source": [
    "x_test = np.zeros((te_all, training_set[0][0].shape[1]))\n",
    "pre = 0\n",
    "for i in range(len(te_indices)):\n",
    "    if i == 0:\n",
    "        x_test[:te_indices[i], :] = test_set[i][0]\n",
    "    else:\n",
    "        j = i - 1\n",
    "        pre += te_indices[j]\n",
    "        x_test[pre:pre + te_indices[i], :] = test_set[i][0]"
   ]
  },
  {
   "cell_type": "code",
   "execution_count": 15,
   "id": "df42c215",
   "metadata": {},
   "outputs": [],
   "source": [
    "y_test = np.array(y_test)"
   ]
  },
  {
   "cell_type": "markdown",
   "id": "9a32a273",
   "metadata": {},
   "source": [
    "# random forest"
   ]
  },
  {
   "cell_type": "code",
   "execution_count": 23,
   "id": "2a6a3d41",
   "metadata": {},
   "outputs": [
    {
     "data": {
      "text/plain": [
       "GridSearchCV(cv=5,\n",
       "             estimator=RandomForestClassifier(class_weight='balanced',\n",
       "                                              random_state=42),\n",
       "             param_grid={'criterion': ['gini', 'entropy'],\n",
       "                         'max_depth': [10, 20, 30],\n",
       "                         'n_estimators': [100, 150, 200, 50]},\n",
       "             scoring='roc_auc')"
      ]
     },
     "execution_count": 23,
     "metadata": {},
     "output_type": "execute_result"
    }
   ],
   "source": [
    "# gridsearch random forest\n",
    "max_depths = [10, 20, 30]\n",
    "criterions = ['gini', 'entropy']\n",
    "_n_estimators = [100, 150, 200, 50]\n",
    "tuned_parameters = dict(max_depth=max_depths,criterion=criterions, n_estimators=_n_estimators)\n",
    "clf = RandomForestClassifier(random_state=42, class_weight='balanced')\n",
    "grid = GridSearchCV(clf, tuned_parameters, cv=5, scoring='roc_auc')\n",
    "grid.fit(x_train, y_train)"
   ]
  },
  {
   "cell_type": "code",
   "execution_count": 24,
   "id": "42aa8366",
   "metadata": {},
   "outputs": [
    {
     "name": "stdout",
     "output_type": "stream",
     "text": [
      "0.7900658269676198\n",
      "{'criterion': 'entropy', 'max_depth': 20, 'n_estimators': 200}\n"
     ]
    }
   ],
   "source": [
    "print(grid.best_score_)\n",
    "print(grid.best_params_)"
   ]
  },
  {
   "cell_type": "code",
   "execution_count": 25,
   "id": "e5182777",
   "metadata": {},
   "outputs": [],
   "source": [
    "clf = RandomForestClassifier(n_estimators=200,max_depth=20,criterion='entropy',random_state=42, class_weight='balanced').fit(x_train, y_train)"
   ]
  },
  {
   "cell_type": "code",
   "execution_count": 36,
   "id": "07a5428a",
   "metadata": {},
   "outputs": [
    {
     "name": "stdout",
     "output_type": "stream",
     "text": [
      "3259\n",
      "136\n",
      "3259\n"
     ]
    }
   ],
   "source": [
    "# for test all of them\n",
    "# test 时拼成一个大矩阵\n",
    "te_all = 0\n",
    "te_indices = []\n",
    "y_test = []\n",
    "for feature, label in test_set:\n",
    "    te_all += feature.shape[0]\n",
    "    te_indices.append(len(label))\n",
    "    y_test.extend(label)\n",
    "print(te_all)\n",
    "print(len(te_indices))\n",
    "print(len(y_test))"
   ]
  },
  {
   "cell_type": "code",
   "execution_count": 37,
   "id": "27cf0b96",
   "metadata": {},
   "outputs": [],
   "source": [
    "x_test = np.zeros((te_all, training_set[0][0].shape[1]))\n",
    "pre = 0\n",
    "for i in range(len(te_indices)):\n",
    "    if i == 0:\n",
    "        x_test[:te_indices[i], :] = test_set[i][0]\n",
    "    else:\n",
    "        j = i - 1\n",
    "        pre += te_indices[j]\n",
    "        x_test[pre:pre + te_indices[i], :] = test_set[i][0]"
   ]
  },
  {
   "cell_type": "code",
   "execution_count": 38,
   "id": "b953ab9d",
   "metadata": {},
   "outputs": [],
   "source": [
    "y_test = np.array(y_test)"
   ]
  },
  {
   "cell_type": "code",
   "execution_count": 39,
   "id": "617aa648",
   "metadata": {},
   "outputs": [],
   "source": [
    "preds = clf.predict(x_test)\n",
    "logits = clf.predict_proba(x_test)"
   ]
  },
  {
   "cell_type": "code",
   "execution_count": 40,
   "id": "250938bb",
   "metadata": {},
   "outputs": [
    {
     "data": {
      "text/plain": [
       "(3259, 2)"
      ]
     },
     "execution_count": 40,
     "metadata": {},
     "output_type": "execute_result"
    }
   ],
   "source": [
    "logits.shape"
   ]
  },
  {
   "cell_type": "code",
   "execution_count": 41,
   "id": "83d36221",
   "metadata": {},
   "outputs": [
    {
     "data": {
      "text/plain": [
       "(3259,)"
      ]
     },
     "execution_count": 41,
     "metadata": {},
     "output_type": "execute_result"
    }
   ],
   "source": [
    "preds.shape"
   ]
  },
  {
   "cell_type": "code",
   "execution_count": 42,
   "id": "b39f440e",
   "metadata": {},
   "outputs": [
    {
     "name": "stdout",
     "output_type": "stream",
     "text": [
      "(21,)\n",
      "70\n",
      "136\n",
      "top2 acc: 0.5147058823529411\n"
     ]
    }
   ],
   "source": [
    "# 拆分出logits， 计算top-k\n",
    "top2 = 0\n",
    "pre = 0\n",
    "for i in range(len(te_indices)):\n",
    "    if i == 0:\n",
    "        # 取出第一列，\n",
    "        y_preds = logits[:te_indices[i], :][:, 1]\n",
    "        print(y_preds.shape)\n",
    "        topk_values, topk_indices = find_topk(y_preds, 2)\n",
    "        for a in range(len(test_set[i][1])):\n",
    "            if test_set[i][1][a] == 1 and a in topk_indices:\n",
    "                top2 += 1\n",
    "                break\n",
    "    else:\n",
    "        j = i - 1\n",
    "        pre += te_indices[j]\n",
    "        y_preds = logits[pre:pre + te_indices[i], :][:, 1]\n",
    "        topk_values, topk_indices = find_topk(y_preds, 2)\n",
    "        for a in range(len(test_set[i][1])):\n",
    "            if test_set[i][1][a] == 1 and a in topk_indices:\n",
    "                top2 += 1\n",
    "                break\n",
    "print(top2)\n",
    "print(len(test_set))\n",
    "print(f'top2 acc: {top2 / len(test_set)}')"
   ]
  },
  {
   "cell_type": "code",
   "execution_count": 43,
   "id": "7e670112",
   "metadata": {},
   "outputs": [
    {
     "data": {
      "text/plain": [
       "0.7394597336089744"
      ]
     },
     "execution_count": 43,
     "metadata": {},
     "output_type": "execute_result"
    }
   ],
   "source": [
    "roc_auc_score(y_test, preds)"
   ]
  },
  {
   "cell_type": "code",
   "execution_count": 44,
   "id": "4a6a5212",
   "metadata": {},
   "outputs": [
    {
     "data": {
      "text/plain": [
       "0.28390174999462064"
      ]
     },
     "execution_count": 44,
     "metadata": {},
     "output_type": "execute_result"
    }
   ],
   "source": [
    "matthews_corrcoef(y_test, preds)"
   ]
  },
  {
   "cell_type": "code",
   "execution_count": null,
   "id": "94e481b3",
   "metadata": {},
   "outputs": [],
   "source": [
    "# the result is same"
   ]
  },
  {
   "cell_type": "code",
   "execution_count": 32,
   "id": "744e2608",
   "metadata": {},
   "outputs": [],
   "source": [
    "# for test, one by one\n",
    "all_label = []\n",
    "all_pred = []\n",
    "top2 = 0\n",
    "for feature, label in test_set:\n",
    "    preds = clf.predict(feature)\n",
    "    logits = clf.predict_proba(feature)\n",
    "    topk_values, topk_indices = find_topk(logits[:,1], 2)\n",
    "    for i in topk_indices:\n",
    "        if label[i]:\n",
    "            top2 += 1\n",
    "            break\n",
    "    all_label.extend(label)\n",
    "    all_pred.extend(preds)"
   ]
  },
  {
   "cell_type": "code",
   "execution_count": 33,
   "id": "e56ea8a5",
   "metadata": {},
   "outputs": [
    {
     "name": "stdout",
     "output_type": "stream",
     "text": [
      "Top2 acc is 0.5147058823529411\n"
     ]
    }
   ],
   "source": [
    "print(f'Top2 acc is {top2 / len(test_set)}')"
   ]
  },
  {
   "cell_type": "code",
   "execution_count": 34,
   "id": "879fd7ce",
   "metadata": {},
   "outputs": [
    {
     "data": {
      "text/plain": [
       "0.7394597336089744"
      ]
     },
     "execution_count": 34,
     "metadata": {},
     "output_type": "execute_result"
    }
   ],
   "source": [
    "roc_auc_score(all_label, all_pred)"
   ]
  },
  {
   "cell_type": "code",
   "execution_count": 35,
   "id": "a583a597",
   "metadata": {},
   "outputs": [
    {
     "data": {
      "text/plain": [
       "0.28390174999462064"
      ]
     },
     "execution_count": 35,
     "metadata": {},
     "output_type": "execute_result"
    }
   ],
   "source": [
    "matthews_corrcoef(all_label, all_pred)"
   ]
  },
  {
   "cell_type": "markdown",
   "id": "a6271996",
   "metadata": {},
   "source": [
    "# decesion tree"
   ]
  },
  {
   "cell_type": "code",
   "execution_count": 18,
   "id": "da840296",
   "metadata": {},
   "outputs": [
    {
     "data": {
      "text/plain": [
       "GridSearchCV(cv=5,\n",
       "             estimator=DecisionTreeClassifier(class_weight='balanced',\n",
       "                                              random_state=42),\n",
       "             param_grid={'criterion': ['gini', 'entropy'],\n",
       "                         'max_depth': [10, 20, 30, 40, 50, None],\n",
       "                         'splitter': ['best', 'random']},\n",
       "             scoring='roc_auc')"
      ]
     },
     "execution_count": 18,
     "metadata": {},
     "output_type": "execute_result"
    }
   ],
   "source": [
    "# gridsearch\n",
    "max_depths = [10, 20, 30, 40, 50, None]\n",
    "criterions = ['gini', 'entropy']\n",
    "splitters = ['best', 'random']\n",
    "tuned_parameters = dict(max_depth=max_depths,criterion=criterions, splitter=splitters)\n",
    "clf = DecisionTreeClassifier(random_state=42, class_weight='balanced')\n",
    "grid = GridSearchCV(clf, tuned_parameters, cv=5, scoring='roc_auc')\n",
    "grid.fit(x_train, y_train)"
   ]
  },
  {
   "cell_type": "code",
   "execution_count": 19,
   "id": "cbc36ccd",
   "metadata": {},
   "outputs": [
    {
     "name": "stdout",
     "output_type": "stream",
     "text": [
      "0.7894445054437524\n",
      "{'criterion': 'entropy', 'max_depth': 10, 'splitter': 'random'}\n"
     ]
    }
   ],
   "source": [
    "print(grid.best_score_)\n",
    "print(grid.best_params_)"
   ]
  },
  {
   "cell_type": "code",
   "execution_count": 20,
   "id": "1d14f47a",
   "metadata": {},
   "outputs": [],
   "source": [
    "clf = DecisionTreeClassifier(random_state=42, class_weight='balanced', criterion='entropy', max_depth=10, splitter='random').fit(x_train, y_train)"
   ]
  },
  {
   "cell_type": "code",
   "execution_count": 21,
   "id": "6bd0c47c",
   "metadata": {},
   "outputs": [],
   "source": [
    "preds = clf.predict(x_test)\n",
    "logits = clf.predict_proba(x_test)"
   ]
  },
  {
   "cell_type": "code",
   "execution_count": 22,
   "id": "ba5aa19b",
   "metadata": {},
   "outputs": [
    {
     "data": {
      "text/plain": [
       "0.7421044505014937"
      ]
     },
     "execution_count": 22,
     "metadata": {},
     "output_type": "execute_result"
    }
   ],
   "source": [
    "roc_auc_score(y_test, preds)"
   ]
  },
  {
   "cell_type": "code",
   "execution_count": 23,
   "id": "5cc75663",
   "metadata": {},
   "outputs": [
    {
     "data": {
      "text/plain": [
       "0.28701892282961794"
      ]
     },
     "execution_count": 23,
     "metadata": {},
     "output_type": "execute_result"
    }
   ],
   "source": [
    "matthews_corrcoef(y_test, preds)"
   ]
  },
  {
   "cell_type": "code",
   "execution_count": 24,
   "id": "f5480a9d",
   "metadata": {},
   "outputs": [
    {
     "name": "stdout",
     "output_type": "stream",
     "text": [
      "72\n",
      "136\n",
      "top2 acc: 0.5294117647058824\n"
     ]
    }
   ],
   "source": [
    "# 拆分出logits， 计算top-k\n",
    "top2 = 0\n",
    "pre = 0\n",
    "for i in range(len(te_indices)):\n",
    "    if i == 0:\n",
    "        y_preds = logits[:te_indices[i], :][:, 1]\n",
    "        topk_values, topk_indices = find_topk(y_preds, 2)\n",
    "        for a in range(len(test_set[i][1])):\n",
    "            if test_set[i][1][a] == 1 and a in topk_indices:\n",
    "                top2 += 1\n",
    "                break\n",
    "    else:\n",
    "        j = i - 1\n",
    "        pre += te_indices[j]\n",
    "        y_preds = logits[pre:pre + te_indices[i], :][:, 1]\n",
    "        topk_values, topk_indices = find_topk(y_preds, 2)\n",
    "        for a in range(len(test_set[i][1])):\n",
    "            if test_set[i][1][a] == 1 and a in topk_indices:\n",
    "                top2 += 1\n",
    "                break\n",
    "print(top2)\n",
    "print(len(test_set))\n",
    "print(f'top2 acc: {top2 / len(test_set)}')"
   ]
  },
  {
   "cell_type": "markdown",
   "id": "31d62a9d",
   "metadata": {},
   "source": [
    "# logistic regression"
   ]
  },
  {
   "cell_type": "code",
   "execution_count": 25,
   "id": "5093a583",
   "metadata": {
    "collapsed": true
   },
   "outputs": [
    {
     "name": "stderr",
     "output_type": "stream",
     "text": [
      "/home/jgl/anaconda3/envs/pytorch/lib/python3.8/site-packages/sklearn/linear_model/_logistic.py:1355: UserWarning: 'n_jobs' > 1 does not have any effect when 'solver' is set to 'liblinear'. Got 'n_jobs' = 32.\n",
      "  warnings.warn(\"'n_jobs' > 1 does not have any effect when\"\n",
      "/home/jgl/anaconda3/envs/pytorch/lib/python3.8/site-packages/sklearn/linear_model/_logistic.py:1355: UserWarning: 'n_jobs' > 1 does not have any effect when 'solver' is set to 'liblinear'. Got 'n_jobs' = 32.\n",
      "  warnings.warn(\"'n_jobs' > 1 does not have any effect when\"\n",
      "/home/jgl/anaconda3/envs/pytorch/lib/python3.8/site-packages/sklearn/linear_model/_logistic.py:1355: UserWarning: 'n_jobs' > 1 does not have any effect when 'solver' is set to 'liblinear'. Got 'n_jobs' = 32.\n",
      "  warnings.warn(\"'n_jobs' > 1 does not have any effect when\"\n",
      "/home/jgl/anaconda3/envs/pytorch/lib/python3.8/site-packages/sklearn/linear_model/_logistic.py:1355: UserWarning: 'n_jobs' > 1 does not have any effect when 'solver' is set to 'liblinear'. Got 'n_jobs' = 32.\n",
      "  warnings.warn(\"'n_jobs' > 1 does not have any effect when\"\n",
      "/home/jgl/anaconda3/envs/pytorch/lib/python3.8/site-packages/sklearn/linear_model/_logistic.py:1355: UserWarning: 'n_jobs' > 1 does not have any effect when 'solver' is set to 'liblinear'. Got 'n_jobs' = 32.\n",
      "  warnings.warn(\"'n_jobs' > 1 does not have any effect when\"\n",
      "/home/jgl/anaconda3/envs/pytorch/lib/python3.8/site-packages/sklearn/linear_model/_logistic.py:1355: UserWarning: 'n_jobs' > 1 does not have any effect when 'solver' is set to 'liblinear'. Got 'n_jobs' = 32.\n",
      "  warnings.warn(\"'n_jobs' > 1 does not have any effect when\"\n",
      "/home/jgl/anaconda3/envs/pytorch/lib/python3.8/site-packages/sklearn/linear_model/_logistic.py:1355: UserWarning: 'n_jobs' > 1 does not have any effect when 'solver' is set to 'liblinear'. Got 'n_jobs' = 32.\n",
      "  warnings.warn(\"'n_jobs' > 1 does not have any effect when\"\n",
      "/home/jgl/anaconda3/envs/pytorch/lib/python3.8/site-packages/sklearn/linear_model/_logistic.py:1355: UserWarning: 'n_jobs' > 1 does not have any effect when 'solver' is set to 'liblinear'. Got 'n_jobs' = 32.\n",
      "  warnings.warn(\"'n_jobs' > 1 does not have any effect when\"\n",
      "/home/jgl/anaconda3/envs/pytorch/lib/python3.8/site-packages/sklearn/linear_model/_logistic.py:1355: UserWarning: 'n_jobs' > 1 does not have any effect when 'solver' is set to 'liblinear'. Got 'n_jobs' = 32.\n",
      "  warnings.warn(\"'n_jobs' > 1 does not have any effect when\"\n",
      "/home/jgl/anaconda3/envs/pytorch/lib/python3.8/site-packages/sklearn/linear_model/_logistic.py:1355: UserWarning: 'n_jobs' > 1 does not have any effect when 'solver' is set to 'liblinear'. Got 'n_jobs' = 32.\n",
      "  warnings.warn(\"'n_jobs' > 1 does not have any effect when\"\n",
      "/home/jgl/anaconda3/envs/pytorch/lib/python3.8/site-packages/sklearn/linear_model/_logistic.py:1355: UserWarning: 'n_jobs' > 1 does not have any effect when 'solver' is set to 'liblinear'. Got 'n_jobs' = 32.\n",
      "  warnings.warn(\"'n_jobs' > 1 does not have any effect when\"\n",
      "/home/jgl/anaconda3/envs/pytorch/lib/python3.8/site-packages/sklearn/linear_model/_logistic.py:1355: UserWarning: 'n_jobs' > 1 does not have any effect when 'solver' is set to 'liblinear'. Got 'n_jobs' = 32.\n",
      "  warnings.warn(\"'n_jobs' > 1 does not have any effect when\"\n",
      "/home/jgl/anaconda3/envs/pytorch/lib/python3.8/site-packages/sklearn/linear_model/_logistic.py:1355: UserWarning: 'n_jobs' > 1 does not have any effect when 'solver' is set to 'liblinear'. Got 'n_jobs' = 32.\n",
      "  warnings.warn(\"'n_jobs' > 1 does not have any effect when\"\n",
      "/home/jgl/anaconda3/envs/pytorch/lib/python3.8/site-packages/sklearn/linear_model/_logistic.py:1355: UserWarning: 'n_jobs' > 1 does not have any effect when 'solver' is set to 'liblinear'. Got 'n_jobs' = 32.\n",
      "  warnings.warn(\"'n_jobs' > 1 does not have any effect when\"\n",
      "/home/jgl/anaconda3/envs/pytorch/lib/python3.8/site-packages/sklearn/linear_model/_logistic.py:1355: UserWarning: 'n_jobs' > 1 does not have any effect when 'solver' is set to 'liblinear'. Got 'n_jobs' = 32.\n",
      "  warnings.warn(\"'n_jobs' > 1 does not have any effect when\"\n",
      "/home/jgl/anaconda3/envs/pytorch/lib/python3.8/site-packages/sklearn/linear_model/_logistic.py:1355: UserWarning: 'n_jobs' > 1 does not have any effect when 'solver' is set to 'liblinear'. Got 'n_jobs' = 32.\n",
      "  warnings.warn(\"'n_jobs' > 1 does not have any effect when\"\n",
      "/home/jgl/anaconda3/envs/pytorch/lib/python3.8/site-packages/sklearn/linear_model/_logistic.py:1355: UserWarning: 'n_jobs' > 1 does not have any effect when 'solver' is set to 'liblinear'. Got 'n_jobs' = 32.\n",
      "  warnings.warn(\"'n_jobs' > 1 does not have any effect when\"\n",
      "/home/jgl/anaconda3/envs/pytorch/lib/python3.8/site-packages/sklearn/linear_model/_logistic.py:1355: UserWarning: 'n_jobs' > 1 does not have any effect when 'solver' is set to 'liblinear'. Got 'n_jobs' = 32.\n",
      "  warnings.warn(\"'n_jobs' > 1 does not have any effect when\"\n",
      "/home/jgl/anaconda3/envs/pytorch/lib/python3.8/site-packages/sklearn/linear_model/_logistic.py:1355: UserWarning: 'n_jobs' > 1 does not have any effect when 'solver' is set to 'liblinear'. Got 'n_jobs' = 32.\n",
      "  warnings.warn(\"'n_jobs' > 1 does not have any effect when\"\n",
      "/home/jgl/anaconda3/envs/pytorch/lib/python3.8/site-packages/sklearn/linear_model/_logistic.py:1355: UserWarning: 'n_jobs' > 1 does not have any effect when 'solver' is set to 'liblinear'. Got 'n_jobs' = 32.\n",
      "  warnings.warn(\"'n_jobs' > 1 does not have any effect when\"\n",
      "/home/jgl/anaconda3/envs/pytorch/lib/python3.8/site-packages/sklearn/linear_model/_logistic.py:1355: UserWarning: 'n_jobs' > 1 does not have any effect when 'solver' is set to 'liblinear'. Got 'n_jobs' = 32.\n",
      "  warnings.warn(\"'n_jobs' > 1 does not have any effect when\"\n",
      "/home/jgl/anaconda3/envs/pytorch/lib/python3.8/site-packages/sklearn/linear_model/_logistic.py:1355: UserWarning: 'n_jobs' > 1 does not have any effect when 'solver' is set to 'liblinear'. Got 'n_jobs' = 32.\n",
      "  warnings.warn(\"'n_jobs' > 1 does not have any effect when\"\n",
      "/home/jgl/anaconda3/envs/pytorch/lib/python3.8/site-packages/sklearn/linear_model/_logistic.py:1355: UserWarning: 'n_jobs' > 1 does not have any effect when 'solver' is set to 'liblinear'. Got 'n_jobs' = 32.\n",
      "  warnings.warn(\"'n_jobs' > 1 does not have any effect when\"\n",
      "/home/jgl/anaconda3/envs/pytorch/lib/python3.8/site-packages/sklearn/linear_model/_logistic.py:1355: UserWarning: 'n_jobs' > 1 does not have any effect when 'solver' is set to 'liblinear'. Got 'n_jobs' = 32.\n",
      "  warnings.warn(\"'n_jobs' > 1 does not have any effect when\"\n",
      "/home/jgl/anaconda3/envs/pytorch/lib/python3.8/site-packages/sklearn/linear_model/_logistic.py:1355: UserWarning: 'n_jobs' > 1 does not have any effect when 'solver' is set to 'liblinear'. Got 'n_jobs' = 32.\n",
      "  warnings.warn(\"'n_jobs' > 1 does not have any effect when\"\n",
      "/home/jgl/anaconda3/envs/pytorch/lib/python3.8/site-packages/sklearn/linear_model/_logistic.py:1355: UserWarning: 'n_jobs' > 1 does not have any effect when 'solver' is set to 'liblinear'. Got 'n_jobs' = 32.\n",
      "  warnings.warn(\"'n_jobs' > 1 does not have any effect when\"\n",
      "/home/jgl/anaconda3/envs/pytorch/lib/python3.8/site-packages/sklearn/linear_model/_logistic.py:1355: UserWarning: 'n_jobs' > 1 does not have any effect when 'solver' is set to 'liblinear'. Got 'n_jobs' = 32.\n",
      "  warnings.warn(\"'n_jobs' > 1 does not have any effect when\"\n",
      "/home/jgl/anaconda3/envs/pytorch/lib/python3.8/site-packages/sklearn/linear_model/_logistic.py:1355: UserWarning: 'n_jobs' > 1 does not have any effect when 'solver' is set to 'liblinear'. Got 'n_jobs' = 32.\n",
      "  warnings.warn(\"'n_jobs' > 1 does not have any effect when\"\n",
      "/home/jgl/anaconda3/envs/pytorch/lib/python3.8/site-packages/sklearn/linear_model/_logistic.py:1355: UserWarning: 'n_jobs' > 1 does not have any effect when 'solver' is set to 'liblinear'. Got 'n_jobs' = 32.\n",
      "  warnings.warn(\"'n_jobs' > 1 does not have any effect when\"\n",
      "/home/jgl/anaconda3/envs/pytorch/lib/python3.8/site-packages/sklearn/linear_model/_logistic.py:1355: UserWarning: 'n_jobs' > 1 does not have any effect when 'solver' is set to 'liblinear'. Got 'n_jobs' = 32.\n",
      "  warnings.warn(\"'n_jobs' > 1 does not have any effect when\"\n",
      "/home/jgl/anaconda3/envs/pytorch/lib/python3.8/site-packages/sklearn/linear_model/_logistic.py:1355: UserWarning: 'n_jobs' > 1 does not have any effect when 'solver' is set to 'liblinear'. Got 'n_jobs' = 32.\n",
      "  warnings.warn(\"'n_jobs' > 1 does not have any effect when\"\n",
      "/home/jgl/anaconda3/envs/pytorch/lib/python3.8/site-packages/sklearn/linear_model/_logistic.py:1355: UserWarning: 'n_jobs' > 1 does not have any effect when 'solver' is set to 'liblinear'. Got 'n_jobs' = 32.\n",
      "  warnings.warn(\"'n_jobs' > 1 does not have any effect when\"\n",
      "/home/jgl/anaconda3/envs/pytorch/lib/python3.8/site-packages/sklearn/linear_model/_logistic.py:1355: UserWarning: 'n_jobs' > 1 does not have any effect when 'solver' is set to 'liblinear'. Got 'n_jobs' = 32.\n",
      "  warnings.warn(\"'n_jobs' > 1 does not have any effect when\"\n",
      "/home/jgl/anaconda3/envs/pytorch/lib/python3.8/site-packages/sklearn/linear_model/_logistic.py:1355: UserWarning: 'n_jobs' > 1 does not have any effect when 'solver' is set to 'liblinear'. Got 'n_jobs' = 32.\n",
      "  warnings.warn(\"'n_jobs' > 1 does not have any effect when\"\n",
      "/home/jgl/anaconda3/envs/pytorch/lib/python3.8/site-packages/sklearn/linear_model/_logistic.py:1355: UserWarning: 'n_jobs' > 1 does not have any effect when 'solver' is set to 'liblinear'. Got 'n_jobs' = 32.\n",
      "  warnings.warn(\"'n_jobs' > 1 does not have any effect when\"\n"
     ]
    },
    {
     "name": "stderr",
     "output_type": "stream",
     "text": [
      "/home/jgl/anaconda3/envs/pytorch/lib/python3.8/site-packages/sklearn/linear_model/_logistic.py:1355: UserWarning: 'n_jobs' > 1 does not have any effect when 'solver' is set to 'liblinear'. Got 'n_jobs' = 32.\n",
      "  warnings.warn(\"'n_jobs' > 1 does not have any effect when\"\n",
      "/home/jgl/anaconda3/envs/pytorch/lib/python3.8/site-packages/sklearn/linear_model/_logistic.py:1355: UserWarning: 'n_jobs' > 1 does not have any effect when 'solver' is set to 'liblinear'. Got 'n_jobs' = 32.\n",
      "  warnings.warn(\"'n_jobs' > 1 does not have any effect when\"\n",
      "/home/jgl/anaconda3/envs/pytorch/lib/python3.8/site-packages/sklearn/linear_model/_logistic.py:1355: UserWarning: 'n_jobs' > 1 does not have any effect when 'solver' is set to 'liblinear'. Got 'n_jobs' = 32.\n",
      "  warnings.warn(\"'n_jobs' > 1 does not have any effect when\"\n",
      "/home/jgl/anaconda3/envs/pytorch/lib/python3.8/site-packages/sklearn/linear_model/_logistic.py:1355: UserWarning: 'n_jobs' > 1 does not have any effect when 'solver' is set to 'liblinear'. Got 'n_jobs' = 32.\n",
      "  warnings.warn(\"'n_jobs' > 1 does not have any effect when\"\n",
      "/home/jgl/anaconda3/envs/pytorch/lib/python3.8/site-packages/sklearn/linear_model/_logistic.py:1355: UserWarning: 'n_jobs' > 1 does not have any effect when 'solver' is set to 'liblinear'. Got 'n_jobs' = 32.\n",
      "  warnings.warn(\"'n_jobs' > 1 does not have any effect when\"\n",
      "/home/jgl/anaconda3/envs/pytorch/lib/python3.8/site-packages/sklearn/linear_model/_logistic.py:1355: UserWarning: 'n_jobs' > 1 does not have any effect when 'solver' is set to 'liblinear'. Got 'n_jobs' = 32.\n",
      "  warnings.warn(\"'n_jobs' > 1 does not have any effect when\"\n",
      "/home/jgl/anaconda3/envs/pytorch/lib/python3.8/site-packages/sklearn/linear_model/_logistic.py:1355: UserWarning: 'n_jobs' > 1 does not have any effect when 'solver' is set to 'liblinear'. Got 'n_jobs' = 32.\n",
      "  warnings.warn(\"'n_jobs' > 1 does not have any effect when\"\n",
      "/home/jgl/anaconda3/envs/pytorch/lib/python3.8/site-packages/sklearn/linear_model/_logistic.py:1355: UserWarning: 'n_jobs' > 1 does not have any effect when 'solver' is set to 'liblinear'. Got 'n_jobs' = 32.\n",
      "  warnings.warn(\"'n_jobs' > 1 does not have any effect when\"\n",
      "/home/jgl/anaconda3/envs/pytorch/lib/python3.8/site-packages/sklearn/linear_model/_logistic.py:1355: UserWarning: 'n_jobs' > 1 does not have any effect when 'solver' is set to 'liblinear'. Got 'n_jobs' = 32.\n",
      "  warnings.warn(\"'n_jobs' > 1 does not have any effect when\"\n",
      "/home/jgl/anaconda3/envs/pytorch/lib/python3.8/site-packages/sklearn/linear_model/_logistic.py:1355: UserWarning: 'n_jobs' > 1 does not have any effect when 'solver' is set to 'liblinear'. Got 'n_jobs' = 32.\n",
      "  warnings.warn(\"'n_jobs' > 1 does not have any effect when\"\n",
      "/home/jgl/anaconda3/envs/pytorch/lib/python3.8/site-packages/sklearn/linear_model/_logistic.py:1355: UserWarning: 'n_jobs' > 1 does not have any effect when 'solver' is set to 'liblinear'. Got 'n_jobs' = 32.\n",
      "  warnings.warn(\"'n_jobs' > 1 does not have any effect when\"\n",
      "/home/jgl/anaconda3/envs/pytorch/lib/python3.8/site-packages/sklearn/linear_model/_logistic.py:1355: UserWarning: 'n_jobs' > 1 does not have any effect when 'solver' is set to 'liblinear'. Got 'n_jobs' = 32.\n",
      "  warnings.warn(\"'n_jobs' > 1 does not have any effect when\"\n",
      "/home/jgl/anaconda3/envs/pytorch/lib/python3.8/site-packages/sklearn/linear_model/_logistic.py:1355: UserWarning: 'n_jobs' > 1 does not have any effect when 'solver' is set to 'liblinear'. Got 'n_jobs' = 32.\n",
      "  warnings.warn(\"'n_jobs' > 1 does not have any effect when\"\n",
      "/home/jgl/anaconda3/envs/pytorch/lib/python3.8/site-packages/sklearn/linear_model/_logistic.py:1355: UserWarning: 'n_jobs' > 1 does not have any effect when 'solver' is set to 'liblinear'. Got 'n_jobs' = 32.\n",
      "  warnings.warn(\"'n_jobs' > 1 does not have any effect when\"\n",
      "/home/jgl/anaconda3/envs/pytorch/lib/python3.8/site-packages/sklearn/linear_model/_logistic.py:1355: UserWarning: 'n_jobs' > 1 does not have any effect when 'solver' is set to 'liblinear'. Got 'n_jobs' = 32.\n",
      "  warnings.warn(\"'n_jobs' > 1 does not have any effect when\"\n",
      "/home/jgl/anaconda3/envs/pytorch/lib/python3.8/site-packages/sklearn/linear_model/_logistic.py:1355: UserWarning: 'n_jobs' > 1 does not have any effect when 'solver' is set to 'liblinear'. Got 'n_jobs' = 32.\n",
      "  warnings.warn(\"'n_jobs' > 1 does not have any effect when\"\n",
      "/home/jgl/anaconda3/envs/pytorch/lib/python3.8/site-packages/sklearn/linear_model/_logistic.py:1355: UserWarning: 'n_jobs' > 1 does not have any effect when 'solver' is set to 'liblinear'. Got 'n_jobs' = 32.\n",
      "  warnings.warn(\"'n_jobs' > 1 does not have any effect when\"\n",
      "/home/jgl/anaconda3/envs/pytorch/lib/python3.8/site-packages/sklearn/linear_model/_logistic.py:1355: UserWarning: 'n_jobs' > 1 does not have any effect when 'solver' is set to 'liblinear'. Got 'n_jobs' = 32.\n",
      "  warnings.warn(\"'n_jobs' > 1 does not have any effect when\"\n",
      "/home/jgl/anaconda3/envs/pytorch/lib/python3.8/site-packages/sklearn/linear_model/_logistic.py:1355: UserWarning: 'n_jobs' > 1 does not have any effect when 'solver' is set to 'liblinear'. Got 'n_jobs' = 32.\n",
      "  warnings.warn(\"'n_jobs' > 1 does not have any effect when\"\n",
      "/home/jgl/anaconda3/envs/pytorch/lib/python3.8/site-packages/sklearn/linear_model/_logistic.py:1355: UserWarning: 'n_jobs' > 1 does not have any effect when 'solver' is set to 'liblinear'. Got 'n_jobs' = 32.\n",
      "  warnings.warn(\"'n_jobs' > 1 does not have any effect when\"\n",
      "/home/jgl/anaconda3/envs/pytorch/lib/python3.8/site-packages/sklearn/linear_model/_logistic.py:1355: UserWarning: 'n_jobs' > 1 does not have any effect when 'solver' is set to 'liblinear'. Got 'n_jobs' = 32.\n",
      "  warnings.warn(\"'n_jobs' > 1 does not have any effect when\"\n",
      "/home/jgl/anaconda3/envs/pytorch/lib/python3.8/site-packages/sklearn/linear_model/_logistic.py:1355: UserWarning: 'n_jobs' > 1 does not have any effect when 'solver' is set to 'liblinear'. Got 'n_jobs' = 32.\n",
      "  warnings.warn(\"'n_jobs' > 1 does not have any effect when\"\n",
      "/home/jgl/anaconda3/envs/pytorch/lib/python3.8/site-packages/sklearn/linear_model/_logistic.py:1355: UserWarning: 'n_jobs' > 1 does not have any effect when 'solver' is set to 'liblinear'. Got 'n_jobs' = 32.\n",
      "  warnings.warn(\"'n_jobs' > 1 does not have any effect when\"\n",
      "/home/jgl/anaconda3/envs/pytorch/lib/python3.8/site-packages/sklearn/linear_model/_logistic.py:1355: UserWarning: 'n_jobs' > 1 does not have any effect when 'solver' is set to 'liblinear'. Got 'n_jobs' = 32.\n",
      "  warnings.warn(\"'n_jobs' > 1 does not have any effect when\"\n",
      "/home/jgl/anaconda3/envs/pytorch/lib/python3.8/site-packages/sklearn/linear_model/_logistic.py:1355: UserWarning: 'n_jobs' > 1 does not have any effect when 'solver' is set to 'liblinear'. Got 'n_jobs' = 32.\n",
      "  warnings.warn(\"'n_jobs' > 1 does not have any effect when\"\n"
     ]
    },
    {
     "data": {
      "text/plain": [
       "GridSearchCV(cv=5,\n",
       "             estimator=LogisticRegression(class_weight='balanced',\n",
       "                                          max_iter=100000, n_jobs=-1,\n",
       "                                          random_state=42),\n",
       "             param_grid={'C': [0.0001, 0.0005, 0.001, 0.005, 0.1, 0.5, 1, 10,\n",
       "                               50, 100, 150, 200],\n",
       "                         'solver': ['newton-cg', 'lbfgs', 'liblinear', 'sag',\n",
       "                                    'saga']},\n",
       "             scoring='roc_auc')"
      ]
     },
     "execution_count": 25,
     "metadata": {},
     "output_type": "execute_result"
    }
   ],
   "source": [
    "# gridsearch\n",
    "Cs = [0.0001, 0.0005, 0.001, 0.005, 0.1, 0.5, 1, 10, 50, 100, 150, 200]\n",
    "solvers = ['newton-cg', 'lbfgs', 'liblinear', 'sag', 'saga']\n",
    "tuned_parameters = dict(C=Cs, solver=solvers)\n",
    "clf = LogisticRegression(random_state=42, class_weight='balanced', max_iter=100000, n_jobs=-1)\n",
    "grid = GridSearchCV(clf, tuned_parameters, cv=5, scoring='roc_auc')\n",
    "grid.fit(x_train, y_train)"
   ]
  },
  {
   "cell_type": "code",
   "execution_count": 26,
   "id": "c9504634",
   "metadata": {},
   "outputs": [
    {
     "name": "stdout",
     "output_type": "stream",
     "text": [
      "0.7729872406875842\n",
      "{'C': 1, 'solver': 'newton-cg'}\n"
     ]
    }
   ],
   "source": [
    "print(grid.best_score_)\n",
    "print(grid.best_params_)"
   ]
  },
  {
   "cell_type": "code",
   "execution_count": 28,
   "id": "5d67db18",
   "metadata": {},
   "outputs": [],
   "source": [
    "clf = LogisticRegression(random_state=42,C=1,solver=\"newton-cg\", class_weight='balanced', max_iter=100000, n_jobs=-1).fit(x_train, y_train)"
   ]
  },
  {
   "cell_type": "code",
   "execution_count": 29,
   "id": "354a035e",
   "metadata": {},
   "outputs": [],
   "source": [
    "preds = clf.predict(x_test)\n",
    "logits = clf.predict_proba(x_test)"
   ]
  },
  {
   "cell_type": "code",
   "execution_count": 30,
   "id": "ae11d202",
   "metadata": {},
   "outputs": [
    {
     "data": {
      "text/plain": [
       "0.6737079863694947"
      ]
     },
     "execution_count": 30,
     "metadata": {},
     "output_type": "execute_result"
    }
   ],
   "source": [
    "roc_auc_score(y_test, preds)"
   ]
  },
  {
   "cell_type": "code",
   "execution_count": 31,
   "id": "bce28b50",
   "metadata": {},
   "outputs": [
    {
     "data": {
      "text/plain": [
       "0.23455158956116728"
      ]
     },
     "execution_count": 31,
     "metadata": {},
     "output_type": "execute_result"
    }
   ],
   "source": [
    "matthews_corrcoef(y_test, preds)"
   ]
  },
  {
   "cell_type": "code",
   "execution_count": 32,
   "id": "2af805d6",
   "metadata": {},
   "outputs": [
    {
     "name": "stdout",
     "output_type": "stream",
     "text": [
      "67\n",
      "136\n",
      "top2 acc: 0.49264705882352944\n"
     ]
    }
   ],
   "source": [
    "# 拆分出logits， 计算top-k\n",
    "top2 = 0\n",
    "pre = 0\n",
    "for i in range(len(te_indices)):\n",
    "    if i == 0:\n",
    "        y_preds = logits[:te_indices[i], :][:, 1]\n",
    "        topk_values, topk_indices = find_topk(y_preds, 2)\n",
    "        for a in range(len(test_set[i][1])):\n",
    "            if test_set[i][1][a] == 1 and a in topk_indices:\n",
    "                top2 += 1\n",
    "                break\n",
    "    else:\n",
    "        j = i - 1\n",
    "        pre += te_indices[j]\n",
    "        y_preds = logits[pre:pre + te_indices[i], :][:, 1]\n",
    "        topk_values, topk_indices = find_topk(y_preds, 2)\n",
    "        for a in range(len(test_set[i][1])):\n",
    "            if test_set[i][1][a] == 1 and a in topk_indices:\n",
    "                top2 += 1\n",
    "                break\n",
    "print(top2)\n",
    "print(len(test_set))\n",
    "print(f'top2 acc: {top2 / len(test_set)}')"
   ]
  },
  {
   "cell_type": "markdown",
   "id": "678d3297",
   "metadata": {},
   "source": [
    "# Navie bayes"
   ]
  },
  {
   "cell_type": "code",
   "execution_count": 33,
   "id": "b4750527",
   "metadata": {},
   "outputs": [
    {
     "data": {
      "text/plain": [
       "GaussianNB()"
      ]
     },
     "execution_count": 33,
     "metadata": {},
     "output_type": "execute_result"
    }
   ],
   "source": [
    "clf = GaussianNB()\n",
    "clf.fit(x_train, y_train)"
   ]
  },
  {
   "cell_type": "code",
   "execution_count": 34,
   "id": "2fca6898",
   "metadata": {},
   "outputs": [],
   "source": [
    "preds = clf.predict(x_test)\n",
    "logits = clf.predict_proba(x_test)"
   ]
  },
  {
   "cell_type": "code",
   "execution_count": 35,
   "id": "b92ee390",
   "metadata": {},
   "outputs": [
    {
     "data": {
      "text/plain": [
       "0.5706315796245821"
      ]
     },
     "execution_count": 35,
     "metadata": {},
     "output_type": "execute_result"
    }
   ],
   "source": [
    "roc_auc_score(y_test, preds)"
   ]
  },
  {
   "cell_type": "code",
   "execution_count": 36,
   "id": "f8a74647",
   "metadata": {},
   "outputs": [
    {
     "data": {
      "text/plain": [
       "0.11947133943677866"
      ]
     },
     "execution_count": 36,
     "metadata": {},
     "output_type": "execute_result"
    }
   ],
   "source": [
    "matthews_corrcoef(y_test, preds)"
   ]
  },
  {
   "cell_type": "code",
   "execution_count": 37,
   "id": "0863517c",
   "metadata": {},
   "outputs": [
    {
     "name": "stdout",
     "output_type": "stream",
     "text": [
      "65\n",
      "136\n",
      "top2 acc: 0.47794117647058826\n"
     ]
    }
   ],
   "source": [
    "# 拆分出logits， 计算top-k\n",
    "top2 = 0\n",
    "pre = 0\n",
    "for i in range(len(te_indices)):\n",
    "    if i == 0:\n",
    "        y_preds = logits[:te_indices[i], :][:, 1]\n",
    "        topk_values, topk_indices = find_topk(y_preds, 2)\n",
    "        for a in range(len(test_set[i][1])):\n",
    "            if test_set[i][1][a] == 1 and a in topk_indices:\n",
    "                top2 += 1\n",
    "                break\n",
    "    else:\n",
    "        j = i - 1\n",
    "        pre += te_indices[j]\n",
    "        y_preds = logits[pre:pre + te_indices[i], :][:, 1]\n",
    "        topk_values, topk_indices = find_topk(y_preds, 2)\n",
    "        for a in range(len(test_set[i][1])):\n",
    "            if test_set[i][1][a] == 1 and a in topk_indices:\n",
    "                top2 += 1\n",
    "                break\n",
    "print(top2)\n",
    "print(len(test_set))\n",
    "print(f'top2 acc: {top2 / len(test_set)}')"
   ]
  },
  {
   "cell_type": "markdown",
   "id": "6880e182",
   "metadata": {},
   "source": [
    "# SVM"
   ]
  },
  {
   "cell_type": "code",
   "execution_count": 38,
   "id": "528eabd0",
   "metadata": {},
   "outputs": [
    {
     "data": {
      "text/plain": [
       "GridSearchCV(cv=5, estimator=SVC(class_weight='balanced', random_state=42),\n",
       "             param_grid={'C': [0.0001, 0.0005, 0.001, 0.005, 0.1, 0.5, 1, 10,\n",
       "                               50, 100, 150, 200],\n",
       "                         'degree': [2, 3, 4, 5], 'gamma': ['scale', 'auto'],\n",
       "                         'kernel': ['linear', 'poly', 'rbf', 'sigmoid']},\n",
       "             scoring='roc_auc')"
      ]
     },
     "execution_count": 38,
     "metadata": {},
     "output_type": "execute_result"
    }
   ],
   "source": [
    "# gridsearch\n",
    "Cs = [0.0001, 0.0005, 0.001, 0.005, 0.1, 0.5, 1, 10, 50, 100, 150, 200]\n",
    "kernels = ['linear', 'poly', 'rbf', 'sigmoid']\n",
    "degrees = [2,3,4,5]\n",
    "gammas = ['scale', 'auto']\n",
    "tuned_parameters = dict(C=Cs,kernel=kernels, degree=degrees, gamma = gammas)\n",
    "clf = SVC(random_state=42, class_weight='balanced')\n",
    "grid = GridSearchCV(clf, tuned_parameters, cv=5, scoring='roc_auc')\n",
    "grid.fit(x_train, y_train)"
   ]
  },
  {
   "cell_type": "code",
   "execution_count": 39,
   "id": "ba3ba186",
   "metadata": {},
   "outputs": [
    {
     "name": "stdout",
     "output_type": "stream",
     "text": [
      "0.773082748175685\n",
      "{'C': 10, 'degree': 2, 'gamma': 'scale', 'kernel': 'linear'}\n"
     ]
    }
   ],
   "source": [
    "print(grid.best_score_)\n",
    "print(grid.best_params_)"
   ]
  },
  {
   "cell_type": "code",
   "execution_count": 40,
   "id": "9268ebdc",
   "metadata": {},
   "outputs": [],
   "source": [
    "clf = SVC(C=10, degree=2, gamma='scale', kernel='linear',random_state=42, class_weight='balanced', probability=True).fit(x_train, y_train)"
   ]
  },
  {
   "cell_type": "code",
   "execution_count": 41,
   "id": "b4f17584",
   "metadata": {},
   "outputs": [],
   "source": [
    "preds = clf.predict(x_test)\n",
    "logits = clf.predict_proba(x_test)"
   ]
  },
  {
   "cell_type": "code",
   "execution_count": 42,
   "id": "e954b8eb",
   "metadata": {},
   "outputs": [
    {
     "data": {
      "text/plain": [
       "0.6766926080886626"
      ]
     },
     "execution_count": 42,
     "metadata": {},
     "output_type": "execute_result"
    }
   ],
   "source": [
    "roc_auc_score(y_test, preds)"
   ]
  },
  {
   "cell_type": "code",
   "execution_count": 43,
   "id": "cbef6165",
   "metadata": {},
   "outputs": [
    {
     "data": {
      "text/plain": [
       "0.23830957913869233"
      ]
     },
     "execution_count": 43,
     "metadata": {},
     "output_type": "execute_result"
    }
   ],
   "source": [
    "matthews_corrcoef(y_test, preds)"
   ]
  },
  {
   "cell_type": "code",
   "execution_count": 44,
   "id": "ecb81f96",
   "metadata": {},
   "outputs": [
    {
     "name": "stdout",
     "output_type": "stream",
     "text": [
      "69\n",
      "136\n",
      "top2 acc: 0.5073529411764706\n"
     ]
    }
   ],
   "source": [
    "# 拆分出logits， 计算top-k\n",
    "top2 = 0\n",
    "pre = 0\n",
    "for i in range(len(te_indices)):\n",
    "    if i == 0:\n",
    "        y_preds = logits[:te_indices[i], :][:, 1]\n",
    "        topk_values, topk_indices = find_topk(y_preds, 2)\n",
    "        for a in range(len(test_set[i][1])):\n",
    "            if test_set[i][1][a] == 1 and a in topk_indices:\n",
    "                top2 += 1\n",
    "                break\n",
    "    else:\n",
    "        j = i - 1\n",
    "        pre += te_indices[j]\n",
    "        y_preds = logits[pre:pre + te_indices[i], :][:, 1]\n",
    "        topk_values, topk_indices = find_topk(y_preds, 2)\n",
    "        for a in range(len(test_set[i][1])):\n",
    "            if test_set[i][1][a] == 1 and a in topk_indices:\n",
    "                top2 += 1\n",
    "                break\n",
    "print(top2)\n",
    "print(len(test_set))\n",
    "print(f'top2 acc: {top2 / len(test_set)}')"
   ]
  },
  {
   "cell_type": "code",
   "execution_count": null,
   "id": "83baf173",
   "metadata": {},
   "outputs": [],
   "source": []
  }
 ],
 "metadata": {
  "kernelspec": {
   "display_name": "Python [conda env:pytorch]",
   "language": "python",
   "name": "conda-env-pytorch-py"
  },
  "language_info": {
   "codemirror_mode": {
    "name": "ipython",
    "version": 3
   },
   "file_extension": ".py",
   "mimetype": "text/x-python",
   "name": "python",
   "nbconvert_exporter": "python",
   "pygments_lexer": "ipython3",
   "version": "3.8.11"
  }
 },
 "nbformat": 4,
 "nbformat_minor": 5
}
