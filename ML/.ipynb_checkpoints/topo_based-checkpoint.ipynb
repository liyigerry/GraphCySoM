{
 "cells": [
  {
   "cell_type": "code",
   "execution_count": 1,
   "id": "b6d08d67",
   "metadata": {},
   "outputs": [],
   "source": [
    "from sklearn.ensemble import RandomForestClassifier\n",
    "from sklearn.svm import SVC\n",
    "from sklearn.naive_bayes import GaussianNB\n",
    "from sklearn.linear_model import LogisticRegression\n",
    "from sklearn.tree import DecisionTreeClassifier\n",
    "from rdkit import Chem\n",
    "from rdkit.Chem.rdchem import HybridizationType, ChiralType\n",
    "import pickle\n",
    "import numpy as np\n",
    "from sklearn.metrics import roc_auc_score, accuracy_score, matthews_corrcoef\n",
    "from sklearn.model_selection import GridSearchCV"
   ]
  },
  {
   "cell_type": "code",
   "execution_count": 2,
   "id": "e6922992",
   "metadata": {},
   "outputs": [],
   "source": [
    "def find_topk(a, k, axis=-1, largest=True, sorted=True):\n",
    "    if axis is None:\n",
    "        axis_size = a.size\n",
    "    else:\n",
    "        axis_size = a.shape[axis]\n",
    "    assert 1 <= k <= axis_size\n",
    "\n",
    "    a = np.asanyarray(a)\n",
    "    if largest:\n",
    "        index_array = np.argpartition(a, axis_size-k, axis=axis)\n",
    "        topk_indices = np.take(index_array, -np.arange(k)-1, axis=axis)\n",
    "    else:\n",
    "        index_array = np.argpartition(a, k-1, axis=axis)\n",
    "        topk_indices = np.take(index_array, np.arange(k), axis=axis)\n",
    "    topk_values = np.take_along_axis(a, topk_indices, axis=axis)\n",
    "    if sorted:\n",
    "        sorted_indices_in_topk = np.argsort(topk_values, axis=axis)\n",
    "        if largest:\n",
    "            sorted_indices_in_topk = np.flip(sorted_indices_in_topk, axis=axis)\n",
    "        sorted_topk_values = np.take_along_axis(\n",
    "            topk_values, sorted_indices_in_topk, axis=axis)\n",
    "        sorted_topk_indices = np.take_along_axis(\n",
    "            topk_indices, sorted_indices_in_topk, axis=axis)\n",
    "        return sorted_topk_values, sorted_topk_indices\n",
    "    return topk_values, topk_indices"
   ]
  },
  {
   "cell_type": "markdown",
   "id": "51c3b035",
   "metadata": {},
   "source": [
    "# dataset"
   ]
  },
  {
   "cell_type": "code",
   "execution_count": 7,
   "id": "fefca892",
   "metadata": {},
   "outputs": [],
   "source": [
    "def _get_node_features(mol):\n",
    "    all_node_feats = []\n",
    "\n",
    "    identity = {\n",
    "        'C':[1,0,0,0,0,0,0,0,0,0],\n",
    "        'N':[0,1,0,0,0,0,0,0,0,0],\n",
    "        'O':[0,0,1,0,0,0,0,0,0,0],\n",
    "        'F':[0,0,0,1,0,0,0,0,0,0],\n",
    "        'P':[0,0,0,0,1,0,0,0,0,0],\n",
    "        'S':[0,0,0,0,0,1,0,0,0,0],\n",
    "        'Cl':[0,0,0,0,0,0,1,0,0,0],\n",
    "        'Br':[0,0,0,0,0,0,0,1,0,0],\n",
    "        'I':[0,0,0,0,0,0,0,0,1,0],\n",
    "        'other':[0,0,0,0,0,0,0,0,0,1],\n",
    "    }\n",
    "    for atom in mol.GetAtoms():\n",
    "        node_feats = []\n",
    "        # atom number\n",
    "        idx = atom.GetIdx()\n",
    "        # atom type one-hot 10\n",
    "        node_feats.extend(identity.get(atom.GetSymbol(),[0,0,0,0,0,0,0,0,0,1]))\n",
    "        # degree\n",
    "        node_feats.append(atom.GetDegree())\n",
    "        # hydrogen\n",
    "        node_feats.append(atom.GetTotalNumHs())\n",
    "\n",
    "        # ring status 0 or 1\n",
    "        if atom.IsInRing():\n",
    "            node_feats.append(1)\n",
    "        else:\n",
    "            node_feats.append(0)\n",
    "                \n",
    "        # Append node features to matrix\n",
    "        all_node_feats.append(node_feats)\n",
    "\n",
    "    all_node_feats = np.asarray(all_node_feats,dtype=np.float)\n",
    "    return all_node_feats\n",
    "\n",
    "def _get_labels(mol):\n",
    "    _y = []\n",
    "    som = ['PRIMARY_SOM_1A2', 'PRIMARY_SOM_2A6','PRIMARY_SOM_2B6','PRIMARY_SOM_2C8','PRIMARY_SOM_2C9','PRIMARY_SOM_2C19','PRIMARY_SOM_2D6','PRIMARY_SOM_2E1','PRIMARY_SOM_3A4',\n",
    "            'SECONDARY_SOM_1A2', 'SECONDARY_SOM_2A6','SECONDARY_SOM_2B6','SECONDARY_SOM_2C8','SECONDARY_SOM_2C9','SECONDARY_SOM_2C19','SECONDARY_SOM_2D6','SECONDARY_SOM_2E1','SECONDARY_SOM_3A4',\n",
    "            'TERTIARY_SOM_1A2', 'TERTIARY_SOM_2A6','TERTIARY_SOM_2B6','TERTIARY_SOM_2C8','TERTIARY_SOM_2C9','TERTIARY_SOM_2C19','TERTIARY_SOM_2D6','TERTIARY_SOM_2E1','TERTIARY_SOM_3A4'\n",
    "            ]\n",
    "    result = []\n",
    "    for k in som:\n",
    "        try:\n",
    "            _res = mol.GetProp(k)\n",
    "            if ' ' in _res:\n",
    "                res = _res.split(' ')\n",
    "                for s in res:\n",
    "                    result.append(int(s))\n",
    "            else:\n",
    "                result.append(int(_res))\n",
    "        except:\n",
    "            pass\n",
    "\n",
    "    for data in result:\n",
    "        _y.append(data)\n",
    "    _y = list(set(_y))\n",
    "\n",
    "    y = np.zeros(len(mol.GetAtoms()))\n",
    "    for i in _y:\n",
    "        y[i-1] = 1\n",
    "    return y"
   ]
  },
  {
   "cell_type": "code",
   "execution_count": 4,
   "id": "b996054e",
   "metadata": {},
   "outputs": [],
   "source": [
    "filepath = '../Dataset/merged.sdf'\n",
    "raws = Chem.SDMolSupplier(filepath)"
   ]
  },
  {
   "cell_type": "code",
   "execution_count": 5,
   "id": "d4e08368",
   "metadata": {},
   "outputs": [],
   "source": [
    "mols = [mol for mol in raws]"
   ]
  },
  {
   "cell_type": "code",
   "execution_count": 8,
   "id": "8923fc73",
   "metadata": {},
   "outputs": [
    {
     "name": "stderr",
     "output_type": "stream",
     "text": [
      "/tmp/ipykernel_1909885/1700778133.py:36: DeprecationWarning: `np.float` is a deprecated alias for the builtin `float`. To silence this warning, use `float` by itself. Doing this will not modify any behavior and is safe. If you specifically wanted the numpy scalar type, use `np.float64` here.\n",
      "Deprecated in NumPy 1.20; for more details and guidance: https://numpy.org/devdocs/release/1.20.0-notes.html#deprecations\n",
      "  all_node_feats = np.asarray(all_node_feats,dtype=np.float)\n"
     ]
    }
   ],
   "source": [
    "dataset = []\n",
    "for mol in mols:\n",
    "    mol_feature = _get_node_features(mol)\n",
    "    label = _get_labels(mol)\n",
    "    dataset.append((mol_feature, label))"
   ]
  },
  {
   "cell_type": "code",
   "execution_count": 9,
   "id": "f7d73a19",
   "metadata": {},
   "outputs": [],
   "source": [
    "import random\n",
    "random.seed(42)\n",
    "random.shuffle(dataset)"
   ]
  },
  {
   "cell_type": "code",
   "execution_count": 10,
   "id": "11c0c948",
   "metadata": {},
   "outputs": [],
   "source": [
    "training_set = dataset[:int(len(dataset) * 0.8)]\n",
    "test_set = dataset[int(len(dataset) * 0.8):]"
   ]
  },
  {
   "cell_type": "code",
   "execution_count": 11,
   "id": "a53a337b",
   "metadata": {},
   "outputs": [
    {
     "name": "stdout",
     "output_type": "stream",
     "text": [
      "tr_all means all training atoms num, num is 12010\n",
      "training set molecule num is 544\n",
      "all atoms is 12010\n"
     ]
    }
   ],
   "source": [
    "tr_all = 0 # all training atoms\n",
    "tr_indices = [] # molecule nums\n",
    "y_train = [] # label\n",
    "for feature, label in training_set:\n",
    "    tr_all += feature.shape[0]\n",
    "    tr_indices.append(len(label))\n",
    "    y_train.extend(label)\n",
    "print(f'tr_all means all training atoms num, num is {tr_all}')\n",
    "print(f'training set molecule num is {len(tr_indices)}')\n",
    "print(f'all atoms is {len(y_train)}')"
   ]
  },
  {
   "cell_type": "code",
   "execution_count": 12,
   "id": "88dca201",
   "metadata": {},
   "outputs": [],
   "source": [
    "x_train = np.zeros((tr_all, training_set[0][0].shape[1]))\n",
    "pre = 0\n",
    "for i in range(len(tr_indices)):\n",
    "    if i == 0:\n",
    "        x_train[:tr_indices[i], :] = training_set[i][0]\n",
    "    else:\n",
    "        j = i - 1\n",
    "        pre += tr_indices[j]\n",
    "        x_train[pre:pre + tr_indices[i], :] = training_set[i][0]"
   ]
  },
  {
   "cell_type": "code",
   "execution_count": 13,
   "id": "b871bb24",
   "metadata": {},
   "outputs": [],
   "source": [
    "y_train = np.array(y_train)"
   ]
  },
  {
   "cell_type": "code",
   "execution_count": 14,
   "id": "f9745d7a",
   "metadata": {},
   "outputs": [
    {
     "name": "stdout",
     "output_type": "stream",
     "text": [
      "3259\n",
      "136\n",
      "3259\n"
     ]
    }
   ],
   "source": [
    "# test 时拼成一个大矩阵\n",
    "te_all = 0\n",
    "te_indices = []\n",
    "y_test = []\n",
    "for feature, label in test_set:\n",
    "    te_all += feature.shape[0]\n",
    "    te_indices.append(len(label))\n",
    "    y_test.extend(label)\n",
    "print(te_all)\n",
    "print(len(te_indices))\n",
    "print(len(y_test))"
   ]
  },
  {
   "cell_type": "code",
   "execution_count": 15,
   "id": "876529b7",
   "metadata": {},
   "outputs": [],
   "source": [
    "x_test = np.zeros((te_all, training_set[0][0].shape[1]))\n",
    "pre = 0\n",
    "for i in range(len(te_indices)):\n",
    "    if i == 0:\n",
    "        x_test[:te_indices[i], :] = test_set[i][0]\n",
    "    else:\n",
    "        j = i - 1\n",
    "        pre += te_indices[j]\n",
    "        x_test[pre:pre + te_indices[i], :] = test_set[i][0]"
   ]
  },
  {
   "cell_type": "code",
   "execution_count": 16,
   "id": "a5171246",
   "metadata": {},
   "outputs": [],
   "source": [
    "y_test = np.array(y_test)"
   ]
  },
  {
   "cell_type": "markdown",
   "id": "edd6330d",
   "metadata": {},
   "source": [
    "# random forest"
   ]
  },
  {
   "cell_type": "code",
   "execution_count": 17,
   "id": "ae7dd0ad",
   "metadata": {},
   "outputs": [
    {
     "data": {
      "text/plain": [
       "GridSearchCV(cv=5,\n",
       "             estimator=RandomForestClassifier(class_weight='balanced',\n",
       "                                              random_state=42),\n",
       "             param_grid={'criterion': ['gini', 'entropy'],\n",
       "                         'max_depth': [10, 20, 30],\n",
       "                         'n_estimators': [100, 150, 200, 50]},\n",
       "             scoring='roc_auc')"
      ]
     },
     "execution_count": 17,
     "metadata": {},
     "output_type": "execute_result"
    }
   ],
   "source": [
    "# gridsearch random forest\n",
    "max_depths = [10, 20, 30]\n",
    "criterions = ['gini', 'entropy']\n",
    "_n_estimators = [100, 150, 200, 50]\n",
    "tuned_parameters = dict(max_depth=max_depths,criterion=criterions, n_estimators=_n_estimators)\n",
    "clf = RandomForestClassifier(random_state=42, class_weight='balanced')\n",
    "grid = GridSearchCV(clf, tuned_parameters, cv=5, scoring='roc_auc')\n",
    "grid.fit(x_train, y_train)"
   ]
  },
  {
   "cell_type": "code",
   "execution_count": 18,
   "id": "5320b4a1",
   "metadata": {},
   "outputs": [
    {
     "name": "stdout",
     "output_type": "stream",
     "text": [
      "0.7919900937123657\n",
      "{'criterion': 'gini', 'max_depth': 10, 'n_estimators': 100}\n"
     ]
    }
   ],
   "source": [
    "print(grid.best_score_)\n",
    "print(grid.best_params_)"
   ]
  },
  {
   "cell_type": "code",
   "execution_count": 19,
   "id": "0fa05278",
   "metadata": {},
   "outputs": [],
   "source": [
    "clf = RandomForestClassifier(n_estimators=100,max_depth=10,criterion='gini',random_state=42, class_weight='balanced').fit(x_train, y_train)"
   ]
  },
  {
   "cell_type": "code",
   "execution_count": 20,
   "id": "1dadd1ef",
   "metadata": {},
   "outputs": [],
   "source": [
    "preds = clf.predict(x_test)\n",
    "logits = clf.predict_proba(x_test)"
   ]
  },
  {
   "cell_type": "code",
   "execution_count": 21,
   "id": "cc1fe150",
   "metadata": {},
   "outputs": [
    {
     "name": "stdout",
     "output_type": "stream",
     "text": [
      "(21,)\n",
      "69\n",
      "136\n",
      "top2 acc: 0.5073529411764706\n"
     ]
    }
   ],
   "source": [
    "# 拆分出logits， 计算top-k\n",
    "top2 = 0\n",
    "pre = 0\n",
    "for i in range(len(te_indices)):\n",
    "    if i == 0:\n",
    "        # 取出第一列，\n",
    "        y_preds = logits[:te_indices[i], :][:, 1]\n",
    "        print(y_preds.shape)\n",
    "        topk_values, topk_indices = find_topk(y_preds, 2)\n",
    "        for a in range(len(test_set[i][1])):\n",
    "            if test_set[i][1][a] == 1 and a in topk_indices:\n",
    "                top2 += 1\n",
    "                break\n",
    "    else:\n",
    "        j = i - 1\n",
    "        pre += te_indices[j]\n",
    "        y_preds = logits[pre:pre + te_indices[i], :][:, 1]\n",
    "        topk_values, topk_indices = find_topk(y_preds, 2)\n",
    "        for a in range(len(test_set[i][1])):\n",
    "            if test_set[i][1][a] == 1 and a in topk_indices:\n",
    "                top2 += 1\n",
    "                break\n",
    "print(top2)\n",
    "print(len(test_set))\n",
    "print(f'top2 acc: {top2 / len(test_set)}')"
   ]
  },
  {
   "cell_type": "code",
   "execution_count": 22,
   "id": "1930a53c",
   "metadata": {},
   "outputs": [
    {
     "data": {
      "text/plain": [
       "0.7378079248220593"
      ]
     },
     "execution_count": 22,
     "metadata": {},
     "output_type": "execute_result"
    }
   ],
   "source": [
    "roc_auc_score(y_test, preds)"
   ]
  },
  {
   "cell_type": "code",
   "execution_count": 23,
   "id": "b07c8d7b",
   "metadata": {},
   "outputs": [
    {
     "data": {
      "text/plain": [
       "0.2818870891504601"
      ]
     },
     "execution_count": 23,
     "metadata": {},
     "output_type": "execute_result"
    }
   ],
   "source": [
    "matthews_corrcoef(y_test, preds)"
   ]
  },
  {
   "cell_type": "markdown",
   "id": "c9f97c48",
   "metadata": {},
   "source": [
    "# decision tree"
   ]
  },
  {
   "cell_type": "code",
   "execution_count": 24,
   "id": "1bb1345e",
   "metadata": {},
   "outputs": [
    {
     "data": {
      "text/plain": [
       "GridSearchCV(cv=5,\n",
       "             estimator=DecisionTreeClassifier(class_weight='balanced',\n",
       "                                              random_state=42),\n",
       "             param_grid={'criterion': ['gini', 'entropy'],\n",
       "                         'max_depth': [10, 20, 30, 40, 50, None],\n",
       "                         'splitter': ['best', 'random']},\n",
       "             scoring='roc_auc')"
      ]
     },
     "execution_count": 24,
     "metadata": {},
     "output_type": "execute_result"
    }
   ],
   "source": [
    "# gridsearch\n",
    "max_depths = [10, 20, 30, 40, 50, None]\n",
    "criterions = ['gini', 'entropy']\n",
    "splitters = ['best', 'random']\n",
    "tuned_parameters = dict(max_depth=max_depths,criterion=criterions, splitter=splitters)\n",
    "clf = DecisionTreeClassifier(random_state=42, class_weight='balanced')\n",
    "grid = GridSearchCV(clf, tuned_parameters, cv=5, scoring='roc_auc')\n",
    "grid.fit(x_train, y_train)"
   ]
  },
  {
   "cell_type": "code",
   "execution_count": 25,
   "id": "93b70a44",
   "metadata": {},
   "outputs": [
    {
     "name": "stdout",
     "output_type": "stream",
     "text": [
      "0.7921399777265383\n",
      "{'criterion': 'gini', 'max_depth': 10, 'splitter': 'best'}\n"
     ]
    }
   ],
   "source": [
    "print(grid.best_score_)\n",
    "print(grid.best_params_)"
   ]
  },
  {
   "cell_type": "code",
   "execution_count": 26,
   "id": "2a7b664e",
   "metadata": {},
   "outputs": [],
   "source": [
    "clf = DecisionTreeClassifier(random_state=42, class_weight='balanced', criterion='gini', max_depth=10, splitter='best').fit(x_train, y_train)"
   ]
  },
  {
   "cell_type": "code",
   "execution_count": 27,
   "id": "0d4e0312",
   "metadata": {},
   "outputs": [],
   "source": [
    "preds = clf.predict(x_test)\n",
    "logits = clf.predict_proba(x_test)"
   ]
  },
  {
   "cell_type": "code",
   "execution_count": 28,
   "id": "4a7c02c3",
   "metadata": {},
   "outputs": [
    {
     "data": {
      "text/plain": [
       "0.7404526417145787"
      ]
     },
     "execution_count": 28,
     "metadata": {},
     "output_type": "execute_result"
    }
   ],
   "source": [
    "roc_auc_score(y_test, preds)"
   ]
  },
  {
   "cell_type": "code",
   "execution_count": 29,
   "id": "d385ce3b",
   "metadata": {},
   "outputs": [
    {
     "data": {
      "text/plain": [
       "0.2850145062033998"
      ]
     },
     "execution_count": 29,
     "metadata": {},
     "output_type": "execute_result"
    }
   ],
   "source": [
    "matthews_corrcoef(y_test, preds)"
   ]
  },
  {
   "cell_type": "code",
   "execution_count": 30,
   "id": "ad0296de",
   "metadata": {},
   "outputs": [
    {
     "name": "stdout",
     "output_type": "stream",
     "text": [
      "69\n",
      "136\n",
      "top2 acc: 0.5073529411764706\n"
     ]
    }
   ],
   "source": [
    "# 拆分出logits， 计算top-k\n",
    "top2 = 0\n",
    "pre = 0\n",
    "for i in range(len(te_indices)):\n",
    "    if i == 0:\n",
    "        y_preds = logits[:te_indices[i], :][:, 1]\n",
    "        topk_values, topk_indices = find_topk(y_preds, 2)\n",
    "        for a in range(len(test_set[i][1])):\n",
    "            if test_set[i][1][a] == 1 and a in topk_indices:\n",
    "                top2 += 1\n",
    "                break\n",
    "    else:\n",
    "        j = i - 1\n",
    "        pre += te_indices[j]\n",
    "        y_preds = logits[pre:pre + te_indices[i], :][:, 1]\n",
    "        topk_values, topk_indices = find_topk(y_preds, 2)\n",
    "        for a in range(len(test_set[i][1])):\n",
    "            if test_set[i][1][a] == 1 and a in topk_indices:\n",
    "                top2 += 1\n",
    "                break\n",
    "print(top2)\n",
    "print(len(test_set))\n",
    "print(f'top2 acc: {top2 / len(test_set)}')"
   ]
  },
  {
   "cell_type": "markdown",
   "id": "6a7e1c9c",
   "metadata": {},
   "source": [
    "# logistic regression"
   ]
  },
  {
   "cell_type": "code",
   "execution_count": 31,
   "id": "a2ae59dd",
   "metadata": {
    "collapsed": true
   },
   "outputs": [
    {
     "name": "stderr",
     "output_type": "stream",
     "text": [
      "/home/jgl/anaconda3/envs/pytorch/lib/python3.8/site-packages/sklearn/linear_model/_logistic.py:1355: UserWarning: 'n_jobs' > 1 does not have any effect when 'solver' is set to 'liblinear'. Got 'n_jobs' = 32.\n",
      "  warnings.warn(\"'n_jobs' > 1 does not have any effect when\"\n",
      "/home/jgl/anaconda3/envs/pytorch/lib/python3.8/site-packages/sklearn/linear_model/_logistic.py:1355: UserWarning: 'n_jobs' > 1 does not have any effect when 'solver' is set to 'liblinear'. Got 'n_jobs' = 32.\n",
      "  warnings.warn(\"'n_jobs' > 1 does not have any effect when\"\n",
      "/home/jgl/anaconda3/envs/pytorch/lib/python3.8/site-packages/sklearn/linear_model/_logistic.py:1355: UserWarning: 'n_jobs' > 1 does not have any effect when 'solver' is set to 'liblinear'. Got 'n_jobs' = 32.\n",
      "  warnings.warn(\"'n_jobs' > 1 does not have any effect when\"\n",
      "/home/jgl/anaconda3/envs/pytorch/lib/python3.8/site-packages/sklearn/linear_model/_logistic.py:1355: UserWarning: 'n_jobs' > 1 does not have any effect when 'solver' is set to 'liblinear'. Got 'n_jobs' = 32.\n",
      "  warnings.warn(\"'n_jobs' > 1 does not have any effect when\"\n",
      "/home/jgl/anaconda3/envs/pytorch/lib/python3.8/site-packages/sklearn/linear_model/_logistic.py:1355: UserWarning: 'n_jobs' > 1 does not have any effect when 'solver' is set to 'liblinear'. Got 'n_jobs' = 32.\n",
      "  warnings.warn(\"'n_jobs' > 1 does not have any effect when\"\n",
      "/home/jgl/anaconda3/envs/pytorch/lib/python3.8/site-packages/sklearn/linear_model/_logistic.py:1355: UserWarning: 'n_jobs' > 1 does not have any effect when 'solver' is set to 'liblinear'. Got 'n_jobs' = 32.\n",
      "  warnings.warn(\"'n_jobs' > 1 does not have any effect when\"\n",
      "/home/jgl/anaconda3/envs/pytorch/lib/python3.8/site-packages/sklearn/linear_model/_logistic.py:1355: UserWarning: 'n_jobs' > 1 does not have any effect when 'solver' is set to 'liblinear'. Got 'n_jobs' = 32.\n",
      "  warnings.warn(\"'n_jobs' > 1 does not have any effect when\"\n",
      "/home/jgl/anaconda3/envs/pytorch/lib/python3.8/site-packages/sklearn/linear_model/_logistic.py:1355: UserWarning: 'n_jobs' > 1 does not have any effect when 'solver' is set to 'liblinear'. Got 'n_jobs' = 32.\n",
      "  warnings.warn(\"'n_jobs' > 1 does not have any effect when\"\n",
      "/home/jgl/anaconda3/envs/pytorch/lib/python3.8/site-packages/sklearn/linear_model/_logistic.py:1355: UserWarning: 'n_jobs' > 1 does not have any effect when 'solver' is set to 'liblinear'. Got 'n_jobs' = 32.\n",
      "  warnings.warn(\"'n_jobs' > 1 does not have any effect when\"\n",
      "/home/jgl/anaconda3/envs/pytorch/lib/python3.8/site-packages/sklearn/linear_model/_logistic.py:1355: UserWarning: 'n_jobs' > 1 does not have any effect when 'solver' is set to 'liblinear'. Got 'n_jobs' = 32.\n",
      "  warnings.warn(\"'n_jobs' > 1 does not have any effect when\"\n",
      "/home/jgl/anaconda3/envs/pytorch/lib/python3.8/site-packages/sklearn/linear_model/_logistic.py:1355: UserWarning: 'n_jobs' > 1 does not have any effect when 'solver' is set to 'liblinear'. Got 'n_jobs' = 32.\n",
      "  warnings.warn(\"'n_jobs' > 1 does not have any effect when\"\n",
      "/home/jgl/anaconda3/envs/pytorch/lib/python3.8/site-packages/sklearn/linear_model/_logistic.py:1355: UserWarning: 'n_jobs' > 1 does not have any effect when 'solver' is set to 'liblinear'. Got 'n_jobs' = 32.\n",
      "  warnings.warn(\"'n_jobs' > 1 does not have any effect when\"\n",
      "/home/jgl/anaconda3/envs/pytorch/lib/python3.8/site-packages/sklearn/linear_model/_logistic.py:1355: UserWarning: 'n_jobs' > 1 does not have any effect when 'solver' is set to 'liblinear'. Got 'n_jobs' = 32.\n",
      "  warnings.warn(\"'n_jobs' > 1 does not have any effect when\"\n",
      "/home/jgl/anaconda3/envs/pytorch/lib/python3.8/site-packages/sklearn/linear_model/_logistic.py:1355: UserWarning: 'n_jobs' > 1 does not have any effect when 'solver' is set to 'liblinear'. Got 'n_jobs' = 32.\n",
      "  warnings.warn(\"'n_jobs' > 1 does not have any effect when\"\n",
      "/home/jgl/anaconda3/envs/pytorch/lib/python3.8/site-packages/sklearn/linear_model/_logistic.py:1355: UserWarning: 'n_jobs' > 1 does not have any effect when 'solver' is set to 'liblinear'. Got 'n_jobs' = 32.\n",
      "  warnings.warn(\"'n_jobs' > 1 does not have any effect when\"\n",
      "/home/jgl/anaconda3/envs/pytorch/lib/python3.8/site-packages/sklearn/linear_model/_logistic.py:1355: UserWarning: 'n_jobs' > 1 does not have any effect when 'solver' is set to 'liblinear'. Got 'n_jobs' = 32.\n",
      "  warnings.warn(\"'n_jobs' > 1 does not have any effect when\"\n",
      "/home/jgl/anaconda3/envs/pytorch/lib/python3.8/site-packages/sklearn/linear_model/_logistic.py:1355: UserWarning: 'n_jobs' > 1 does not have any effect when 'solver' is set to 'liblinear'. Got 'n_jobs' = 32.\n",
      "  warnings.warn(\"'n_jobs' > 1 does not have any effect when\"\n",
      "/home/jgl/anaconda3/envs/pytorch/lib/python3.8/site-packages/sklearn/linear_model/_logistic.py:1355: UserWarning: 'n_jobs' > 1 does not have any effect when 'solver' is set to 'liblinear'. Got 'n_jobs' = 32.\n",
      "  warnings.warn(\"'n_jobs' > 1 does not have any effect when\"\n",
      "/home/jgl/anaconda3/envs/pytorch/lib/python3.8/site-packages/sklearn/linear_model/_logistic.py:1355: UserWarning: 'n_jobs' > 1 does not have any effect when 'solver' is set to 'liblinear'. Got 'n_jobs' = 32.\n",
      "  warnings.warn(\"'n_jobs' > 1 does not have any effect when\"\n",
      "/home/jgl/anaconda3/envs/pytorch/lib/python3.8/site-packages/sklearn/linear_model/_logistic.py:1355: UserWarning: 'n_jobs' > 1 does not have any effect when 'solver' is set to 'liblinear'. Got 'n_jobs' = 32.\n",
      "  warnings.warn(\"'n_jobs' > 1 does not have any effect when\"\n",
      "/home/jgl/anaconda3/envs/pytorch/lib/python3.8/site-packages/sklearn/linear_model/_logistic.py:1355: UserWarning: 'n_jobs' > 1 does not have any effect when 'solver' is set to 'liblinear'. Got 'n_jobs' = 32.\n",
      "  warnings.warn(\"'n_jobs' > 1 does not have any effect when\"\n",
      "/home/jgl/anaconda3/envs/pytorch/lib/python3.8/site-packages/sklearn/linear_model/_logistic.py:1355: UserWarning: 'n_jobs' > 1 does not have any effect when 'solver' is set to 'liblinear'. Got 'n_jobs' = 32.\n",
      "  warnings.warn(\"'n_jobs' > 1 does not have any effect when\"\n",
      "/home/jgl/anaconda3/envs/pytorch/lib/python3.8/site-packages/sklearn/linear_model/_logistic.py:1355: UserWarning: 'n_jobs' > 1 does not have any effect when 'solver' is set to 'liblinear'. Got 'n_jobs' = 32.\n",
      "  warnings.warn(\"'n_jobs' > 1 does not have any effect when\"\n",
      "/home/jgl/anaconda3/envs/pytorch/lib/python3.8/site-packages/sklearn/linear_model/_logistic.py:1355: UserWarning: 'n_jobs' > 1 does not have any effect when 'solver' is set to 'liblinear'. Got 'n_jobs' = 32.\n",
      "  warnings.warn(\"'n_jobs' > 1 does not have any effect when\"\n",
      "/home/jgl/anaconda3/envs/pytorch/lib/python3.8/site-packages/sklearn/linear_model/_logistic.py:1355: UserWarning: 'n_jobs' > 1 does not have any effect when 'solver' is set to 'liblinear'. Got 'n_jobs' = 32.\n",
      "  warnings.warn(\"'n_jobs' > 1 does not have any effect when\"\n",
      "/home/jgl/anaconda3/envs/pytorch/lib/python3.8/site-packages/sklearn/linear_model/_logistic.py:1355: UserWarning: 'n_jobs' > 1 does not have any effect when 'solver' is set to 'liblinear'. Got 'n_jobs' = 32.\n",
      "  warnings.warn(\"'n_jobs' > 1 does not have any effect when\"\n",
      "/home/jgl/anaconda3/envs/pytorch/lib/python3.8/site-packages/sklearn/linear_model/_logistic.py:1355: UserWarning: 'n_jobs' > 1 does not have any effect when 'solver' is set to 'liblinear'. Got 'n_jobs' = 32.\n",
      "  warnings.warn(\"'n_jobs' > 1 does not have any effect when\"\n",
      "/home/jgl/anaconda3/envs/pytorch/lib/python3.8/site-packages/sklearn/linear_model/_logistic.py:1355: UserWarning: 'n_jobs' > 1 does not have any effect when 'solver' is set to 'liblinear'. Got 'n_jobs' = 32.\n",
      "  warnings.warn(\"'n_jobs' > 1 does not have any effect when\"\n",
      "/home/jgl/anaconda3/envs/pytorch/lib/python3.8/site-packages/sklearn/linear_model/_logistic.py:1355: UserWarning: 'n_jobs' > 1 does not have any effect when 'solver' is set to 'liblinear'. Got 'n_jobs' = 32.\n",
      "  warnings.warn(\"'n_jobs' > 1 does not have any effect when\"\n",
      "/home/jgl/anaconda3/envs/pytorch/lib/python3.8/site-packages/sklearn/linear_model/_logistic.py:1355: UserWarning: 'n_jobs' > 1 does not have any effect when 'solver' is set to 'liblinear'. Got 'n_jobs' = 32.\n",
      "  warnings.warn(\"'n_jobs' > 1 does not have any effect when\"\n",
      "/home/jgl/anaconda3/envs/pytorch/lib/python3.8/site-packages/sklearn/linear_model/_logistic.py:1355: UserWarning: 'n_jobs' > 1 does not have any effect when 'solver' is set to 'liblinear'. Got 'n_jobs' = 32.\n",
      "  warnings.warn(\"'n_jobs' > 1 does not have any effect when\"\n",
      "/home/jgl/anaconda3/envs/pytorch/lib/python3.8/site-packages/sklearn/linear_model/_logistic.py:1355: UserWarning: 'n_jobs' > 1 does not have any effect when 'solver' is set to 'liblinear'. Got 'n_jobs' = 32.\n",
      "  warnings.warn(\"'n_jobs' > 1 does not have any effect when\"\n",
      "/home/jgl/anaconda3/envs/pytorch/lib/python3.8/site-packages/sklearn/linear_model/_logistic.py:1355: UserWarning: 'n_jobs' > 1 does not have any effect when 'solver' is set to 'liblinear'. Got 'n_jobs' = 32.\n",
      "  warnings.warn(\"'n_jobs' > 1 does not have any effect when\"\n",
      "/home/jgl/anaconda3/envs/pytorch/lib/python3.8/site-packages/sklearn/linear_model/_logistic.py:1355: UserWarning: 'n_jobs' > 1 does not have any effect when 'solver' is set to 'liblinear'. Got 'n_jobs' = 32.\n",
      "  warnings.warn(\"'n_jobs' > 1 does not have any effect when\"\n",
      "/home/jgl/anaconda3/envs/pytorch/lib/python3.8/site-packages/sklearn/linear_model/_logistic.py:1355: UserWarning: 'n_jobs' > 1 does not have any effect when 'solver' is set to 'liblinear'. Got 'n_jobs' = 32.\n",
      "  warnings.warn(\"'n_jobs' > 1 does not have any effect when\"\n"
     ]
    },
    {
     "name": "stderr",
     "output_type": "stream",
     "text": [
      "/home/jgl/anaconda3/envs/pytorch/lib/python3.8/site-packages/sklearn/linear_model/_logistic.py:1355: UserWarning: 'n_jobs' > 1 does not have any effect when 'solver' is set to 'liblinear'. Got 'n_jobs' = 32.\n",
      "  warnings.warn(\"'n_jobs' > 1 does not have any effect when\"\n",
      "/home/jgl/anaconda3/envs/pytorch/lib/python3.8/site-packages/sklearn/linear_model/_logistic.py:1355: UserWarning: 'n_jobs' > 1 does not have any effect when 'solver' is set to 'liblinear'. Got 'n_jobs' = 32.\n",
      "  warnings.warn(\"'n_jobs' > 1 does not have any effect when\"\n",
      "/home/jgl/anaconda3/envs/pytorch/lib/python3.8/site-packages/sklearn/linear_model/_logistic.py:1355: UserWarning: 'n_jobs' > 1 does not have any effect when 'solver' is set to 'liblinear'. Got 'n_jobs' = 32.\n",
      "  warnings.warn(\"'n_jobs' > 1 does not have any effect when\"\n",
      "/home/jgl/anaconda3/envs/pytorch/lib/python3.8/site-packages/sklearn/linear_model/_logistic.py:1355: UserWarning: 'n_jobs' > 1 does not have any effect when 'solver' is set to 'liblinear'. Got 'n_jobs' = 32.\n",
      "  warnings.warn(\"'n_jobs' > 1 does not have any effect when\"\n",
      "/home/jgl/anaconda3/envs/pytorch/lib/python3.8/site-packages/sklearn/linear_model/_logistic.py:1355: UserWarning: 'n_jobs' > 1 does not have any effect when 'solver' is set to 'liblinear'. Got 'n_jobs' = 32.\n",
      "  warnings.warn(\"'n_jobs' > 1 does not have any effect when\"\n",
      "/home/jgl/anaconda3/envs/pytorch/lib/python3.8/site-packages/sklearn/linear_model/_logistic.py:1355: UserWarning: 'n_jobs' > 1 does not have any effect when 'solver' is set to 'liblinear'. Got 'n_jobs' = 32.\n",
      "  warnings.warn(\"'n_jobs' > 1 does not have any effect when\"\n",
      "/home/jgl/anaconda3/envs/pytorch/lib/python3.8/site-packages/sklearn/linear_model/_logistic.py:1355: UserWarning: 'n_jobs' > 1 does not have any effect when 'solver' is set to 'liblinear'. Got 'n_jobs' = 32.\n",
      "  warnings.warn(\"'n_jobs' > 1 does not have any effect when\"\n",
      "/home/jgl/anaconda3/envs/pytorch/lib/python3.8/site-packages/sklearn/linear_model/_logistic.py:1355: UserWarning: 'n_jobs' > 1 does not have any effect when 'solver' is set to 'liblinear'. Got 'n_jobs' = 32.\n",
      "  warnings.warn(\"'n_jobs' > 1 does not have any effect when\"\n",
      "/home/jgl/anaconda3/envs/pytorch/lib/python3.8/site-packages/sklearn/linear_model/_logistic.py:1355: UserWarning: 'n_jobs' > 1 does not have any effect when 'solver' is set to 'liblinear'. Got 'n_jobs' = 32.\n",
      "  warnings.warn(\"'n_jobs' > 1 does not have any effect when\"\n",
      "/home/jgl/anaconda3/envs/pytorch/lib/python3.8/site-packages/sklearn/linear_model/_logistic.py:1355: UserWarning: 'n_jobs' > 1 does not have any effect when 'solver' is set to 'liblinear'. Got 'n_jobs' = 32.\n",
      "  warnings.warn(\"'n_jobs' > 1 does not have any effect when\"\n",
      "/home/jgl/anaconda3/envs/pytorch/lib/python3.8/site-packages/sklearn/linear_model/_logistic.py:1355: UserWarning: 'n_jobs' > 1 does not have any effect when 'solver' is set to 'liblinear'. Got 'n_jobs' = 32.\n",
      "  warnings.warn(\"'n_jobs' > 1 does not have any effect when\"\n",
      "/home/jgl/anaconda3/envs/pytorch/lib/python3.8/site-packages/sklearn/linear_model/_logistic.py:1355: UserWarning: 'n_jobs' > 1 does not have any effect when 'solver' is set to 'liblinear'. Got 'n_jobs' = 32.\n",
      "  warnings.warn(\"'n_jobs' > 1 does not have any effect when\"\n",
      "/home/jgl/anaconda3/envs/pytorch/lib/python3.8/site-packages/sklearn/linear_model/_logistic.py:1355: UserWarning: 'n_jobs' > 1 does not have any effect when 'solver' is set to 'liblinear'. Got 'n_jobs' = 32.\n",
      "  warnings.warn(\"'n_jobs' > 1 does not have any effect when\"\n",
      "/home/jgl/anaconda3/envs/pytorch/lib/python3.8/site-packages/sklearn/linear_model/_logistic.py:1355: UserWarning: 'n_jobs' > 1 does not have any effect when 'solver' is set to 'liblinear'. Got 'n_jobs' = 32.\n",
      "  warnings.warn(\"'n_jobs' > 1 does not have any effect when\"\n",
      "/home/jgl/anaconda3/envs/pytorch/lib/python3.8/site-packages/sklearn/linear_model/_logistic.py:1355: UserWarning: 'n_jobs' > 1 does not have any effect when 'solver' is set to 'liblinear'. Got 'n_jobs' = 32.\n",
      "  warnings.warn(\"'n_jobs' > 1 does not have any effect when\"\n",
      "/home/jgl/anaconda3/envs/pytorch/lib/python3.8/site-packages/sklearn/linear_model/_logistic.py:1355: UserWarning: 'n_jobs' > 1 does not have any effect when 'solver' is set to 'liblinear'. Got 'n_jobs' = 32.\n",
      "  warnings.warn(\"'n_jobs' > 1 does not have any effect when\"\n",
      "/home/jgl/anaconda3/envs/pytorch/lib/python3.8/site-packages/sklearn/linear_model/_logistic.py:1355: UserWarning: 'n_jobs' > 1 does not have any effect when 'solver' is set to 'liblinear'. Got 'n_jobs' = 32.\n",
      "  warnings.warn(\"'n_jobs' > 1 does not have any effect when\"\n",
      "/home/jgl/anaconda3/envs/pytorch/lib/python3.8/site-packages/sklearn/linear_model/_logistic.py:1355: UserWarning: 'n_jobs' > 1 does not have any effect when 'solver' is set to 'liblinear'. Got 'n_jobs' = 32.\n",
      "  warnings.warn(\"'n_jobs' > 1 does not have any effect when\"\n",
      "/home/jgl/anaconda3/envs/pytorch/lib/python3.8/site-packages/sklearn/linear_model/_logistic.py:1355: UserWarning: 'n_jobs' > 1 does not have any effect when 'solver' is set to 'liblinear'. Got 'n_jobs' = 32.\n",
      "  warnings.warn(\"'n_jobs' > 1 does not have any effect when\"\n",
      "/home/jgl/anaconda3/envs/pytorch/lib/python3.8/site-packages/sklearn/linear_model/_logistic.py:1355: UserWarning: 'n_jobs' > 1 does not have any effect when 'solver' is set to 'liblinear'. Got 'n_jobs' = 32.\n",
      "  warnings.warn(\"'n_jobs' > 1 does not have any effect when\"\n",
      "/home/jgl/anaconda3/envs/pytorch/lib/python3.8/site-packages/sklearn/linear_model/_logistic.py:1355: UserWarning: 'n_jobs' > 1 does not have any effect when 'solver' is set to 'liblinear'. Got 'n_jobs' = 32.\n",
      "  warnings.warn(\"'n_jobs' > 1 does not have any effect when\"\n",
      "/home/jgl/anaconda3/envs/pytorch/lib/python3.8/site-packages/sklearn/linear_model/_logistic.py:1355: UserWarning: 'n_jobs' > 1 does not have any effect when 'solver' is set to 'liblinear'. Got 'n_jobs' = 32.\n",
      "  warnings.warn(\"'n_jobs' > 1 does not have any effect when\"\n",
      "/home/jgl/anaconda3/envs/pytorch/lib/python3.8/site-packages/sklearn/linear_model/_logistic.py:1355: UserWarning: 'n_jobs' > 1 does not have any effect when 'solver' is set to 'liblinear'. Got 'n_jobs' = 32.\n",
      "  warnings.warn(\"'n_jobs' > 1 does not have any effect when\"\n",
      "/home/jgl/anaconda3/envs/pytorch/lib/python3.8/site-packages/sklearn/linear_model/_logistic.py:1355: UserWarning: 'n_jobs' > 1 does not have any effect when 'solver' is set to 'liblinear'. Got 'n_jobs' = 32.\n",
      "  warnings.warn(\"'n_jobs' > 1 does not have any effect when\"\n",
      "/home/jgl/anaconda3/envs/pytorch/lib/python3.8/site-packages/sklearn/linear_model/_logistic.py:1355: UserWarning: 'n_jobs' > 1 does not have any effect when 'solver' is set to 'liblinear'. Got 'n_jobs' = 32.\n",
      "  warnings.warn(\"'n_jobs' > 1 does not have any effect when\"\n"
     ]
    },
    {
     "data": {
      "text/plain": [
       "GridSearchCV(cv=5,\n",
       "             estimator=LogisticRegression(class_weight='balanced',\n",
       "                                          max_iter=100000, n_jobs=-1,\n",
       "                                          random_state=42),\n",
       "             param_grid={'C': [0.0001, 0.0005, 0.001, 0.005, 0.1, 0.5, 1, 10,\n",
       "                               50, 100, 150, 200],\n",
       "                         'solver': ['newton-cg', 'lbfgs', 'liblinear', 'sag',\n",
       "                                    'saga']},\n",
       "             scoring='roc_auc')"
      ]
     },
     "execution_count": 31,
     "metadata": {},
     "output_type": "execute_result"
    }
   ],
   "source": [
    "# gridsearch\n",
    "Cs = [0.0001, 0.0005, 0.001, 0.005, 0.1, 0.5, 1, 10, 50, 100, 150, 200]\n",
    "solvers = ['newton-cg', 'lbfgs', 'liblinear', 'sag', 'saga']\n",
    "tuned_parameters = dict(C=Cs, solver=solvers)\n",
    "clf = LogisticRegression(random_state=42, class_weight='balanced', max_iter=100000, n_jobs=-1)\n",
    "grid = GridSearchCV(clf, tuned_parameters, cv=5, scoring='roc_auc')\n",
    "grid.fit(x_train, y_train)"
   ]
  },
  {
   "cell_type": "code",
   "execution_count": 32,
   "id": "4c316c37",
   "metadata": {},
   "outputs": [
    {
     "name": "stdout",
     "output_type": "stream",
     "text": [
      "0.778605974097951\n",
      "{'C': 1, 'solver': 'newton-cg'}\n"
     ]
    }
   ],
   "source": [
    "print(grid.best_score_)\n",
    "print(grid.best_params_)"
   ]
  },
  {
   "cell_type": "code",
   "execution_count": 33,
   "id": "23fc6b3f",
   "metadata": {},
   "outputs": [],
   "source": [
    "clf = LogisticRegression(random_state=42,C=1,solver=\"newton-cg\", class_weight='balanced', max_iter=100000, n_jobs=-1).fit(x_train, y_train)"
   ]
  },
  {
   "cell_type": "code",
   "execution_count": 34,
   "id": "2b2879f9",
   "metadata": {},
   "outputs": [],
   "source": [
    "preds = clf.predict(x_test)\n",
    "logits = clf.predict_proba(x_test)"
   ]
  },
  {
   "cell_type": "code",
   "execution_count": 35,
   "id": "87e33399",
   "metadata": {},
   "outputs": [
    {
     "data": {
      "text/plain": [
       "0.6941172875380383"
      ]
     },
     "execution_count": 35,
     "metadata": {},
     "output_type": "execute_result"
    }
   ],
   "source": [
    "roc_auc_score(y_test, preds)"
   ]
  },
  {
   "cell_type": "code",
   "execution_count": 36,
   "id": "465aa175",
   "metadata": {},
   "outputs": [
    {
     "data": {
      "text/plain": [
       "0.2628153966719932"
      ]
     },
     "execution_count": 36,
     "metadata": {},
     "output_type": "execute_result"
    }
   ],
   "source": [
    "matthews_corrcoef(y_test, preds)"
   ]
  },
  {
   "cell_type": "code",
   "execution_count": 37,
   "id": "5c7c3622",
   "metadata": {},
   "outputs": [
    {
     "name": "stdout",
     "output_type": "stream",
     "text": [
      "71\n",
      "136\n",
      "top2 acc: 0.5220588235294118\n"
     ]
    }
   ],
   "source": [
    "# 拆分出logits， 计算top-k\n",
    "top2 = 0\n",
    "pre = 0\n",
    "for i in range(len(te_indices)):\n",
    "    if i == 0:\n",
    "        y_preds = logits[:te_indices[i], :][:, 1]\n",
    "        topk_values, topk_indices = find_topk(y_preds, 2)\n",
    "        for a in range(len(test_set[i][1])):\n",
    "            if test_set[i][1][a] == 1 and a in topk_indices:\n",
    "                top2 += 1\n",
    "                break\n",
    "    else:\n",
    "        j = i - 1\n",
    "        pre += te_indices[j]\n",
    "        y_preds = logits[pre:pre + te_indices[i], :][:, 1]\n",
    "        topk_values, topk_indices = find_topk(y_preds, 2)\n",
    "        for a in range(len(test_set[i][1])):\n",
    "            if test_set[i][1][a] == 1 and a in topk_indices:\n",
    "                top2 += 1\n",
    "                break\n",
    "print(top2)\n",
    "print(len(test_set))\n",
    "print(f'top2 acc: {top2 / len(test_set)}')"
   ]
  },
  {
   "cell_type": "markdown",
   "id": "03f67c49",
   "metadata": {},
   "source": [
    "# naive bayes"
   ]
  },
  {
   "cell_type": "code",
   "execution_count": 38,
   "id": "ad423b10",
   "metadata": {},
   "outputs": [
    {
     "data": {
      "text/plain": [
       "GaussianNB()"
      ]
     },
     "execution_count": 38,
     "metadata": {},
     "output_type": "execute_result"
    }
   ],
   "source": [
    "clf = GaussianNB()\n",
    "clf.fit(x_train, y_train)"
   ]
  },
  {
   "cell_type": "code",
   "execution_count": 39,
   "id": "1cd4d83d",
   "metadata": {},
   "outputs": [],
   "source": [
    "preds = clf.predict(x_test)\n",
    "logits = clf.predict_proba(x_test)"
   ]
  },
  {
   "cell_type": "code",
   "execution_count": 40,
   "id": "c98fd7a7",
   "metadata": {},
   "outputs": [
    {
     "data": {
      "text/plain": [
       "0.5688098184243428"
      ]
     },
     "execution_count": 40,
     "metadata": {},
     "output_type": "execute_result"
    }
   ],
   "source": [
    "roc_auc_score(y_test, preds)"
   ]
  },
  {
   "cell_type": "code",
   "execution_count": 41,
   "id": "b1accb74",
   "metadata": {},
   "outputs": [
    {
     "data": {
      "text/plain": [
       "0.11865309672899253"
      ]
     },
     "execution_count": 41,
     "metadata": {},
     "output_type": "execute_result"
    }
   ],
   "source": [
    "matthews_corrcoef(y_test, preds)"
   ]
  },
  {
   "cell_type": "code",
   "execution_count": 42,
   "id": "b9a090ff",
   "metadata": {},
   "outputs": [
    {
     "name": "stdout",
     "output_type": "stream",
     "text": [
      "68\n",
      "136\n",
      "top2 acc: 0.5\n"
     ]
    }
   ],
   "source": [
    "# 拆分出logits， 计算top-k\n",
    "top2 = 0\n",
    "pre = 0\n",
    "for i in range(len(te_indices)):\n",
    "    if i == 0:\n",
    "        y_preds = logits[:te_indices[i], :][:, 1]\n",
    "        topk_values, topk_indices = find_topk(y_preds, 2)\n",
    "        for a in range(len(test_set[i][1])):\n",
    "            if test_set[i][1][a] == 1 and a in topk_indices:\n",
    "                top2 += 1\n",
    "                break\n",
    "    else:\n",
    "        j = i - 1\n",
    "        pre += te_indices[j]\n",
    "        y_preds = logits[pre:pre + te_indices[i], :][:, 1]\n",
    "        topk_values, topk_indices = find_topk(y_preds, 2)\n",
    "        for a in range(len(test_set[i][1])):\n",
    "            if test_set[i][1][a] == 1 and a in topk_indices:\n",
    "                top2 += 1\n",
    "                break\n",
    "print(top2)\n",
    "print(len(test_set))\n",
    "print(f'top2 acc: {top2 / len(test_set)}')"
   ]
  },
  {
   "cell_type": "markdown",
   "id": "88984e2f",
   "metadata": {},
   "source": [
    "# svm"
   ]
  },
  {
   "cell_type": "code",
   "execution_count": 43,
   "id": "2f8d8950",
   "metadata": {},
   "outputs": [
    {
     "data": {
      "text/plain": [
       "GridSearchCV(cv=5, estimator=SVC(class_weight='balanced', random_state=42),\n",
       "             param_grid={'C': [0.0001, 0.0005, 0.001, 0.005, 0.1, 0.5, 1, 10,\n",
       "                               50, 100, 150, 200],\n",
       "                         'degree': [2, 3, 4, 5], 'gamma': ['scale', 'auto'],\n",
       "                         'kernel': ['linear', 'poly', 'rbf', 'sigmoid']},\n",
       "             scoring='roc_auc')"
      ]
     },
     "execution_count": 43,
     "metadata": {},
     "output_type": "execute_result"
    }
   ],
   "source": [
    "# gridsearch\n",
    "Cs = [0.0001, 0.0005, 0.001, 0.005, 0.1, 0.5, 1, 10, 50, 100, 150, 200]\n",
    "kernels = ['linear', 'poly', 'rbf', 'sigmoid']\n",
    "degrees = [2,3,4,5]\n",
    "gammas = ['scale', 'auto']\n",
    "tuned_parameters = dict(C=Cs,kernel=kernels, degree=degrees, gamma = gammas)\n",
    "clf = SVC(random_state=42, class_weight='balanced')\n",
    "grid = GridSearchCV(clf, tuned_parameters, cv=5, scoring='roc_auc')\n",
    "grid.fit(x_train, y_train)"
   ]
  },
  {
   "cell_type": "code",
   "execution_count": 44,
   "id": "bdf58ad0",
   "metadata": {},
   "outputs": [
    {
     "name": "stdout",
     "output_type": "stream",
     "text": [
      "0.778108394027645\n",
      "{'C': 1, 'degree': 2, 'gamma': 'scale', 'kernel': 'linear'}\n"
     ]
    }
   ],
   "source": [
    "print(grid.best_score_)\n",
    "print(grid.best_params_)"
   ]
  },
  {
   "cell_type": "code",
   "execution_count": 45,
   "id": "0465d329",
   "metadata": {},
   "outputs": [],
   "source": [
    "clf = SVC(C=1, degree=2, gamma='scale', kernel='linear',random_state=42, class_weight='balanced', probability=True).fit(x_train, y_train)"
   ]
  },
  {
   "cell_type": "code",
   "execution_count": 46,
   "id": "7dd8c723",
   "metadata": {},
   "outputs": [],
   "source": [
    "preds = clf.predict(x_test)\n",
    "logits = clf.predict_proba(x_test)"
   ]
  },
  {
   "cell_type": "code",
   "execution_count": 47,
   "id": "75c40ac6",
   "metadata": {},
   "outputs": [
    {
     "data": {
      "text/plain": [
       "0.7327093524223313"
      ]
     },
     "execution_count": 47,
     "metadata": {},
     "output_type": "execute_result"
    }
   ],
   "source": [
    "roc_auc_score(y_test, preds)"
   ]
  },
  {
   "cell_type": "code",
   "execution_count": 48,
   "id": "2981a7b9",
   "metadata": {},
   "outputs": [
    {
     "data": {
      "text/plain": [
       "0.27583878973947923"
      ]
     },
     "execution_count": 48,
     "metadata": {},
     "output_type": "execute_result"
    }
   ],
   "source": [
    "matthews_corrcoef(y_test, preds)"
   ]
  },
  {
   "cell_type": "code",
   "execution_count": 49,
   "id": "4121f9be",
   "metadata": {},
   "outputs": [
    {
     "name": "stdout",
     "output_type": "stream",
     "text": [
      "72\n",
      "136\n",
      "top2 acc: 0.5294117647058824\n"
     ]
    }
   ],
   "source": [
    "# 拆分出logits， 计算top-k\n",
    "top2 = 0\n",
    "pre = 0\n",
    "for i in range(len(te_indices)):\n",
    "    if i == 0:\n",
    "        y_preds = logits[:te_indices[i], :][:, 1]\n",
    "        topk_values, topk_indices = find_topk(y_preds, 2)\n",
    "        for a in range(len(test_set[i][1])):\n",
    "            if test_set[i][1][a] == 1 and a in topk_indices:\n",
    "                top2 += 1\n",
    "                break\n",
    "    else:\n",
    "        j = i - 1\n",
    "        pre += te_indices[j]\n",
    "        y_preds = logits[pre:pre + te_indices[i], :][:, 1]\n",
    "        topk_values, topk_indices = find_topk(y_preds, 2)\n",
    "        for a in range(len(test_set[i][1])):\n",
    "            if test_set[i][1][a] == 1 and a in topk_indices:\n",
    "                top2 += 1\n",
    "                break\n",
    "print(top2)\n",
    "print(len(test_set))\n",
    "print(f'top2 acc: {top2 / len(test_set)}')"
   ]
  },
  {
   "cell_type": "code",
   "execution_count": null,
   "id": "6fb7ff57",
   "metadata": {},
   "outputs": [],
   "source": []
  }
 ],
 "metadata": {
  "kernelspec": {
   "display_name": "Python [conda env:pytorch]",
   "language": "python",
   "name": "conda-env-pytorch-py"
  },
  "language_info": {
   "codemirror_mode": {
    "name": "ipython",
    "version": 3
   },
   "file_extension": ".py",
   "mimetype": "text/x-python",
   "name": "python",
   "nbconvert_exporter": "python",
   "pygments_lexer": "ipython3",
   "version": "3.8.11"
  }
 },
 "nbformat": 4,
 "nbformat_minor": 5
}
